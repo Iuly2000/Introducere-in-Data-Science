{
 "cells": [
  {
   "cell_type": "code",
   "execution_count": 10,
   "metadata": {},
   "outputs": [
    {
     "name": "stdout",
     "output_type": "stream",
     "text": [
      "IPywidgets version: 7.5.1\n",
      "NumPy version: 1.19.2\n",
      "Matplotlib version: 3.3.4\n",
      "Pandas version: 1.2.3\n",
      "Scipy version: 1.6.1\n"
     ]
    }
   ],
   "source": [
    "import ipywidgets as wg\n",
    "print(f'IPywidgets version: {wg.__version__}')\n",
    "\n",
    "import numpy as np\n",
    "print(f'NumPy version: {np.__version__}')\n",
    "\n",
    "import matplotlib.pyplot as plt\n",
    "import matplotlib\n",
    "print(f'Matplotlib version: {matplotlib.__version__}')\n",
    "\n",
    "import pandas as pd\n",
    "print(f'Pandas version: {pd.__version__}')\n",
    "\n",
    "import scipy.interpolate as interpolate\n",
    "import scipy as sp\n",
    "print(f'Scipy version: {sp.__version__}')\n",
    "\n",
    "\n",
    "# IPywidgets version: 7.5.1\n",
    "# NumPy version: 1.19.2\n",
    "# Matplotlib version: 3.3.4\n",
    "# Pandas version: 1.2.3\n",
    "# Scipy version: 1.6.1"
   ]
  },
  {
   "cell_type": "markdown",
   "metadata": {},
   "source": [
    "# Problema 1"
   ]
  },
  {
   "cell_type": "code",
   "execution_count": 16,
   "metadata": {},
   "outputs": [
    {
     "data": {
      "application/vnd.jupyter.widget-view+json": {
       "model_id": "0c65d75c8bab4a9c9916d997489dc3d2",
       "version_major": 2,
       "version_minor": 0
      },
      "text/plain": [
       "interactive(children=(IntSlider(value=25, description='x', max=50), FloatSlider(value=0.02, description='alpha…"
      ]
     },
     "metadata": {},
     "output_type": "display_data"
    },
    {
     "data": {
      "text/plain": [
       "<function __main__.gradient_descent(x: float, alpha: float, iterations: int) -> None>"
      ]
     },
     "execution_count": 16,
     "metadata": {},
     "output_type": "execute_result"
    }
   ],
   "source": [
    "def f(x: float) -> float:\n",
    "    return 2 * x ** 3 + 5 * x ** 2 + 3 * x + 4\n",
    "\n",
    "def f_derivative(x: float) -> float:\n",
    "    return 6 * x ** 2 + 10 * x + 3\n",
    "\n",
    "def gradient_descent(x: float, alpha: float, iterations: int) -> None:\n",
    "    old_x: float = 0\n",
    "    mins: float = []\n",
    "    for i in range(0, iterations):\n",
    "        old_x = x \n",
    "        gradient: float = np.clip(f_derivative(old_x), -50, 50)\n",
    "        move: float = gradient * alpha\n",
    "        x = old_x - move\n",
    "        mins.append(f(x))\n",
    "        \n",
    "    plt.grid(axis='both')\n",
    "    plt.plot(mins,'.b')\n",
    "    plt.xlabel('iterations')\n",
    "    plt.ylabel('mins values in function')\n",
    "    plt.show()\n",
    "    \n",
    "wg.interact(gradient_descent, x = (0,50), alpha = (0.01,0.05,0.01), iterations = (10,100));"
   ]
  },
  {
   "cell_type": "markdown",
   "metadata": {},
   "source": [
    "# Problema 2"
   ]
  },
  {
   "cell_type": "code",
   "execution_count": 19,
   "metadata": {},
   "outputs": [
    {
     "data": {
      "application/vnd.jupyter.widget-view+json": {
       "model_id": "853b74e301444f86b1f9ed5adfc5fcbc",
       "version_major": 2,
       "version_minor": 0
      },
      "text/plain": [
       "interactive(children=(IntSlider(value=25, description='a', max=50, min=1), IntSlider(value=0, description='b',…"
      ]
     },
     "metadata": {},
     "output_type": "display_data"
    }
   ],
   "source": [
    "def f(x: int, a: int, b: int) -> int:\n",
    "    return a * x + b\n",
    "def vertical_distance(x: int, y: int, a: int, b: int) -> int:\n",
    "    return abs(y - f(x, a, b))\n",
    "def function(a: int, b: int) -> None:\n",
    "    x_axis: np.ndarray = np.random.uniform(-20, 10, 100)\n",
    "    y_axis: np.ndarray = np.random.uniform(-20, 10, 100)\n",
    "    x_range: np.ndarray = np.linspace(-20, 10, 2)\n",
    "    distances: list = [vertical_distance(x_axis[index], y_axis[index], a, b) for index in range(100)]\n",
    "    plt.plot(x_range, f(x_range, a, b), x_axis, y_axis, '.r')\n",
    "    plt.show()\n",
    "    plt.hist(distances,len(distances))\n",
    "    mse: list = [y_axis[index] - (a * x_axis[index] + b) ** 2 for index in range(100)] \n",
    "    print(1 / 100 * sum(mse));\n",
    "wg.interact(function, a = (1,50), b = (-100, 100));"
   ]
  },
  {
   "cell_type": "markdown",
   "metadata": {},
   "source": [
    "# Problema 3"
   ]
  },
  {
   "cell_type": "code",
   "execution_count": 22,
   "metadata": {},
   "outputs": [
    {
     "data": {
      "application/vnd.jupyter.widget-view+json": {
       "model_id": "e36d60854a074d5c86895efeef3c275e",
       "version_major": 2,
       "version_minor": 0
      },
      "text/plain": [
       "interactive(children=(Dropdown(description='choice1', options=('Min', 'Max', 'Mean', 'SD', 'Class Correlation'…"
      ]
     },
     "metadata": {},
     "output_type": "display_data"
    }
   ],
   "source": [
    "table: pd.core.frame.DataFrame = pd.read_csv('iris.data', names=[\"Min\", \"Max\", \"Mean\", \"SD\", \"Class Correlation\"])\n",
    "    \n",
    "def show_clolumn(choice1: int, choice2: int):\n",
    "    print(table[[choice1, choice2]])\n",
    "    plt.scatter(table[choice1], table[choice2], c=table[\"Class Correlation\"].astype('category').cat.codes)\n",
    "    plt.xlabel(choice1)\n",
    "    plt.ylabel(choice2)\n",
    "\n",
    "choices = table.columns\n",
    "\n",
    "wg.interact(show_clolumn, choice1 = choices, choice2 = choices);"
   ]
  },
  {
   "cell_type": "markdown",
   "metadata": {},
   "source": [
    "# Problema 4"
   ]
  },
  {
   "cell_type": "code",
   "execution_count": 20,
   "metadata": {},
   "outputs": [
    {
     "data": {
      "application/vnd.jupyter.widget-view+json": {
       "model_id": "d3530be0d2ba435e8548eb9d88b5e21e",
       "version_major": 2,
       "version_minor": 0
      },
      "text/plain": [
       "interactive(children=(IntSlider(value=50, description='n', min=1), Dropdown(description='method', options=('kr…"
      ]
     },
     "metadata": {},
     "output_type": "display_data"
    }
   ],
   "source": [
    "def f(x: np.ndarray):\n",
    "    return 2 * x ** 2 - 5 * x + 3 + np.random.uniform(-1, 1, size=x.size)\n",
    "\n",
    "def generate(n: int, method: str):\n",
    "    x_axis = np.sort(np.random.uniform(0, 50, n))\n",
    "    y_axis = f(x_axis)\n",
    "    \n",
    "    x = np.linspace(min(x_axis), max(x_axis), num = n * 2)\n",
    "    if method == \"krogh_interpolate\":\n",
    "        y = interpolate.krogh_interpolate(x_axis, y_axis, x)\n",
    "    elif method == \"barycentric_interpolate\":\n",
    "        y = interpolate.barycentric_interpolate(x_axis, y_axis, x)\n",
    "    elif method == \"pchip_interpolate\":\n",
    "        y = interpolate.pchip_interpolate(x_axis, y_axis, x)\n",
    "    elif method == \"interp1d\":\n",
    "        y = interpolate.interp1d(x_axis, y_axis)(x)\n",
    "    else:\n",
    "        y = interpolate.Akima1DInterpolator(x_axis, y_axis)(x)\n",
    "    \n",
    "    plt.grid(axis = 'both')\n",
    "    plt.plot(x_axis, y_axis, \"o\", label=\"observation\")\n",
    "    plt.plot(x, y, label=\"interpolation\")\n",
    "    \n",
    "wg.interact(generate, n = (1, 100), method = [\"krogh_interpolate\", \"barycentric_interpolate\",\n",
    "                                              \"pchip_interpolate\", \"interp1d\", \"Akima1DInterpolator\"]);"
   ]
  }
 ],
 "metadata": {
  "kernelspec": {
   "display_name": "Python 3",
   "language": "python",
   "name": "python3"
  },
  "language_info": {
   "codemirror_mode": {
    "name": "ipython",
    "version": 3
   },
   "file_extension": ".py",
   "mimetype": "text/x-python",
   "name": "python",
   "nbconvert_exporter": "python",
   "pygments_lexer": "ipython3",
   "version": "3.8.5"
  }
 },
 "nbformat": 4,
 "nbformat_minor": 4
}
