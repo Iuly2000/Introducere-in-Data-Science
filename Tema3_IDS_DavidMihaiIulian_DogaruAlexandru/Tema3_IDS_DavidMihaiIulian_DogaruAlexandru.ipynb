{
 "cells": [
  {
   "cell_type": "code",
   "execution_count": 1,
   "metadata": {},
   "outputs": [
    {
     "name": "stdout",
     "output_type": "stream",
     "text": [
      "IPywidgets version: 7.6.3\n",
      "NumPy version: 1.20.1\n",
      "Matplotlib version: 3.3.4\n",
      "Pandas version: 1.2.3\n",
      "Scipy version: 1.6.1\n"
     ]
    }
   ],
   "source": [
    "import ipywidgets as wg\n",
    "print(f'IPywidgets version: {wg.__version__}')\n",
    "\n",
    "import numpy as np\n",
    "print(f'NumPy version: {np.__version__}')\n",
    "\n",
    "import matplotlib.pyplot as plt\n",
    "import matplotlib\n",
    "print(f'Matplotlib version: {matplotlib.__version__}')\n",
    "\n",
    "import pandas as pd\n",
    "print(f'Pandas version: {pd.__version__}')\n",
    "\n",
    "import scipy.interpolate as interpolate\n",
    "import scipy as sp\n",
    "print(f'Scipy version: {sp.__version__}')\n",
    "\n",
    "\n",
    "# IPywidgets version: 7.5.1\n",
    "# NumPy version: 1.19.2\n",
    "# Matplotlib version: 3.3.4\n",
    "# Pandas version: 1.2.3\n",
    "# Scipy version: 1.6.1"
   ]
  },
  {
   "cell_type": "markdown",
   "metadata": {},
   "source": [
    "# Problema 1"
   ]
  },
  {
   "cell_type": "code",
   "execution_count": 2,
   "metadata": {},
   "outputs": [
    {
     "data": {
      "application/vnd.jupyter.widget-view+json": {
       "model_id": "2d49299d8a9f48758cb716c61851d86a",
       "version_major": 2,
       "version_minor": 0
      },
      "text/plain": [
       "interactive(children=(IntSlider(value=25, description='x', max=50), FloatSlider(value=0.02, description='alpha…"
      ]
     },
     "metadata": {},
     "output_type": "display_data"
    }
   ],
   "source": [
    "def f(x: float) -> float:\n",
    "    \"\"\"\n",
    "    This function returns the function f(x)\n",
    "    \"\"\"\n",
    "    return 2 * x ** 3 + 5 * x ** 2 + 3 * x + 4\n",
    "\n",
    "def f_derivative(x: float) -> float:\n",
    "    \"\"\"\n",
    "    This function returns the derivate of f(x) function\n",
    "    \"\"\"\n",
    "    return 6 * x ** 2 + 10 * x + 3\n",
    "\n",
    "def gradient_descent(x: float, alpha: float, iterations: int) -> None:\n",
    "    \"\"\"\n",
    "    This function decents to the minimal point of the f(x) function and keeps track of the intermediate points\n",
    "    \"\"\"\n",
    "    old_x: float = 0\n",
    "    mins: list[float] = []\n",
    "    for i in range(0, iterations):\n",
    "        old_x = x \n",
    "        gradient: float = np.clip(f_derivative(old_x), -50, 50)\n",
    "        move: float = gradient * alpha\n",
    "        x = old_x - move\n",
    "        mins.append(f(x))\n",
    "        \n",
    "    plt.grid(axis='both')\n",
    "    plt.plot(mins,'.b')\n",
    "    plt.xlabel('iterations')\n",
    "    plt.ylabel('mins values in function')\n",
    "    plt.show()\n",
    "    \n",
    "wg.interact(gradient_descent, x = (0,50), alpha = (0.01,0.05,0.01), iterations = (10,100));"
   ]
  },
  {
   "cell_type": "markdown",
   "metadata": {},
   "source": [
    "# Problema 2"
   ]
  },
  {
   "cell_type": "code",
   "execution_count": 9,
   "metadata": {},
   "outputs": [
    {
     "data": {
      "application/vnd.jupyter.widget-view+json": {
       "model_id": "6270e71658f84d05bc009044f527d4d9",
       "version_major": 2,
       "version_minor": 0
      },
      "text/plain": [
       "interactive(children=(IntSlider(value=25, description='a', max=50, min=1), IntSlider(value=0, description='b',…"
      ]
     },
     "metadata": {},
     "output_type": "display_data"
    }
   ],
   "source": [
    "def f(x: int, a: int, b: int) -> int:\n",
    "    \"\"\"\n",
    "    This function returns the function f(x) with the parameter a and b\n",
    "    \"\"\"\n",
    "    return a * x + b\n",
    "def vertical_distance(x: int, y: int, a: int, b: int) -> int:\n",
    "    \"\"\"\n",
    "    This function return the vertical distance between the point(x,y) and the function f(x)\n",
    "    \"\"\"\n",
    "    return abs(y - f(x, a, b))\n",
    "def function(a: int, b: int) -> None:\n",
    "    \"\"\"\n",
    "    This function draws a graphic of 100 points in (-20,10) interval and the liniar funtion y = a * x +b.\n",
    "    Also, it draws the histrogram of vertical distance between the points and the function y.\n",
    "    \"\"\"\n",
    "    x_axis: np.ndarray = np.random.uniform(-20, 10, 100)\n",
    "    y_axis: np.ndarray = np.random.uniform(-20, 10, 100)\n",
    "    x_range: np.ndarray = np.linspace(-20, 10, 2)\n",
    "    distances: list = [vertical_distance(x_axis[index], y_axis[index], a, b) for index in range(100)]\n",
    "    plt.plot(x_range, f(x_range, a, b), x_axis, y_axis, '.r')\n",
    "    plt.ylabel(\"y\")\n",
    "    plt.xlabel(\"x\")\n",
    "    plt.show()\n",
    "    plt.hist(distances,bins=30,histtype='bar',density=False)\n",
    "    plt.ylabel(\"Count\")\n",
    "    plt.xlabel(\"Distances\")\n",
    "    plt.show()\n",
    "    mse: list = [(y_axis[index] - (a * x_axis[index] + b)) ** 2 for index in range(100)] \n",
    "    print(1 / 100 * sum(mse));\n",
    "wg.interact(function, a = (1,50), b = (-100, 100));"
   ]
  },
  {
   "cell_type": "markdown",
   "metadata": {},
   "source": [
    "# Problema 3"
   ]
  },
  {
   "cell_type": "code",
   "execution_count": 10,
   "metadata": {
    "scrolled": true
   },
   "outputs": [
    {
     "data": {
      "application/vnd.jupyter.widget-view+json": {
       "model_id": "1115d4385b7f40db88b9d49abd8668e3",
       "version_major": 2,
       "version_minor": 0
      },
      "text/plain": [
       "interactive(children=(Dropdown(description='choice1', options=('sepal length in cm', 'sepal width in cm', 'pet…"
      ]
     },
     "metadata": {},
     "output_type": "display_data"
    }
   ],
   "source": [
    "table: pd.core.frame.DataFrame = pd.read_csv('iris.data', names=[\"sepal length in cm\", \"sepal width in cm\", \"petal length in cm\", \"petal width in cm\", \"Class\"])   \n",
    "def show_column(choice1: str, choice2: str)->None:\n",
    "    \"\"\"\n",
    "    This function shows a graph of 2 colums selected with choice1 and choice2 from the iris dataset.\n",
    "    \"\"\"\n",
    "    print(table[[choice1, choice2]])    \n",
    "    plt.scatter(table[choice1], table[choice2], c=table[\"Class\"].astype('category').cat.codes)\n",
    "    plt.xlabel(choice1)\n",
    "    plt.ylabel(choice2)\n",
    "    plt.show()    \n",
    "    table[[choice1,choice2]].plot(kind='bar', figsize=(10,5))\n",
    "choices = table.columns[:4]\n",
    "wg.interact(show_column, choice1 = choices, choice2 = choices);"
   ]
  },
  {
   "cell_type": "markdown",
   "metadata": {},
   "source": [
    "# Problema 4"
   ]
  },
  {
   "cell_type": "code",
   "execution_count": 5,
   "metadata": {},
   "outputs": [
    {
     "data": {
      "application/vnd.jupyter.widget-view+json": {
       "model_id": "c6ba8457e7644568b95e967d6eef38f2",
       "version_major": 2,
       "version_minor": 0
      },
      "text/plain": [
       "interactive(children=(IntSlider(value=51, description='n', min=2), Dropdown(description='method', options=('kr…"
      ]
     },
     "metadata": {},
     "output_type": "display_data"
    }
   ],
   "source": [
    "def f(x: np.ndarray)->np.ndarray:\n",
    "    \"\"\"\n",
    "    This function returns an array with every element f(x)\n",
    "    \"\"\"\n",
    "    return 2 * x ** 2 - 5 * x + 3 + np.random.uniform(-1, 1, size=x.size)\n",
    "\n",
    "def generate(n: int, method: str):\n",
    "    \"\"\"\n",
    "    This method shows 5 different intrapolate methods for n random numbers generated with a function\n",
    "    \"\"\"\n",
    "    x_axis = np.sort(np.random.uniform(0, 50, n))\n",
    "    y_axis = f(x_axis)\n",
    "   \n",
    "   \n",
    "    x = np.linspace(min(x_axis), max(x_axis), num = n * 2)\n",
    "    \n",
    "    if method == \"krogh_interpolate\":\n",
    "        y = interpolate.krogh_interpolate(x_axis, y_axis, x)\n",
    "    elif method == \"barycentric_interpolate\":\n",
    "        y = interpolate.barycentric_interpolate(x_axis, y_axis, x)\n",
    "    elif method == \"pchip_interpolate\":\n",
    "        y = interpolate.pchip_interpolate(x_axis, y_axis, x)\n",
    "    elif method == \"interp1d\":\n",
    "        y = interpolate.interp1d(x_axis, y_axis)(x)\n",
    "    else:\n",
    "        y = interpolate.Akima1DInterpolator(x_axis, y_axis)(x)\n",
    "    \n",
    "    plt.grid(axis = 'both')\n",
    "    plt.plot(x_axis, y_axis, \"o\", label=\"observation\")\n",
    "    plt.plot(x, y, label=\"interpolation\")\n",
    "\n",
    "wg.interact(generate, n = (2, 100), method = [\"krogh_interpolate\", \"barycentric_interpolate\",\n",
    "                                              \"pchip_interpolate\", \"interp1d\", \"Akima1DInterpolator\"]);"
   ]
  },
  {
   "cell_type": "code",
   "execution_count": null,
   "metadata": {},
   "outputs": [],
   "source": []
  }
 ],
 "metadata": {
  "kernelspec": {
   "display_name": "Python 3",
   "language": "python",
   "name": "python3"
  },
  "language_info": {
   "codemirror_mode": {
    "name": "ipython",
    "version": 3
   },
   "file_extension": ".py",
   "mimetype": "text/x-python",
   "name": "python",
   "nbconvert_exporter": "python",
   "pygments_lexer": "ipython3",
   "version": "3.8.5"
  }
 },
 "nbformat": 4,
 "nbformat_minor": 4
}
