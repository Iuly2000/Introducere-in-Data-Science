{
 "cells": [
  {
   "cell_type": "code",
   "execution_count": 52,
   "metadata": {},
   "outputs": [
    {
     "name": "stdout",
     "output_type": "stream",
     "text": [
      "IPywidgets version: 7.5.1\n",
      "NumPy version: 1.19.2\n",
      "Matplotlib version: 3.3.4\n",
      "Pandas version: 1.2.3\n",
      "Scipy version: 1.6.1\n"
     ]
    }
   ],
   "source": [
    "import ipywidgets as wg\n",
    "print(f'IPywidgets version: {wg.__version__}')\n",
    "\n",
    "import numpy as np\n",
    "print(f'NumPy version: {np.__version__}')\n",
    "\n",
    "import matplotlib.pyplot as plt\n",
    "import matplotlib\n",
    "print(f'Matplotlib version: {matplotlib.__version__}')\n",
    "\n",
    "import pandas as pd\n",
    "print(f'Pandas version: {pd.__version__}')\n",
    "\n",
    "import scipy as sp\n",
    "print(f'Scipy version: {sp.__version__}')"
   ]
  },
  {
   "cell_type": "markdown",
   "metadata": {},
   "source": [
    "# Problema 1"
   ]
  },
  {
   "cell_type": "code",
   "execution_count": 4,
   "metadata": {},
   "outputs": [
    {
     "data": {
      "application/vnd.jupyter.widget-view+json": {
       "model_id": "59aa838620a24d0d896f0f1457a1b09b",
       "version_major": 2,
       "version_minor": 0
      },
      "text/plain": [
       "interactive(children=(IntSlider(value=25, description='x', max=50), FloatSlider(value=0.02, description='alpha…"
      ]
     },
     "metadata": {},
     "output_type": "display_data"
    },
    {
     "data": {
      "text/plain": [
       "<function __main__.gradient_descent(x: float, alpha: float, iterations: int) -> None>"
      ]
     },
     "execution_count": 4,
     "metadata": {},
     "output_type": "execute_result"
    }
   ],
   "source": [
    "def f(x: float) -> float:\n",
    "    return 2 * x ** 3 + 5 * x ** 2 + 3 * x + 4\n",
    "\n",
    "def f_derivative(x: float) -> float:\n",
    "    return 6 * x ** 2 + 10 * x + 3\n",
    "\n",
    "def gradient_descent(x: float, alpha: float, iterations: int) -> None:\n",
    "    old_x: float = 0\n",
    "    mins: float = []\n",
    "    for i in range(0, iterations):\n",
    "        old_x = x \n",
    "        gradient: float = np.clip(f_derivative(old_x), -50, 50)\n",
    "        move: float = gradient * alpha\n",
    "        x = old_x - move\n",
    "        mins.append(f(x))\n",
    "        \n",
    "    plt.grid(axis='both')\n",
    "    plt.plot(mins,'.b')\n",
    "    plt.xlabel('iterations')\n",
    "    plt.ylabel('mins values in function')\n",
    "    plt.show()\n",
    "    \n",
    "wg.interact(gradient_descent, x = (0,50), alpha = (0.01,0.05,0.01), iterations = (10,100))"
   ]
  },
  {
   "cell_type": "markdown",
   "metadata": {},
   "source": [
    "# Problema 2"
   ]
  },
  {
   "cell_type": "code",
   "execution_count": 5,
   "metadata": {},
   "outputs": [
    {
     "data": {
      "application/vnd.jupyter.widget-view+json": {
       "model_id": "201fcca92b1d4a5fa1e7cd38f2f016c9",
       "version_major": 2,
       "version_minor": 0
      },
      "text/plain": [
       "interactive(children=(IntSlider(value=25, description='a', max=50, min=1), IntSlider(value=0, description='b',…"
      ]
     },
     "metadata": {},
     "output_type": "display_data"
    },
    {
     "data": {
      "text/plain": [
       "<function __main__.function(a: int, b: int) -> None>"
      ]
     },
     "execution_count": 5,
     "metadata": {},
     "output_type": "execute_result"
    }
   ],
   "source": [
    "def f(x: int, a: int, b: int) -> int:\n",
    "    return a * x + b\n",
    "def vertical_distance(x: int, y: int, a: int, b: int) -> int:\n",
    "    return abs(y - f(x, a, b))\n",
    "def function(a: int, b: int) -> None:\n",
    "    x_axis: np.ndarray = np.random.uniform(-20, 10, 100)\n",
    "    y_axis: np.ndarray = np.random.uniform(-20, 10, 100)\n",
    "    x_range: np.ndarray = np.linspace(-20, 10, 2)\n",
    "    distances: list = [vertical_distance(x_axis[index], y_axis[index], a, b) for index in range(100)]\n",
    "    plt.plot(x_range, f(x_range, a, b), x_axis, y_axis, '.r')\n",
    "    plt.show()\n",
    "    plt.hist(distances,len(distances))\n",
    "    mse: list = [y_axis[index] - (a * x_axis[index] + b) ** 2 for index in range(100)] \n",
    "    print(1 / 100 * sum(mse));\n",
    "wg.interact(function, a = (1,50), b = (-100, 100))"
   ]
  },
  {
   "cell_type": "markdown",
   "metadata": {},
   "source": [
    "# Problema 3"
   ]
  },
  {
   "cell_type": "code",
   "execution_count": 6,
   "metadata": {},
   "outputs": [
    {
     "data": {
      "application/vnd.jupyter.widget-view+json": {
       "model_id": "ccdcc9a306314b8798432bd9371bb9f9",
       "version_major": 2,
       "version_minor": 0
      },
      "text/plain": [
       "interactive(children=(Dropdown(description='choice1', options=(('Min', 0), ('Max', 1), ('Mean', 2), ('SD', 3),…"
      ]
     },
     "metadata": {},
     "output_type": "display_data"
    },
    {
     "data": {
      "text/plain": [
       "<function __main__.show_clolumn(choice1: int, choice2: int)>"
      ]
     },
     "execution_count": 6,
     "metadata": {},
     "output_type": "execute_result"
    }
   ],
   "source": [
    "table: pd.core.frame.DataFrame = pd.read_csv('iris.data', header = None)\n",
    "    \n",
    "def show_clolumn(choice1: int, choice2: int):\n",
    "    print(table[[choice1, choice2]])\n",
    "\n",
    "choices: list = [(\"Min\", 0), (\"Max\", 1), (\"Mean\", 2),(\"SD\", 3), (\"Class Correlation\", 4)]\n",
    "\n",
    "wg.interact(show_clolumn, choice1 = choices, choice2 = choices)"
   ]
  },
  {
   "cell_type": "markdown",
   "metadata": {},
   "source": [
    "# Problema 4"
   ]
  },
  {
   "cell_type": "code",
   "execution_count": 62,
   "metadata": {},
   "outputs": [
    {
     "data": {
      "application/vnd.jupyter.widget-view+json": {
       "model_id": "e06b3db2629746b9af033c0582c72526",
       "version_major": 2,
       "version_minor": 0
      },
      "text/plain": [
       "interactive(children=(IntSlider(value=50, description='n', min=1), Dropdown(description='method', options=(('m…"
      ]
     },
     "metadata": {},
     "output_type": "display_data"
    },
    {
     "data": {
      "text/plain": [
       "<function __main__.generate(n: int, method: int)>"
      ]
     },
     "execution_count": 62,
     "metadata": {},
     "output_type": "execute_result"
    }
   ],
   "source": [
    "def f(x: float):\n",
    "    return 2 * x ** 2 - 5 * x + 3 + np.random.uniform(0, 50)\n",
    "\n",
    "def generate(n: int, method: int):\n",
    "    x_axis = np.random.uniform(0, 50, n)\n",
    "    y_axis = f(x_axis)\n",
    "    \n",
    "    x = np.linspace(min(x_axis), max(x_axis), num=n)\n",
    "    y = krogh_interpolate(x_axis, y_axis, x)\n",
    "    \n",
    "    plt.plot(x_axis, y_axis, \"o\", label=\"observation\")\n",
    "    plt.plot(x, y, label=\"krogh interpolation\")\n",
    "    \n",
    "#     if method == 1:\n",
    "#         print()\n",
    "#     elif method == 2:\n",
    "        \n",
    "#     elif method == 3:\n",
    "        \n",
    "#     elif method == 4:\n",
    "        \n",
    "#     else:\n",
    "    \n",
    "#     plt.grid(axis = 'both')\n",
    "#     plt.plot(x_axis, y_axis,'.b')\n",
    "#     plt.plot(sp.interpolate.KroghInterpolator(x_axis, y_axis),'.r')\n",
    "#     plt.show()\n",
    "    \n",
    "wg.interact(generate, n = (1, 100), method = [(\"met1\", 0), (\"met2\", 1), (\"met3\", 2),(\"met4\", 3), (\"met5\", 4)])"
   ]
  },
  {
   "cell_type": "code",
   "execution_count": 59,
   "metadata": {},
   "outputs": [
    {
     "data": {
      "image/png": "[encoded data removed]",
      "text/plain": [
       "<Figure size 432x288 with 1 Axes>"
      ]
     },
     "metadata": {
      "needs_background": "light"
     },
     "output_type": "display_data"
    }
   ],
   "source": [
    "import matplotlib.pyplot as plt\n",
    "from scipy.interpolate import krogh_interpolate\n",
    "x_observed = np.linspace(0.0, 10.0, 11)\n",
    "y_observed = np.sin(x_observed)\n",
    "x = np.linspace(min(x_observed), max(x_observed), num=100)\n",
    "y = krogh_interpolate(x_observed, y_observed, x)\n",
    "plt.plot(x_observed, y_observed, \"o\", label=\"observation\")\n",
    "plt.plot(x, y, label=\"krogh interpolation\")\n",
    "plt.legend()\n",
    "plt.show()"
   ]
  }
 ],
 "metadata": {
  "kernelspec": {
   "display_name": "Python 3",
   "language": "python",
   "name": "python3"
  },
  "language_info": {
   "codemirror_mode": {
    "name": "ipython",
    "version": 3
   },
   "file_extension": ".py",
   "mimetype": "text/x-python",
   "name": "python",
   "nbconvert_exporter": "python",
   "pygments_lexer": "ipython3",
   "version": "3.8.5"
  }
 },
 "nbformat": 4,
 "nbformat_minor": 4
}
