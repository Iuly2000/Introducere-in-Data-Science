{
 "cells": [
  {
   "cell_type": "markdown",
   "metadata": {},
   "source": [
    "Folositi urmatoarele seturi de date:\n",
    "1. [CPU Computer Hardware](https://archive.ics.uci.edu/ml/datasets/Computer+Hardware); excludeti din dataset coloanele: vendor name, model name, estimated relative performance; se va estima coloana \"published relative performance\".\n",
    "1. [Boston Housing](http://archive.ics.uci.edu/ml/machine-learning-databases/housing/)\n",
    "1. [Wisconsin Breast Cancer](http://www.dcc.fc.up.pt/~ltorgo/Regression/DataSets.html); cautati in panelul din stanga Wisconsin Breast Cancer si urmati pasii din \"My personal Notes\"\n",
    "1. [Communities and Crime](http://archive.ics.uci.edu/ml/datasets/communities+and+crime); stergeti primele 5 dimensiuni si trasaturile cu missing values."
   ]
  },
  {
   "cell_type": "code",
   "execution_count": 51,
   "metadata": {},
   "outputs": [
    {
     "name": "stdout",
     "output_type": "stream",
     "text": [
      "NumPy version: 1.19.2\n",
      "Pandas version: 1.2.3\n",
      "Sklearn version: 0.24.1\n"
     ]
    }
   ],
   "source": [
    "import numpy as np\n",
    "print(f'NumPy version: {np.__version__}')\n",
    "\n",
    "import pandas as pd\n",
    "print(f'Pandas version: {pd.__version__}')\n",
    "\n",
    "import sklearn as sk\n",
    "from sklearn.impute import SimpleImputer\n",
    "print(f'Sklearn version: {sk.__version__}')\n",
    "\n",
    "#NumPy version: 1.19.2\n",
    "#Pandas version: 1.2.3\n",
    "#Sklearn version: 0.24.1"
   ]
  },
  {
   "cell_type": "code",
   "execution_count": 39,
   "metadata": {},
   "outputs": [],
   "source": [
    "machine: pd.core.frame.DataFrame = pd.read_csv(\"Data/machine.data\", header=None)\n",
    "x_machine: np.array = machine.iloc[:, 2:8].values\n",
    "y_machine: np.array = machine.iloc[:, 8].values\n",
    "y_machine = y_machine.reshape(y_machine.shape[0])"
   ]
  },
  {
   "cell_type": "code",
   "execution_count": 40,
   "metadata": {
    "scrolled": false
   },
   "outputs": [],
   "source": [
    "housing: pd.core.frame.DataFrame = pd.read_csv(\"Data/housing.data\", delim_whitespace=True, header=None)\n",
    "x_housing: np.array = housing.iloc[:, :-1].values\n",
    "y_housing: np.array = housing.iloc[:, -1].values\n",
    "y_housing = y_housing.reshape(y_housing.shape[0])"
   ]
  },
  {
   "cell_type": "code",
   "execution_count": 41,
   "metadata": {
    "scrolled": false
   },
   "outputs": [],
   "source": [
    "r_wpbc: pd.core.frame.DataFrame = pd.read_csv(\"Data/r_wpbc.data\", header=None)\n",
    "x_r_wpbc: np.array = r_wpbc.iloc[:, 1:].values\n",
    "y_r_wpbc: np.array = r_wpbc.iloc[:, 1].values\n",
    "y_r_wpbc = y_r_wpbc.reshape(y_r_wpbc.shape[0])"
   ]
  },
  {
   "cell_type": "code",
   "execution_count": 97,
   "metadata": {
    "scrolled": false
   },
   "outputs": [
    {
     "name": "stdout",
     "output_type": "stream",
     "text": [
      "       0     1        2     4     5     6     7     8     9     10   ...  \\\n",
      "0      8.0   NaN      NaN   1.0  0.19  0.33  0.02  0.90  0.12  0.17  ...   \n",
      "1     53.0   NaN      NaN   1.0  0.00  0.16  0.12  0.74  0.45  0.07  ...   \n",
      "2     24.0   NaN      NaN   1.0  0.00  0.42  0.49  0.56  0.17  0.04  ...   \n",
      "3     34.0   5.0  81440.0   1.0  0.04  0.77  1.00  0.08  0.12  0.10  ...   \n",
      "4     42.0  95.0   6096.0   1.0  0.01  0.55  0.02  0.95  0.09  0.05  ...   \n",
      "...    ...   ...      ...   ...   ...   ...   ...   ...   ...   ...  ...   \n",
      "1989  12.0   NaN      NaN  10.0  0.01  0.40  0.10  0.87  0.12  0.16  ...   \n",
      "1990   6.0   NaN      NaN  10.0  0.05  0.96  0.46  0.28  0.83  0.32  ...   \n",
      "1991   9.0   9.0  80070.0  10.0  0.16  0.37  0.25  0.69  0.04  0.25  ...   \n",
      "1992  25.0  17.0  72600.0  10.0  0.08  0.51  0.06  0.87  0.22  0.10  ...   \n",
      "1993   6.0   NaN      NaN  10.0  0.20  0.78  0.14  0.46  0.24  0.77  ...   \n",
      "\n",
      "       118   119   120   121   122   123  124   125   126   127  \n",
      "0     0.12  0.26  0.20  0.06  0.04  0.90  0.5  0.32  0.14  0.20  \n",
      "1     0.02  0.12  0.45   NaN   NaN   NaN  NaN  0.00   NaN  0.67  \n",
      "2     0.01  0.21  0.02   NaN   NaN   NaN  NaN  0.00   NaN  0.43  \n",
      "3     0.02  0.39  0.28   NaN   NaN   NaN  NaN  0.00   NaN  0.12  \n",
      "4     0.04  0.09  0.02   NaN   NaN   NaN  NaN  0.00   NaN  0.03  \n",
      "...    ...   ...   ...   ...   ...   ...  ...   ...   ...   ...  \n",
      "1989  0.01  0.28  0.05   NaN   NaN   NaN  NaN  0.00   NaN  0.09  \n",
      "1990  0.02  0.37  0.20   NaN   NaN   NaN  NaN  0.00   NaN  0.45  \n",
      "1991  0.08  0.32  0.18  0.08  0.06  0.78  0.0  0.91  0.28  0.23  \n",
      "1992  0.03  0.38  0.33  0.02  0.02  0.79  0.0  0.22  0.18  0.19  \n",
      "1993  0.11  0.30  0.05  0.08  0.04  0.73  0.5  1.00  0.13  0.48  \n",
      "\n",
      "[1994 rows x 127 columns]\n"
     ]
    }
   ],
   "source": [
    "communities: pd.core.frame.DataFrame = pd.read_csv(\"Data/communities.data\", header=None)\n",
    "x_communities: np.array = communities.iloc[:, 1:].drop([3], axis=1).values\n",
    "y_communities: np.array = communities.iloc[:, 0].values\n",
    "y_communities = y_communities.reshape(y_communities.shape[0])\n",
    "\n",
    "# imp = SimpleImputer(missing_values = np.nan, strategy=\"most_frequent\")\n",
    "# euxoqwxnqwxqw = imp.fit_transform(x_communities)\n",
    "\n",
    "\n",
    "iowxnnxq=communities.copy()\n",
    "iowxnnxq=iowxnnxq.drop([3], axis=1).replace('?', np.nan).astype('float64')\n",
    "print(iowxnnxq)"
   ]
  }
 ],
 "metadata": {
  "kernelspec": {
   "display_name": "Python 3",
   "language": "python",
   "name": "python3"
  },
  "language_info": {
   "codemirror_mode": {
    "name": "ipython",
    "version": 3
   },
   "file_extension": ".py",
   "mimetype": "text/x-python",
   "name": "python",
   "nbconvert_exporter": "python",
   "pygments_lexer": "ipython3",
   "version": "3.8.5"
  }
 },
 "nbformat": 4,
 "nbformat_minor": 4
}
