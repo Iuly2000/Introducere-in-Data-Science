{
 "cells": [
  {
   "cell_type": "markdown",
   "metadata": {},
   "source": [
    "Folositi urmatoarele seturi de date:\n",
    "1. [CPU Computer Hardware](https://archive.ics.uci.edu/ml/datasets/Computer+Hardware); excludeti din dataset coloanele: vendor name, model name, estimated relative performance; se va estima coloana \"published relative performance\".\n",
    "1. [Boston Housing](http://archive.ics.uci.edu/ml/machine-learning-databases/housing/)\n",
    "1. [Wisconsin Breast Cancer](http://www.dcc.fc.up.pt/~ltorgo/Regression/DataSets.html); cautati in panelul din stanga Wisconsin Breast Cancer si urmati pasii din \"My personal Notes\"\n",
    "1. [Communities and Crime](http://archive.ics.uci.edu/ml/datasets/communities+and+crime); stergeti primele 5 dimensiuni si trasaturile cu missing values."
   ]
  },
  {
   "cell_type": "code",
   "execution_count": 274,
   "metadata": {},
   "outputs": [
    {
     "name": "stdout",
     "output_type": "stream",
     "text": [
      "NumPy version: 1.20.1\n",
      "Pandas version: 1.2.3\n",
      "Sklearn version: 0.24.1\n"
     ]
    }
   ],
   "source": [
    "import numpy as np\n",
    "print(f'NumPy version: {np.__version__}')\n",
    "\n",
    "import pandas as pd\n",
    "print(f'Pandas version: {pd.__version__}')\n",
    "\n",
    "import sklearn as sk\n",
    "from sklearn.impute import SimpleImputer\n",
    "from sklearn.linear_model import SGDRegressor\n",
    "from sklearn.model_selection import GridSearchCV\n",
    "from sklearn.model_selection import cross_validate\n",
    "print(f'Sklearn version: {sk.__version__}')\n",
    "\n",
    "#NumPy version: 1.19.2\n",
    "#Pandas version: 1.2.3\n",
    "#Sklearn version: 0.24.1"
   ]
  },
  {
   "cell_type": "code",
   "execution_count": 275,
   "metadata": {},
   "outputs": [],
   "source": [
    "machine: pd.core.frame.DataFrame = pd.read_csv(\"Data/machine.data\", header=None)\n",
    "x_machine: np.array = machine.iloc[:, 2:8].values\n",
    "y_machine: np.array = machine.iloc[:, 8].values\n",
    "y_machine = y_machine.reshape(y_machine.shape[0])"
   ]
  },
  {
   "cell_type": "code",
   "execution_count": 276,
   "metadata": {
    "scrolled": false
   },
   "outputs": [],
   "source": [
    "housing: pd.core.frame.DataFrame = pd.read_csv(\"Data/housing.data\", delim_whitespace=True, header=None)\n",
    "x_housing: np.array = housing.iloc[:, :-1].values\n",
    "y_housing: np.array = housing.iloc[:, -1].values\n",
    "y_housing = y_housing.reshape(y_housing.shape[0])"
   ]
  },
  {
   "cell_type": "code",
   "execution_count": 277,
   "metadata": {
    "scrolled": false
   },
   "outputs": [],
   "source": [
    "r_wpbc: pd.core.frame.DataFrame = pd.read_csv(\"Data/r_wpbc.data\", header=None)\n",
    "x_r_wpbc: np.array = r_wpbc.iloc[:, 1:].values\n",
    "y_r_wpbc: np.array = r_wpbc.iloc[:, 1].values\n",
    "y_r_wpbc = y_r_wpbc.reshape(y_r_wpbc.shape[0])"
   ]
  },
  {
   "cell_type": "code",
   "execution_count": 278,
   "metadata": {
    "scrolled": false
   },
   "outputs": [],
   "source": [
    "communities: pd.core.frame.DataFrame = pd.read_csv(\"Data/communities.data\", header=None)\n",
    "communities = communities.replace('?', np.nan)    \n",
    "x_communities: np.array = communities.iloc[:, 1:].drop([3], axis=1).values\n",
    "y_communities: np.array = communities.iloc[:, 0].values\n",
    "y_communities = y_communities.reshape(y_communities.shape[0])\n",
    "\n",
    "imp = SimpleImputer(missing_values = np.nan, strategy=\"median\")\n",
    "x_communities = imp.fit_transform(x_communities)"
   ]
  },
  {
   "cell_type": "code",
   "execution_count": 279,
   "metadata": {},
   "outputs": [],
   "source": [
    "def show_metrics_regression(reg, parameter_grid: dict, x: np.array, y: np.array) -> None:\n",
    "    \"\"\"\n",
    "    Shows the metrics(accuracy, precision, f1, recall) of a classifier.\n",
    "    \n",
    "    Args:\n",
    "        clf: a classifier\n",
    "        x: np.array containning the dataset information\n",
    "        y: np.array containning the classification of the data\n",
    "        \n",
    "    Returns:\n",
    "        None\n",
    "    \"\"\"\n",
    "    src = GridSearchCV(estimator = reg, \n",
    "            param_grid=parameter_grid, cv=3, return_train_score=True)\n",
    "    \n",
    "    scoring = ['neg_mean_absolute_error', 'neg_mean_squared_error', 'neg_median_absolute_error']\n",
    "    scores = cross_validate(src, x, y, cv=5, scoring=scoring, return_train_score=True)\n",
    "    df = pd.DataFrame(data={'train_mean_absolute_error': scores['train_neg_mean_absolute_error'],\n",
    "                            'train_mean_squared_error': scores['train_neg_mean_squared_error'],\n",
    "                            'train_median_absolute_error': scores['train_neg_median_absolute_error'],                           \n",
    "                            'test_mean_absolute_error': scores['test_neg_mean_absolute_error'],\n",
    "                            'test_mean_squared_error': scores['test_neg_mean_squared_error'],\n",
    "                            'test_median_absolute_error': scores['test_neg_median_absolute_error'],                           \n",
    "                           })\n",
    "    df.loc['mean'] = df.mean()\n",
    "    #with pd.option_context('expand_frame_repr', False):\n",
    "    print (df)"
   ]
  },
  {
   "cell_type": "code",
   "execution_count": 280,
   "metadata": {},
   "outputs": [
    {
     "name": "stdout",
     "output_type": "stream",
     "text": [
      "Metrics for SGDRegressor:\n",
      "\n",
      "Machine_Dataset:\n",
      "      train_mean_absolute_error  train_mean_squared_error  \\\n",
      "0                 -18743.622230             -6.552600e+08   \n",
      "1                  -9006.914201             -1.625023e+08   \n",
      "2                 -36259.311146             -2.662193e+09   \n",
      "3                  -6639.252161             -9.938287e+07   \n",
      "4                  -5518.129658             -5.745560e+07   \n",
      "mean              -15233.445879             -7.273587e+08   \n",
      "\n",
      "      train_median_absolute_error  test_mean_absolute_error  \\\n",
      "0                   -13425.696922             -23656.240652   \n",
      "1                    -5603.727098              -5289.994570   \n",
      "2                   -24031.548401             -31413.671054   \n",
      "3                    -4563.821870              -7610.564811   \n",
      "4                    -3991.880113              -8170.894850   \n",
      "mean                -10323.334881             -15228.273187   \n",
      "\n",
      "      test_mean_squared_error  test_median_absolute_error  \n",
      "0               -1.337825e+09               -12275.334094  \n",
      "1               -4.062643e+07                -5538.891972  \n",
      "2               -1.949443e+09               -14409.025112  \n",
      "3               -8.012684e+07                -6828.774674  \n",
      "4               -1.622424e+08                -4008.525731  \n",
      "mean            -7.140527e+08                -8612.110317  \n",
      "\n",
      "WPBC_Dataset:\n",
      "      train_mean_absolute_error  train_mean_squared_error  \\\n",
      "0                    -15.121647               -386.422421   \n",
      "1                   -160.087055             -31919.056834   \n",
      "2                   -130.822603             -19614.768725   \n",
      "3                   -206.447986             -48774.226998   \n",
      "4                   -114.775573             -15505.887206   \n",
      "mean                -125.450973             -23240.072437   \n",
      "\n",
      "      train_median_absolute_error  test_mean_absolute_error  \\\n",
      "0                      -11.895678                -19.460952   \n",
      "1                     -147.879900               -153.045336   \n",
      "2                     -124.422601               -133.851223   \n",
      "3                     -192.164209               -235.412022   \n",
      "4                     -109.661513               -129.721546   \n",
      "mean                  -117.204780               -134.298216   \n",
      "\n",
      "      test_mean_squared_error  test_median_absolute_error  \n",
      "0                 -553.012336                  -15.545026  \n",
      "1               -27958.203686                 -140.360062  \n",
      "2               -20953.346180                 -124.257856  \n",
      "3               -60292.644425                 -233.456429  \n",
      "4               -19943.073701                 -114.933158  \n",
      "mean            -25940.056066                 -125.710506  \n",
      "\n",
      "Housing_Dataset:\n",
      "      train_mean_absolute_error  train_mean_squared_error  \\\n",
      "0                     -7.080010                -90.928063   \n",
      "1                    -16.475208               -335.990307   \n",
      "2                    -13.490931               -231.351165   \n",
      "3                    -22.198164               -684.061524   \n",
      "4                     -7.618013                -81.635166   \n",
      "mean                 -13.372466               -284.793245   \n",
      "\n",
      "      train_median_absolute_error  test_mean_absolute_error  \\\n",
      "0                       -5.423009                 -6.477509   \n",
      "1                      -15.685173                -13.896124   \n",
      "2                      -13.359348                 -7.623175   \n",
      "3                      -19.853859                -31.857671   \n",
      "4                       -7.075984                -10.119473   \n",
      "mean                   -12.279475                -13.994790   \n",
      "\n",
      "      test_mean_squared_error  test_median_absolute_error  \n",
      "0                  -67.275446                   -5.893862  \n",
      "1                 -239.643034                  -14.671943  \n",
      "2                  -75.093297                   -7.550978  \n",
      "3                -1262.359325                  -30.033403  \n",
      "4                 -126.186333                   -9.603841  \n",
      "mean              -354.111487                  -13.550805  \n",
      "\n",
      "Communities_Dataset:\n",
      "      train_mean_absolute_error  train_mean_squared_error  \\\n",
      "0                 -15334.440247             -2.621031e+08   \n",
      "1                 -38876.859045             -1.684892e+09   \n",
      "2                 -37204.374914             -1.554655e+09   \n",
      "3                 -58542.505359             -3.836166e+09   \n",
      "4                  -6737.924704             -5.068437e+07   \n",
      "mean              -31339.220854             -1.477700e+09   \n",
      "\n",
      "      train_median_absolute_error  test_mean_absolute_error  \\\n",
      "0                   -15523.316401             -15034.249178   \n",
      "1                   -39594.771925             -39212.732076   \n",
      "2                   -37997.558162             -38079.163470   \n",
      "3                   -59649.714489             -59280.588028   \n",
      "4                    -6833.272191              -6566.589846   \n",
      "mean                -31919.726633             -31634.664520   \n",
      "\n",
      "      test_mean_squared_error  test_median_absolute_error  \n",
      "0               -2.546856e+08               -15520.640544  \n",
      "1               -1.735237e+09               -39596.918266  \n",
      "2               -1.588913e+09               -38006.126475  \n",
      "3               -3.898266e+09               -59653.620706  \n",
      "4               -4.862039e+07                -6830.164904  \n",
      "mean            -1.505144e+09               -31921.494179  \n"
     ]
    }
   ],
   "source": [
    "print(\"Metrics for SGDRegressor:\")\n",
    "parameter_grid_SGDRegressor = {'max_iter':[2000],\n",
    "            'loss': ['squared_loss','huber','epsilon_insensitive','squared_epsilon_insensitive']}\n",
    "print(\"\\nMachine_Dataset:\")\n",
    "show_metrics_regression(SGDRegressor(), parameter_grid_SGDRegressor, x_machine, y_machine);\n",
    "print(\"\\nWPBC_Dataset:\")\n",
    "show_metrics_regression(SGDRegressor(), parameter_grid_SGDRegressor, x_r_wpbc, y_r_wpbc);\n",
    "print(\"\\nHousing_Dataset:\")\n",
    "show_metrics_regression(SGDRegressor(), parameter_grid_SGDRegressor, x_housing, y_housing);\n",
    "print(\"\\nCommunities_Dataset:\")\n",
    "show_metrics_regression(SGDRegressor(), parameter_grid_SGDRegressor, x_communities, y_communities);"
   ]
  },
  {
   "cell_type": "code",
   "execution_count": null,
   "metadata": {},
   "outputs": [],
   "source": []
  }
 ],
 "metadata": {
  "kernelspec": {
   "display_name": "Python 3",
   "language": "python",
   "name": "python3"
  },
  "language_info": {
   "codemirror_mode": {
    "name": "ipython",
    "version": 3
   },
   "file_extension": ".py",
   "mimetype": "text/x-python",
   "name": "python",
   "nbconvert_exporter": "python",
   "pygments_lexer": "ipython3",
   "version": "3.8.5"
  }
 },
 "nbformat": 4,
 "nbformat_minor": 4
}
