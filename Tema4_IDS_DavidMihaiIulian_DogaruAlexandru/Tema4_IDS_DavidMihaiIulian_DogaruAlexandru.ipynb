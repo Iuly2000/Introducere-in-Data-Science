{
 "cells": [
  {
   "cell_type": "markdown",
   "metadata": {},
   "source": [
    "## Modele de clasificare\n",
    "Folositi 4 seturi de date pentru probleme de clasificare, plecand de la repository-urile specificate in Cursul 6. Cel putin un set de date sa fie cu valori lipsa; pentru un alt set de date care are initial toate valorile, introduceti dvs. in mod artificial valori lipsa, suprascriind un anumit procent din valorile initiale (ex. p=5%, p parametru) cu numpy.nan."
   ]
  },
  {
   "cell_type": "code",
   "execution_count": 1059,
   "metadata": {},
   "outputs": [
    {
     "name": "stdout",
     "output_type": "stream",
     "text": [
      "NumPy version: 1.20.1\n",
      "Pandas version: 1.2.3\n",
      "Sklearn version: 0.24.1\n"
     ]
    }
   ],
   "source": [
    "import numpy as np\n",
    "print(f'NumPy version: {np.__version__}')\n",
    "\n",
    "import pandas as pd\n",
    "print(f'Pandas version: {pd.__version__}')\n",
    "\n",
    "from sklearn.preprocessing import LabelEncoder\n",
    "from sklearn.neighbors import KNeighborsClassifier\n",
    "from sklearn.impute import SimpleImputer\n",
    "from sklearn.linear_model import LogisticRegression\n",
    "from sklearn.model_selection import cross_validate\n",
    "from sklearn.naive_bayes import GaussianNB\n",
    "from sklearn.ensemble import RandomForestClassifier\n",
    "from sklearn.tree import DecisionTreeClassifier\n",
    "import sklearn as sk\n",
    "print(f'Sklearn version: {sk.__version__}')\n",
    "\n",
    "#NumPy version: 1.20.1\n",
    "#Pandas version: 1.2.3\n",
    "#Sklearn version: 0.24.1"
   ]
  },
  {
   "cell_type": "code",
   "execution_count": 1060,
   "metadata": {},
   "outputs": [],
   "source": [
    "le=LabelEncoder()"
   ]
  },
  {
   "cell_type": "code",
   "execution_count": 1061,
   "metadata": {},
   "outputs": [],
   "source": [
    "iris: pd.core.frame.DataFrame = pd.read_csv(\"Data/iris.data\", header=None)\n",
    "x_iris: np.array = iris.iloc[:, :-1].values\n",
    "y_iris: np.array = iris[[4]].apply(le.fit_transform).values\n",
    "y_iris = y_iris.reshape(y_iris.shape[0])"
   ]
  },
  {
   "cell_type": "code",
   "execution_count": 1062,
   "metadata": {},
   "outputs": [],
   "source": [
    "wine:pd.core.frame.DataFrame = pd.read_csv(\"Data/wine.data\", header=None)\n",
    "x_wine: np.array = wine.iloc[:, 1:].values\n",
    "y_wine: np.array = wine.iloc[:, 0].values"
   ]
  },
  {
   "cell_type": "code",
   "execution_count": 1063,
   "metadata": {},
   "outputs": [],
   "source": [
    "wdbc: pd.core.frame.DataFrame = pd.read_csv(\"Data/wdbc.data\", header=None)  \n",
    "x_wdbc: np.array = wdbc.iloc[:, 2:].values\n",
    "y_wdbc: np.array = wdbc[[1]].apply(le.fit_transform).values\n",
    "y_wdbc = y_wdbc.reshape(y_wdbc.shape[0])"
   ]
  },
  {
   "cell_type": "code",
   "execution_count": 1064,
   "metadata": {},
   "outputs": [],
   "source": [
    "abalone: pd.core.frame.DataFrame = pd.read_csv(\"Data/abalone.data\", header=None) \n",
    "x_abalone: np.array = abalone.iloc[:, 1:].values\n",
    "y_abalone: np.array = abalone[[0]].apply(le.fit_transform).values\n",
    "y_abalone = y_abalone.reshape(y_abalone.shape[0])"
   ]
  },
  {
   "cell_type": "markdown",
   "metadata": {},
   "source": [
    "1. (20 puncte) Aplicati o metoda de missing value imputation, unde este cazul; documentati metoda folosita.\n",
    "*Resurse*: Pentru missing value imputation, puteti urmari [Imputation of missing values](https://scikit-learn.org/stable/modules/impute.html), [How to Handle Missing Data with Python](https://machinelearningmastery.com/handle-missing-data-python/), [fancyimpute](https://github.com/iskandr/fancyimpute), [missingpy](https://github.com/epsilon-machine/missingpy).\n",
    "\n",
    "*Cerinta*: In cazul in care folositi un pachet ce trebuie instalat (nu face parte din distributia standard anaconda), includeti intr-o celula o comanda de instalare corespunzatoare folosind semn de exclamare, de exemplu:\n",
    "```python\n",
    "!pip install missingpy\n",
    "```\n",
    "(sursa: [https://github.com/epsilon-machine/missingpy](https://github.com/epsilon-machine/missingpy)). La executia celulei in Jupyter Notebook se instaleaza pachetul, iar in celulele ulterioare importurile din noul pachet functioneaza. "
   ]
  },
  {
   "cell_type": "code",
   "execution_count": 1065,
   "metadata": {},
   "outputs": [],
   "source": [
    "def random_nans(data_set: np.array, percentage: int = 5) -> np.array:\n",
    "    \"\"\"\n",
    "    Adding NaN values in a dataset.\n",
    "    \n",
    "    Args:\n",
    "        data_set:the numpy.ndarray containing the dataset\n",
    "        percentage:the percentage(from dataset size) of Nans values to be added in the dataset\n",
    "        \n",
    "    Returns:\n",
    "        the modified dataset\n",
    "    \"\"\"\n",
    "    result_set: np.array = data_set.copy()\n",
    "    choice: np.array = np.random.choice(result_set.size, int(percentage / 100 * result_set.size), replace=False)\n",
    "    rows, cols = np.unravel_index(choice, result_set.shape)   \n",
    "    result_set[rows, cols] = np.nan\n",
    "    return result_set"
   ]
  },
  {
   "cell_type": "code",
   "execution_count": 1066,
   "metadata": {},
   "outputs": [],
   "source": [
    "x_iris = random_nans(x_iris)\n",
    "x_wine = random_nans(x_wine)\n",
    "x_wdbc = random_nans(x_wdbc)\n",
    "x_abalone = random_nans(x_abalone)"
   ]
  },
  {
   "cell_type": "code",
   "execution_count": 1080,
   "metadata": {},
   "outputs": [
    {
     "name": "stdout",
     "output_type": "stream",
     "text": [
      "[2 2 0 ... 2 0 2]\n"
     ]
    }
   ],
   "source": [
    "imp = SimpleImputer(missing_values = np.nan, strategy=\"most_frequent\")\n",
    "x_iris = imp.fit_transform(x_iris)\n",
    "x_wine = imp.fit_transform(x_wine)\n",
    "x_wdbc = imp.fit_transform(x_wdbc)\n",
    "x_abalone = imp.fit_transform(x_abalone)"
   ]
  },
  {
   "cell_type": "markdown",
   "metadata": {},
   "source": [
    "2. (numar de modele * numar de seturi de date \\* 1 punct = 20 de puncte) Pentru fiecare set de date aplicati 5 modele de clasificare din scikit learn. Pentru fiecare raportati: acuratete, precision, recall, scorul F1 - a se vedea [sklearn.metrics](http://scikit-learn.org/stable/modules/classes.html#module-sklearn.metrics), [Precision and recall](https://en.wikipedia.org/wiki/Precision_and_recall) - folosind 5 fold cross validation. Raportati mediile rezultatelor atat pentru fold-urile de antrenare, cat si pentru cele de testare. Rularile se vor face cu valori fixate ale hiperparametrilor. "
   ]
  },
  {
   "cell_type": "code",
   "execution_count": 1068,
   "metadata": {},
   "outputs": [],
   "source": [
    "#  x_iris_train, x_iris_test, y_iris_train, y_iris_test =train_test_split(\n",
    "#     x_iris, y_iris, test_size=1/3, random_state=20, shuffle=True)\n",
    "\n",
    "# x_wine_train, x_wine_test, y_wine_train, y_wine_test = train_test_split(\n",
    "#     x_wine, y_wine, test_size=1/3, random_state=20, shuffle=True)\n",
    "\n",
    "# x_wdbc_train, x_wdbc_test, y_wdbc_train, y_wdbc_test = train_test_split(\n",
    "#     x_wdbc, y_wdbc, test_size=1/3, random_state=20, shuffle=True)\n",
    "\n",
    "# x_abalone_train, x_abalone_test, y_abalone_train, y_abalone_test = train_test_split(\n",
    "#     x_abalone, y_abalone, test_size=1/3, random_state=20, shuffle=True)"
   ]
  },
  {
   "cell_type": "code",
   "execution_count": 1069,
   "metadata": {},
   "outputs": [],
   "source": [
    "# def KNeighbours(x, y, n_neighbors=5):\n",
    "#     model_5 = KNeighborsClassifier(n_neighbors=n_neighbors)\n",
    "#     model_5.fit(x, y)\n",
    "#     y_pred = model_5.predict(x)\n",
    "#     return y_pred"
   ]
  },
  {
   "cell_type": "code",
   "execution_count": 1070,
   "metadata": {},
   "outputs": [],
   "source": [
    "# print(f'KNeighbours: {round(accuracy_score(y_iris_train, KNeighbours(x_iris_train, y_iris_train)) * 100, 2)}% accuracy for iris_train')\n",
    "# print(f'KNeighbours: {round(accuracy_score(y_wine_train, KNeighbours(x_wine_train, y_wine_train)) * 100, 2)}% accuracy for wine_train')\n",
    "# print(f'KNeighbours: {round(accuracy_score(y_wdbc_train, KNeighbours(x_wdbc_train, y_wdbc_train)) * 100, 2)}% accuracy for wdbc_train')\n",
    "# print(f'KNeighbours: {round(accuracy_score(y_abalone_train, KNeighbours(x_abalone_train, y_abalone_train)) * 100, 2)}% accuracy for abalone_train')"
   ]
  },
  {
   "cell_type": "code",
   "execution_count": 1071,
   "metadata": {},
   "outputs": [],
   "source": [
    "# print(f'KNeighbours: {round(accuracy_score(y_iris_test, KNeighbours(x_iris_test, y_iris_test)) * 100, 2)} % accuracy for iris_test')\n",
    "# print(f'KNeighbours: {round(accuracy_score(y_wine_test, KNeighbours(x_wine_test, y_wine_test)) * 100, 2)} % accuracy for wine_test')\n",
    "# print(f'KNeighbours: {round(accuracy_score(y_wdbc_test, KNeighbours(x_wdbc_test, y_wdbc_test)) * 100, 2)} % accuracy for wdbc_test')\n",
    "# print(f'KNeighbours: {round(accuracy_score(y_abalone_test, KNeighbours(x_abalone_test, y_abalone_test)) * 100, 2)} % accuracy for abalone_test')"
   ]
  },
  {
   "cell_type": "code",
   "execution_count": 1072,
   "metadata": {},
   "outputs": [],
   "source": [
    "# print(f'KNeighbours: {precision_score(y_iris_train, KNeighbours(x_iris_train, y_iris_train, 5), average=None) * 100} precision for iris_train')\n",
    "# print(f'KNeighbours: {precision_score(y_wine_train, KNeighbours(x_wine_train, y_wine_train, 5), average=None) * 100} precision for wine_train')\n",
    "# print(f'KNeighbours: {precision_score(y_wdbc_train, KNeighbours(x_wdbc_train, y_wdbc_train, 5), average=None) * 100} precision for wdbc_train')\n",
    "# print(f'KNeighbours: {precision_score(y_abalone_train, KNeighbours(x_abalone_train, y_abalone_train, 5), average=None) * 100} precision for abalone_train')"
   ]
  },
  {
   "cell_type": "code",
   "execution_count": 1073,
   "metadata": {},
   "outputs": [],
   "source": [
    "# def LRegression(x,y):\n",
    "#     logreg = LogisticRegression(solver='sag', multi_class='multinomial', max_iter=10000)\n",
    "#     logreg.fit(x, y)\n",
    "#     y_pred = logreg.predict(X_test)\n",
    "#     return y_pred"
   ]
  },
  {
   "cell_type": "code",
   "execution_count": 1074,
   "metadata": {},
   "outputs": [],
   "source": [
    "def show_metrics_classifier(clf,x,y):\n",
    "    scoring=['recall_macro','precision_macro','accuracy','f1_macro']\n",
    "    scores = cross_validate(clf,x, y, cv=5,scoring=scoring,return_train_score=True)\n",
    "    print('train_accuracy:',scores['train_accuracy'],'average:',scores['train_accuracy'].mean()) \n",
    "    print('train_recall:',scores['train_recall_macro'],'average:',scores['train_recall_macro'].mean()) \n",
    "    print('train_precision:',scores['train_precision_macro'],'average:',scores['train_precision_macro'].mean()) \n",
    "    print('train_f1:',scores['train_f1_macro'],'average:',scores['train_f1_macro'].mean()) \n",
    "    print('test_accuracy:',scores['test_accuracy'],'average:',scores['test_accuracy'].mean()) \n",
    "    print('test_recall:',scores['test_recall_macro'],'average:',scores['test_recall_macro'].mean()) \n",
    "    print('test_precision:',scores['test_precision_macro'],'average:',scores['test_precision_macro'].mean()) \n",
    "    print('test_f1:',scores['test_f1_macro'],'average:',scores['test_f1_macro'].mean(),'\\n')  "
   ]
  },
  {
   "cell_type": "code",
   "execution_count": 1075,
   "metadata": {},
   "outputs": [
    {
     "name": "stdout",
     "output_type": "stream",
     "text": [
      "Metrics for KNeighborsClassifier:\n",
      "\n",
      "Iris_Dataset:\n",
      "train_accuracy: [0.95833333 0.96666667 0.96666667 0.95833333 0.95833333] average: 0.9616666666666667\n",
      "train_recall: [0.95833333 0.96666667 0.96666667 0.95833333 0.95833333] average: 0.9616666666666667\n",
      "train_precision: [0.95998324 0.96741855 0.96702172 0.95868839 0.95851574] average: 0.962325526605462\n",
      "train_f1: [0.95827466 0.96664582 0.96644257 0.95810923 0.95832682] average: 0.9615598204967579\n",
      "test_accuracy: [0.96666667 1.         0.83333333 0.9        1.        ] average: 0.9400000000000001\n",
      "test_recall: [0.96666667 1.         0.83333333 0.9        1.        ] average: 0.9400000000000001\n",
      "test_precision: [0.96969697 1.         0.83611111 0.90740741 1.        ] average: 0.9426430976430977\n",
      "test_f1: [0.96658312 1.         0.82895623 0.89952153 1.        ] average: 0.9390121769069136 \n",
      "\n",
      "Wine_Dataset:\n",
      "train_accuracy: [0.78169014 0.78169014 0.79577465 0.7972028  0.76223776] average: 0.7837190978036048\n",
      "train_recall: [0.76906806 0.76359338 0.79078014 0.78931098 0.75312882] average: 0.7731762747020305\n",
      "train_precision: [0.7775559  0.7738686  0.797923   0.79260225 0.75635823] average: 0.7796615951497847\n",
      "train_f1: [0.77233848 0.76275359 0.79376574 0.79073925 0.7512722 ] average: 0.7741738491667235\n",
      "test_accuracy: [0.72222222 0.63888889 0.69444444 0.65714286 0.77142857] average: 0.6968253968253968\n",
      "test_recall: [0.71984127 0.63492063 0.67301587 0.63227513 0.74814815] average: 0.6816402116402116\n",
      "test_precision: [0.71814297 0.62962963 0.67361111 0.69298246 0.73809524] average: 0.6904922806238597\n",
      "test_f1: [0.71825397 0.62748038 0.67037037 0.64575163 0.73586207] average: 0.6795436846886262 \n",
      "\n",
      "Wdbc_Dataset:\n",
      "train_accuracy: [0.94505495 0.93626374 0.93846154 0.92307692 0.93859649] average: 0.9362907268170426\n",
      "train_recall: [0.93571813 0.92388381 0.92832817 0.91486068 0.92719046] average: 0.9259962495232799\n",
      "train_precision: [0.94618644 0.93924192 0.93967161 0.9200627  0.9411265 ] average: 0.9372578323197883\n",
      "train_f1: [0.94049145 0.93059829 0.93343783 0.91732641 0.93334447] average: 0.9310396896141434\n",
      "test_accuracy: [0.85087719 0.92982456 0.92982456 0.94736842 0.89380531] average: 0.9103400093153237\n",
      "test_recall: [0.81149689 0.9207337  0.92460317 0.93849206 0.89118042] average: 0.8973012493566046\n",
      "test_precision: [0.87738095 0.92916806 0.92460317 0.94797297 0.88422266] average: 0.91266956403151\n",
      "test_f1: [0.82872293 0.92460317 0.92460317 0.94286669 0.88737542] average: 0.9016342775175602 \n",
      "\n",
      "Abalone_Dataset:\n",
      "train_accuracy: [0.68452559 0.65878479 0.6861161  0.67504488 0.67444644] average: 0.6757835613636213\n",
      "train_recall: [0.68850717 0.66304438 0.6901299  0.67952126 0.67872637] average: 0.6799858142983578\n",
      "train_precision: [0.68270688 0.65772063 0.68434614 0.674175   0.67200651] average: 0.6741910294442912\n",
      "train_f1: [0.68393615 0.65812319 0.68515225 0.67471759 0.67277566] average: 0.6749409653735858\n",
      "test_accuracy: [0.51196172 0.5645933  0.49101796 0.53293413 0.52934132] average: 0.5259696874194196\n",
      "test_recall: [0.52000986 0.56714672 0.49552721 0.5350477  0.53350573] average: 0.5302474440432741\n",
      "test_precision: [0.50265011 0.55709245 0.48911951 0.53404936 0.52490431] average: 0.5215631472978287\n",
      "test_f1: [0.50203039 0.56123556 0.4911798  0.53448868 0.52838465] average: 0.5234638169489468 \n",
      "\n"
     ]
    }
   ],
   "source": [
    "print(\"Metrics for KNeighborsClassifier:\\n\")\n",
    "print(\"Iris_Dataset:\")\n",
    "show_metrics_classifier(KNeighborsClassifier(n_neighbors=5),x_iris,y_iris) \n",
    "print(\"Wine_Dataset:\")\n",
    "show_metrics_classifier(KNeighborsClassifier(n_neighbors=5),x_wine ,y_wine )\n",
    "print(\"Wdbc_Dataset:\")\n",
    "show_metrics_classifier(KNeighborsClassifier(n_neighbors=5),x_wdbc ,y_wdbc )\n",
    "print(\"Abalone_Dataset:\")\n",
    "show_metrics_classifier(KNeighborsClassifier(n_neighbors=5),x_abalone ,y_abalone )"
   ]
  },
  {
   "cell_type": "code",
   "execution_count": 1076,
   "metadata": {},
   "outputs": [
    {
     "name": "stdout",
     "output_type": "stream",
     "text": [
      "Metrics for LogisticRegression:\n",
      "\n",
      "Iris_Dataset:\n",
      "train_accuracy: [0.925      0.89166667 0.95       0.95833333 0.89166667] average: 0.9233333333333335\n",
      "train_recall: [0.925      0.89166667 0.95       0.95833333 0.89166667] average: 0.9233333333333335\n",
      "train_precision: [0.92646135 0.89180738 0.95071011 0.95851574 0.89180738] average: 0.9238603903797802\n",
      "train_f1: [0.92489438 0.89164974 0.94996873 0.95832682 0.89164974] average: 0.9232978817915252\n",
      "test_accuracy: [0.8        0.96666667 0.9        0.86666667 1.        ] average: 0.9066666666666666\n",
      "test_recall: [0.8        0.96666667 0.9        0.86666667 1.        ] average: 0.9066666666666666\n",
      "test_precision: [0.80555556 0.96969697 0.9023569  0.875      1.        ] average: 0.9105218855218855\n",
      "test_f1: [0.7979798  0.96658312 0.89974937 0.86531987 1.        ] average: 0.9059264322422218 \n",
      "\n",
      "Wine_Dataset:\n",
      "train_accuracy: [0.92957746 0.93661972 0.9084507  0.91608392 0.90909091] average: 0.9199645424997538\n",
      "train_recall: [0.92777156 0.93193978 0.90437974 0.91405136 0.90728022] average: 0.9170845314322357\n",
      "train_precision: [0.9400095  0.94543437 0.92006985 0.92345132 0.91798684] average: 0.9293903777209949\n",
      "train_f1: [0.93296318 0.93746611 0.91071805 0.91804678 0.91155757] average: 0.9221503364189875\n",
      "test_accuracy: [0.72222222 0.86111111 0.91666667 0.94285714 1.        ] average: 0.8885714285714286\n",
      "test_recall: [0.71984127 0.85396825 0.91507937 0.93518519 1.        ] average: 0.8848148148148148\n",
      "test_precision: [0.74444444 0.88194444 0.92777778 0.95833333 1.        ] average: 0.9025000000000001\n",
      "test_f1: [0.72118477 0.86296296 0.9201956  0.94367718 1.        ] average: 0.8896041036274169 \n",
      "\n",
      "Wdbc_Dataset:\n",
      "train_accuracy: [0.92087912 0.90989011 0.90989011 0.90989011 0.91008772] average: 0.9121274339695391\n",
      "train_recall: [0.90196342 0.88838085 0.8877193  0.88890609 0.88895516] average: 0.8911849641189962\n",
      "train_precision: [0.92911255 0.91916756 0.9210373  0.91918799 0.91935913] average: 0.9215729054737027\n",
      "train_f1: [0.91273494 0.90016643 0.90016643 0.90046685 0.90058228] average: 0.9028233883993663\n",
      "test_accuracy: [0.84210526 0.90350877 0.92982456 0.90350877 0.92920354] average: 0.9016301816488121\n",
      "test_recall: [0.80445463 0.88584998 0.91468254 0.87400794 0.91934943] average: 0.879668904902282\n",
      "test_precision: [0.86125146 0.90789474 0.93421053 0.92312009 0.92825342] average: 0.9109460470089719\n",
      "test_f1: [0.81993682 0.8946838  0.92297297 0.89071895 0.92344173] average: 0.8903508562042415 \n",
      "\n",
      "Abalone_Dataset:\n",
      "train_accuracy: [0.55701886 0.54295121 0.55415919 0.53351287 0.54159186] average: 0.5458467965331444\n",
      "train_recall: [0.5494053  0.53817379 0.54827454 0.52897808 0.53642127] average: 0.5402505949957078\n",
      "train_precision: [0.55712209 0.54157606 0.55088731 0.52817637 0.53582843] average: 0.5427180526137707\n",
      "train_f1: [0.52401893 0.51960602 0.52618876 0.50960349 0.51624324] average: 0.5191320883639127\n",
      "test_accuracy: [0.49282297 0.58014354 0.51137725 0.57125749 0.54491018] average: 0.5401022834713347\n",
      "test_recall: [0.4979508  0.56876234 0.50840765 0.56291954 0.53683734] average: 0.5349755326057442\n",
      "test_precision: [0.47783466 0.58712379 0.50549797 0.57036025 0.54905906] average: 0.5379751451751881\n",
      "test_f1: [0.46838763 0.53601967 0.49589744 0.54142433 0.51294927] average: 0.5109356696454455 \n",
      "\n"
     ]
    }
   ],
   "source": [
    "print(\"Metrics for LogisticRegression:\\n\")\n",
    "print(\"Iris_Dataset:\")\n",
    "show_metrics_classifier(LogisticRegression(solver='sag', multi_class='multinomial', max_iter=10000),x_iris,y_iris) \n",
    "print(\"Wine_Dataset:\")\n",
    "show_metrics_classifier(LogisticRegression(solver='sag', multi_class='multinomial', max_iter=10000),x_wine ,y_wine )\n",
    "print(\"Wdbc_Dataset:\")\n",
    "show_metrics_classifier(LogisticRegression(solver='sag', multi_class='multinomial', max_iter=10000),x_wdbc ,y_wdbc )\n",
    "print(\"Abalone_Dataset:\")\n",
    "show_metrics_classifier(LogisticRegression(solver='sag', multi_class='multinomial', max_iter=10000),x_abalone ,y_abalone )"
   ]
  },
  {
   "cell_type": "code",
   "execution_count": 1077,
   "metadata": {},
   "outputs": [
    {
     "name": "stdout",
     "output_type": "stream",
     "text": [
      "Metrics for GaussianNB:\n",
      "\n",
      "Iris_Dataset:\n",
      "train_accuracy: [0.95       0.93333333 0.94166667 0.93333333 0.95      ] average: 0.9416666666666668\n",
      "train_recall: [0.95       0.93333333 0.94166667 0.93333333 0.95      ] average: 0.9416666666666667\n",
      "train_precision: [0.95071011 0.93602694 0.94322229 0.93400167 0.95071011] average: 0.9429342232279808\n",
      "train_f1: [0.94996873 0.93316625 0.94158452 0.93329164 0.94996873] average: 0.941595974075056\n",
      "test_accuracy: [0.86666667 0.96666667 0.9        0.86666667 0.93333333] average: 0.9066666666666666\n",
      "test_recall: [0.86666667 0.96666667 0.9        0.86666667 0.93333333] average: 0.9066666666666666\n",
      "test_precision: [0.875      0.96969697 0.92307692 0.875      0.94444444] average: 0.9174436674436673\n",
      "test_f1: [0.86531987 0.96658312 0.89769821 0.86531987 0.93265993] average: 0.9055161994992391 \n",
      "\n",
      "Wine_Dataset:\n",
      "train_accuracy: [0.97887324 0.97887324 0.97887324 0.97202797 0.97902098] average: 0.977533733871762\n",
      "train_recall: [0.98121189 0.98121189 0.98245614 0.9741197  0.98115079] average: 0.9800300840754368\n",
      "train_precision: [0.97840841 0.97738095 0.97560976 0.97204393 0.97767923] average: 0.9762244565401914\n",
      "train_f1: [0.97972924 0.9790192  0.97833276 0.97272438 0.97914889] average: 0.977790895280109\n",
      "test_accuracy: [0.97222222 0.94444444 0.97222222 0.91428571 0.94285714] average: 0.9492063492063492\n",
      "test_recall: [0.97619048 0.95238095 0.97222222 0.91666667 0.95555556] average: 0.9546031746031746\n",
      "test_precision: [0.96969697 0.94405594 0.97777778 0.94117647 0.93939394] average: 0.9544202203025733\n",
      "test_f1: [0.97178131 0.94515263 0.97401299 0.92012289 0.94285714] average: 0.9507853908984956 \n",
      "\n",
      "Wdbc_Dataset:\n",
      "train_accuracy: [0.93406593 0.94725275 0.93406593 0.93846154 0.94078947] average: 0.9389271255060729\n",
      "train_recall: [0.92455621 0.93867671 0.92244582 0.92951496 0.93132456] average: 0.9293036526068199\n",
      "train_precision: [0.93352558 0.9479444  0.93616545 0.93841908 0.94154121] average: 0.9395191450137347\n",
      "train_f1: [0.92868339 0.94294671 0.9284951  0.93360987 0.9359787 ] average: 0.9339427528061744\n",
      "test_accuracy: [0.92105263 0.90350877 0.95614035 0.94736842 0.9380531 ] average: 0.9332246545567457\n",
      "test_recall: [0.91369145 0.88584998 0.95039683 0.93849206 0.9361167 ] average: 0.9249094047489068\n",
      "test_precision: [0.91765873 0.90789474 0.95506181 0.94797297 0.9320598 ] average: 0.9321296103060682\n",
      "test_f1: [0.91559029 0.8946838  0.95263814 0.94286669 0.93400083] average: 0.9279559507171389 \n",
      "\n",
      "Abalone_Dataset:\n",
      "train_accuracy: [0.550434   0.50942831 0.52274087 0.51286655 0.52004788] average: 0.5231035225802916\n",
      "train_recall: [0.55709463 0.5277228  0.54311666 0.53068287 0.5348426 ] average: 0.5386919103934302\n",
      "train_precision: [0.53896303 0.48831369 0.50760057 0.48923049 0.50034552] average: 0.5048906590507327\n",
      "train_f1: [0.54327921 0.47463015 0.47884927 0.48094817 0.49932898] average: 0.49540715378043665\n",
      "test_accuracy: [0.48564593 0.5430622  0.48502994 0.54491018 0.5245509 ] average: 0.5166398303870727\n",
      "test_recall: [0.49794619 0.56057405 0.50392953 0.56250396 0.53954598] average: 0.5328999412023888\n",
      "test_precision: [0.46807393 0.53435374 0.47198901 0.53349475 0.50697699] average: 0.5029776820810372\n",
      "test_f1: [0.4516146  0.52277739 0.44742971 0.52178766 0.50792087] average: 0.4903060489558396 \n",
      "\n"
     ]
    }
   ],
   "source": [
    "print(\"Metrics for GaussianNB:\\n\")\n",
    "print(\"Iris_Dataset:\")\n",
    "show_metrics_classifier(GaussianNB(),x_iris,y_iris) \n",
    "print(\"Wine_Dataset:\")\n",
    "show_metrics_classifier(GaussianNB(),x_wine ,y_wine )\n",
    "print(\"Wdbc_Dataset:\")\n",
    "show_metrics_classifier(GaussianNB(),x_wdbc ,y_wdbc )\n",
    "print(\"Abalone_Dataset:\")\n",
    "show_metrics_classifier(GaussianNB(),x_abalone ,y_abalone )"
   ]
  },
  {
   "cell_type": "code",
   "execution_count": 1078,
   "metadata": {},
   "outputs": [
    {
     "name": "stdout",
     "output_type": "stream",
     "text": [
      "Metrics for RandomForestClassifier:\n",
      "\n",
      "Iris_Dataset:\n",
      "train_accuracy: [0.96666667 0.99166667 0.99166667 0.96666667 0.975     ] average: 0.9783333333333333\n",
      "train_recall: [0.96666667 0.99166667 0.99166667 0.96666667 0.975     ] average: 0.9783333333333333\n",
      "train_precision: [0.96741855 0.99186992 0.99186992 0.96666667 0.97519283] average: 0.9786035758564642\n",
      "train_f1: [0.96664582 0.99166536 0.99166536 0.96666667 0.97499609] average: 0.9783278617740556\n",
      "test_accuracy: [0.93333333 0.93333333 0.83333333 0.93333333 1.        ] average: 0.9266666666666667\n",
      "test_recall: [0.93333333 0.93333333 0.83333333 0.93333333 1.        ] average: 0.9266666666666665\n",
      "test_precision: [0.93333333 0.94444444 0.83712121 0.94444444 1.        ] average: 0.931868686868687\n",
      "test_f1: [0.93333333 0.93265993 0.83068783 0.93265993 1.        ] average: 0.9258682058682058 \n",
      "\n",
      "Wine_Dataset:\n",
      "train_accuracy: [1.         0.99295775 1.         0.99300699 0.99300699] average: 0.9957943464985718\n",
      "train_recall: [1.         0.99122807 1.         0.9929078  0.99404762] average: 0.9956366981282996\n",
      "train_precision: [1.         0.99305556 1.         0.99425287 0.99319728] average: 0.9961011416060677\n",
      "train_f1: [1.         0.99204678 1.         0.99351722 0.99356057] average: 0.9958249148781142\n",
      "test_accuracy: [0.86111111 0.88888889 0.88888889 1.         0.97142857] average: 0.922063492063492\n",
      "test_recall: [0.86746032 0.90079365 0.87777778 1.         0.97777778] average: 0.9247619047619047\n",
      "test_precision: [0.86033411 0.89063714 0.92592593 1.         0.97222222] average: 0.9298238798238797\n",
      "test_f1: [0.86287478 0.89284493 0.89099327 1.         0.97401299] average: 0.9241451943765787 \n",
      "\n",
      "Wdbc_Dataset:\n",
      "train_accuracy: [0.98241758 0.98681319 0.97802198 0.98021978 0.98026316] average: 0.981547137073453\n",
      "train_recall: [0.97875202 0.98224852 0.97414861 0.97590299 0.97710819] average: 0.9776320646885066\n",
      "train_precision: [0.98359457 0.98972603 0.97885313 0.98187043 0.98063734] average: 0.9829362984370349\n",
      "train_f1: [0.98107951 0.98577354 0.97640825 0.97874108 0.9788208 ] average: 0.9801646344837487\n",
      "test_accuracy: [0.90350877 0.93859649 0.98245614 0.95614035 0.94690265] average: 0.9455208818506444\n",
      "test_recall: [0.89043564 0.9231903  0.97619048 0.95039683 0.93343394] average: 0.9347294360478114\n",
      "test_precision: [0.9027027  0.94736842 0.98648649 0.95506181 0.95350877] average: 0.9490256386127452\n",
      "test_f1: [0.89580391 0.9329806  0.98095556 0.95263814 0.94195205] average: 0.9408660522920593 \n",
      "\n",
      "Abalone_Dataset:\n",
      "train_accuracy: [0.61538462 0.58695001 0.62148414 0.59545183 0.59814482] average: 0.6034830840592669\n",
      "train_recall: [0.61344515 0.58476315 0.62287814 0.59319052 0.59538217] average: 0.6019318270018255\n",
      "train_precision: [0.61504564 0.5849133  0.61763535 0.59912838 0.59680948] average: 0.6027064316714229\n",
      "train_f1: [0.60553796 0.57639861 0.61392828 0.58226607 0.58492448] average: 0.5926110812314376\n",
      "test_accuracy: [0.48086124 0.56339713 0.5245509  0.56287425 0.54371257] average: 0.535079219551328\n",
      "test_recall: [0.48307756 0.55633111 0.52630021 0.56015763 0.54061587] average: 0.5332964768178794\n",
      "test_precision: [0.46282019 0.5503881  0.51688645 0.55111883 0.54184897] average: 0.5246125078945731\n",
      "test_f1: [0.45160304 0.54073142 0.51783986 0.54700788 0.53057311] average: 0.51755106183716 \n",
      "\n"
     ]
    }
   ],
   "source": [
    "\n",
    "print(\"Metrics for RandomForestClassifier:\\n\")\n",
    "print(\"Iris_Dataset:\")\n",
    "show_metrics_classifier(RandomForestClassifier(max_depth=5, n_estimators=10, max_features=1),x_iris,y_iris) \n",
    "print(\"Wine_Dataset:\")\n",
    "show_metrics_classifier(RandomForestClassifier(max_depth=5, n_estimators=10, max_features=1),x_wine ,y_wine )\n",
    "print(\"Wdbc_Dataset:\")\n",
    "show_metrics_classifier(RandomForestClassifier(max_depth=5, n_estimators=10, max_features=1),x_wdbc ,y_wdbc )\n",
    "print(\"Abalone_Dataset:\")\n",
    "show_metrics_classifier(RandomForestClassifier(max_depth=5, n_estimators=10, max_features=1),x_abalone ,y_abalone )"
   ]
  },
  {
   "cell_type": "code",
   "execution_count": 1079,
   "metadata": {},
   "outputs": [
    {
     "name": "stdout",
     "output_type": "stream",
     "text": [
      "Metrics for DecisionTreeClassifier:\n",
      "\n",
      "Iris_Dataset:\n",
      "train_accuracy: [1. 1. 1. 1. 1.] average: 1.0\n",
      "train_recall: [1. 1. 1. 1. 1.] average: 1.0\n",
      "train_precision: [1. 1. 1. 1. 1.] average: 1.0\n",
      "train_f1: [1. 1. 1. 1. 1.] average: 1.0\n",
      "test_accuracy: [0.96666667 0.96666667 0.8        0.96666667 0.93333333] average: 0.9266666666666667\n",
      "test_recall: [0.96666667 0.96666667 0.8        0.96666667 0.93333333] average: 0.9266666666666667\n",
      "test_precision: [0.96969697 0.96969697 0.80555556 0.96969697 0.94444444] average: 0.9318181818181819\n",
      "test_f1: [0.96658312 0.96658312 0.7979798  0.96658312 0.93265993] average: 0.9260778208146629 \n",
      "\n",
      "Wine_Dataset:\n",
      "train_accuracy: [1.         0.98591549 0.99295775 0.99300699 0.99300699] average: 0.9929774450901212\n",
      "train_recall: [1.         0.9858156  0.99415205 0.99145299 0.99404762] average: 0.9930936520242231\n",
      "train_precision: [1.         0.98870056 0.99305556 0.99305556 0.99319728] average: 0.9936017909988853\n",
      "train_f1: [1.         0.9870065  0.99354138 0.99216222 0.99356057] average: 0.9932541333871509\n",
      "test_accuracy: [0.72222222 0.80555556 0.77777778 0.94285714 0.82857143] average: 0.8153968253968253\n",
      "test_recall: [0.7484127  0.80634921 0.76904762 0.94444444 0.85185185] average: 0.8240211640211641\n",
      "test_precision: [0.72619048 0.8022533  0.81410256 0.95833333 0.84377104] average: 0.828930143930144\n",
      "test_f1: [0.71386946 0.80335097 0.78117647 0.94747475 0.83475783] average: 0.8161258973415837 \n",
      "\n",
      "Wdbc_Dataset:\n",
      "train_accuracy: [0.9956044  0.9956044  0.98681319 0.9956044  0.99342105] average: 0.9934094852515905\n",
      "train_recall: [0.99408284 0.99529317 0.98472652 0.99411765 0.99117647] average: 0.9918793296883319\n",
      "train_precision: [0.99652778 0.99529317 0.98707898 0.99651568 0.99480969] average: 0.9940450584208659\n",
      "train_f1: [0.99528165 0.99529317 0.98587951 0.99529317 0.99294027] average: 0.9929375513735359\n",
      "test_accuracy: [0.89473684 0.88596491 0.94736842 0.92105263 0.95575221] average: 0.9209750038813848\n",
      "test_recall: [0.88339338 0.87635113 0.9484127  0.91765873 0.95992622] average: 0.9171484332350694\n",
      "test_precision: [0.89107918 0.87996032 0.94025974 0.91369145 0.94820261] average: 0.914638661579073\n",
      "test_f1: [0.88690476 0.87807487 0.94398952 0.91559029 0.95327876] average: 0.915567639017498 \n",
      "\n",
      "Abalone_Dataset:\n",
      "train_accuracy: [0.60251422 0.57587549 0.59994016 0.58617594 0.58617594] average: 0.5901363488751455\n",
      "train_recall: [0.60534112 0.5741935  0.59807074 0.59772409 0.59473375] average: 0.5940126377438284\n",
      "train_precision: [0.60009619 0.57563313 0.5947072  0.59571166 0.58704613] average: 0.5906388603446657\n",
      "train_f1: [0.60236998 0.57318198 0.59227338 0.58189444 0.58422748] average: 0.5867894523210927\n",
      "test_accuracy: [0.50717703 0.59808612 0.53173653 0.5257485  0.55568862] average: 0.5436873621178695\n",
      "test_recall: [0.51602819 0.59471874 0.53145838 0.53769508 0.56629   ] average: 0.54923807913176\n",
      "test_precision: [0.49962505 0.59437799 0.53305685 0.53775601 0.55536685] average: 0.5440365511924509\n",
      "test_f1: [0.49853355 0.59076794 0.53139602 0.52686607 0.55429552] average: 0.5403718231073936 \n",
      "\n"
     ]
    }
   ],
   "source": [
    "\n",
    "print(\"Metrics for DecisionTreeClassifier:\\n\")\n",
    "print(\"Iris_Dataset:\")\n",
    "show_metrics_classifier(DecisionTreeClassifier(max_depth=5),x_iris,y_iris) \n",
    "print(\"Wine_Dataset:\")\n",
    "show_metrics_classifier(DecisionTreeClassifier(max_depth=5),x_wine ,y_wine )\n",
    "print(\"Wdbc_Dataset:\")\n",
    "show_metrics_classifier(DecisionTreeClassifier(max_depth=5),x_wdbc ,y_wdbc )\n",
    "print(\"Abalone_Dataset:\")\n",
    "show_metrics_classifier(DecisionTreeClassifier(max_depth=5),x_abalone ,y_abalone )"
   ]
  },
  {
   "cell_type": "code",
   "execution_count": null,
   "metadata": {},
   "outputs": [],
   "source": []
  }
 ],
 "metadata": {
  "kernelspec": {
   "display_name": "Python 3",
   "language": "python",
   "name": "python3"
  },
  "language_info": {
   "codemirror_mode": {
    "name": "ipython",
    "version": 3
   },
   "file_extension": ".py",
   "mimetype": "text/x-python",
   "name": "python",
   "nbconvert_exporter": "python",
   "pygments_lexer": "ipython3",
   "version": "3.8.5"
  }
 },
 "nbformat": 4,
 "nbformat_minor": 4
}
