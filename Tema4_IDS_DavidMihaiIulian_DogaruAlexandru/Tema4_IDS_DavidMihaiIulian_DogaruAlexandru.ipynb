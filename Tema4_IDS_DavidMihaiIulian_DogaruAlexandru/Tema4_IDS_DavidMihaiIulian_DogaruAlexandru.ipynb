{
 "cells": [
  {
   "cell_type": "markdown",
   "metadata": {},
   "source": [
    "## Modele de clasificare\n",
    "Folositi 4 seturi de date pentru probleme de clasificare, plecand de la repository-urile specificate in Cursul 6. Cel putin un set de date sa fie cu valori lipsa; pentru un alt set de date care are initial toate valorile, introduceti dvs. in mod artificial valori lipsa, suprascriind un anumit procent din valorile initiale (ex. p=5%, p parametru) cu numpy.nan."
   ]
  },
  {
   "cell_type": "code",
   "execution_count": 1189,
   "metadata": {},
   "outputs": [
    {
     "name": "stdout",
     "output_type": "stream",
     "text": [
      "NumPy version: 1.20.1\n",
      "Pandas version: 1.2.3\n",
      "Sklearn version: 0.24.1\n"
     ]
    }
   ],
   "source": [
    "import numpy as np\n",
    "print(f'NumPy version: {np.__version__}')\n",
    "\n",
    "import pandas as pd\n",
    "print(f'Pandas version: {pd.__version__}')\n",
    "\n",
    "from sklearn.preprocessing import LabelEncoder\n",
    "from sklearn.neighbors import KNeighborsClassifier\n",
    "from sklearn.impute import SimpleImputer\n",
    "from sklearn.linear_model import LogisticRegression\n",
    "from sklearn.model_selection import cross_validate\n",
    "from sklearn.naive_bayes import GaussianNB\n",
    "from sklearn.ensemble import RandomForestClassifier\n",
    "from sklearn.tree import DecisionTreeClassifier\n",
    "from sklearn.model_selection import GridSearchCV\n",
    "import sklearn as sk\n",
    "print(f'Sklearn version: {sk.__version__}')\n",
    "\n",
    "#NumPy version: 1.20.1\n",
    "#Pandas version: 1.2.3\n",
    "#Sklearn version: 0.24.1"
   ]
  },
  {
   "cell_type": "code",
   "execution_count": 1190,
   "metadata": {},
   "outputs": [],
   "source": [
    "le=LabelEncoder()"
   ]
  },
  {
   "cell_type": "code",
   "execution_count": 1191,
   "metadata": {},
   "outputs": [],
   "source": [
    "iris: pd.core.frame.DataFrame = pd.read_csv(\"Data/iris.data\", header=None)\n",
    "x_iris: np.array = iris.iloc[:, :-1].values\n",
    "y_iris: np.array = iris[[4]].apply(le.fit_transform).values\n",
    "y_iris = y_iris.reshape(y_iris.shape[0])"
   ]
  },
  {
   "cell_type": "code",
   "execution_count": 1192,
   "metadata": {},
   "outputs": [],
   "source": [
    "wine:pd.core.frame.DataFrame = pd.read_csv(\"Data/wine.data\", header=None)\n",
    "x_wine: np.array = wine.iloc[:, 1:].values\n",
    "y_wine: np.array = wine.iloc[:, 0].values"
   ]
  },
  {
   "cell_type": "code",
   "execution_count": 1193,
   "metadata": {},
   "outputs": [],
   "source": [
    "wdbc: pd.core.frame.DataFrame = pd.read_csv(\"Data/wdbc.data\", header=None)  \n",
    "x_wdbc: np.array = wdbc.iloc[:, 2:].values\n",
    "y_wdbc: np.array = wdbc[[1]].apply(le.fit_transform).values\n",
    "y_wdbc = y_wdbc.reshape(y_wdbc.shape[0])"
   ]
  },
  {
   "cell_type": "code",
   "execution_count": 1194,
   "metadata": {},
   "outputs": [],
   "source": [
    "abalone: pd.core.frame.DataFrame = pd.read_csv(\"Data/abalone.data\", header=None) \n",
    "x_abalone: np.array = abalone.iloc[:, 1:].values\n",
    "y_abalone: np.array = abalone[[0]].apply(le.fit_transform).values\n",
    "y_abalone = y_abalone.reshape(y_abalone.shape[0])"
   ]
  },
  {
   "cell_type": "markdown",
   "metadata": {},
   "source": [
    "1. (20 puncte) Aplicati o metoda de missing value imputation, unde este cazul; documentati metoda folosita.\n",
    "*Resurse*: Pentru missing value imputation, puteti urmari [Imputation of missing values](https://scikit-learn.org/stable/modules/impute.html), [How to Handle Missing Data with Python](https://machinelearningmastery.com/handle-missing-data-python/), [fancyimpute](https://github.com/iskandr/fancyimpute), [missingpy](https://github.com/epsilon-machine/missingpy).\n",
    "\n",
    "*Cerinta*: In cazul in care folositi un pachet ce trebuie instalat (nu face parte din distributia standard anaconda), includeti intr-o celula o comanda de instalare corespunzatoare folosind semn de exclamare, de exemplu:\n",
    "```python\n",
    "!pip install missingpy\n",
    "```\n",
    "(sursa: [https://github.com/epsilon-machine/missingpy](https://github.com/epsilon-machine/missingpy)). La executia celulei in Jupyter Notebook se instaleaza pachetul, iar in celulele ulterioare importurile din noul pachet functioneaza. "
   ]
  },
  {
   "cell_type": "code",
   "execution_count": 1195,
   "metadata": {},
   "outputs": [],
   "source": [
    "def random_nans(data_set: np.array, percentage: int = 5) -> np.array:\n",
    "    \"\"\"\n",
    "    Adding NaN values in a dataset.\n",
    "    \n",
    "    Args:\n",
    "        data_set:the numpy.ndarray containing the dataset\n",
    "        percentage:the percentage(from dataset size) of Nans values to be added in the dataset\n",
    "        \n",
    "    Returns:\n",
    "        the modified dataset\n",
    "    \"\"\"\n",
    "    result_set: np.array = data_set.copy()\n",
    "    choice: np.array = np.random.choice(result_set.size, int(percentage / 100 * result_set.size), replace=False)\n",
    "    rows, cols = np.unravel_index(choice, result_set.shape)   \n",
    "    result_set[rows, cols] = np.nan\n",
    "    return result_set"
   ]
  },
  {
   "cell_type": "code",
   "execution_count": 1196,
   "metadata": {},
   "outputs": [],
   "source": [
    "x_iris = random_nans(x_iris)\n",
    "x_wine = random_nans(x_wine)\n",
    "x_wdbc = random_nans(x_wdbc)\n",
    "x_abalone = random_nans(x_abalone)"
   ]
  },
  {
   "cell_type": "code",
   "execution_count": 1197,
   "metadata": {},
   "outputs": [],
   "source": [
    "imp = SimpleImputer(missing_values = np.nan, strategy=\"most_frequent\")\n",
    "x_iris = imp.fit_transform(x_iris)\n",
    "x_wine = imp.fit_transform(x_wine)\n",
    "x_wdbc = imp.fit_transform(x_wdbc)\n",
    "x_abalone = imp.fit_transform(x_abalone)"
   ]
  },
  {
   "cell_type": "markdown",
   "metadata": {},
   "source": [
    "2. (numar de modele * numar de seturi de date \\* 1 punct = 20 de puncte) Pentru fiecare set de date aplicati 5 modele de clasificare din scikit learn. Pentru fiecare raportati: acuratete, precision, recall, scorul F1 - a se vedea [sklearn.metrics](http://scikit-learn.org/stable/modules/classes.html#module-sklearn.metrics), [Precision and recall](https://en.wikipedia.org/wiki/Precision_and_recall) - folosind 5 fold cross validation. Raportati mediile rezultatelor atat pentru fold-urile de antrenare, cat si pentru cele de testare. Rularile se vor face cu valori fixate ale hiperparametrilor. "
   ]
  },
  {
   "cell_type": "code",
   "execution_count": 1198,
   "metadata": {},
   "outputs": [],
   "source": [
    "def show_metrics_classifier(clf,x,y):\n",
    "    scoring=['recall_macro','precision_macro','accuracy','f1_macro']\n",
    "    scores = cross_validate(clf,x, y, cv=5,scoring=scoring,return_train_score=True)\n",
    "    df = pd.DataFrame(data={'train_accuracy': scores['train_accuracy'],\n",
    "                            'train_recall': scores['train_recall_macro'],\n",
    "                            'train_precision': scores['train_precision_macro'],\n",
    "                            'train_f1': scores['train_f1_macro'],\n",
    "                            'test_accuracy': scores['test_accuracy'],\n",
    "                            'test_recall': scores['test_recall_macro'],\n",
    "                            'test_precision': scores['test_precision_macro'],\n",
    "                            'test_f1': scores['test_f1_macro']\n",
    "                           })\n",
    "    df.loc['mean'] = df.mean()\n",
    "    with pd.option_context('expand_frame_repr', False):\n",
    "        print (df)"
   ]
  },
  {
   "cell_type": "code",
   "execution_count": 1199,
   "metadata": {
    "scrolled": true
   },
   "outputs": [
    {
     "name": "stdout",
     "output_type": "stream",
     "text": [
      "Metrics for KNeighborsClassifier:\n",
      "\n",
      "Iris_Dataset:\n",
      "      train_accuracy  train_recall  train_precision  train_f1  test_accuracy  test_recall  test_precision   test_f1\n",
      "0           0.950000      0.950000         0.950000  0.950000           0.90         0.90        0.899327  0.898162\n",
      "1           0.958333      0.958333         0.958516  0.958327           0.90         0.90        0.923077  0.897698\n",
      "2           0.958333      0.958333         0.958708  0.958215           0.90         0.90        0.923077  0.897698\n",
      "3           0.966667      0.966667         0.966667  0.966667           0.90         0.90        0.902357  0.899749\n",
      "4           0.941667      0.941667         0.941839  0.941658           1.00         1.00        1.000000  1.000000\n",
      "mean        0.955000      0.955000         0.955146  0.954973           0.92         0.92        0.929567  0.918662\n",
      "\n",
      "Wine_Dataset:\n",
      "      train_accuracy  train_recall  train_precision  train_f1  test_accuracy  test_recall  test_precision   test_f1\n",
      "0           0.774648      0.767388         0.765925  0.766605       0.694444     0.696032        0.686147  0.685861\n",
      "1           0.795775      0.789100         0.786512  0.787594       0.666667     0.672222        0.674946  0.655772\n",
      "2           0.809859      0.821264         0.810339  0.808921       0.638889     0.625397        0.620513  0.622222\n",
      "3           0.804196      0.801591         0.796791  0.798177       0.628571     0.604497        0.643519  0.610648\n",
      "4           0.755245      0.746184         0.747976  0.744592       0.800000     0.770370        0.773016  0.760000\n",
      "mean        0.787944      0.785106         0.781508  0.781178       0.685714     0.673704        0.679628  0.666901\n",
      "\n",
      "Wdbc_Dataset:\n",
      "      train_accuracy  train_recall  train_precision  train_f1  test_accuracy  test_recall  test_precision   test_f1\n",
      "0           0.951648      0.942173         0.954105  0.947563       0.885965     0.858009        0.901838  0.872538\n",
      "1           0.947253      0.936256         0.950690  0.942642       0.938596     0.923190        0.947368  0.932981\n",
      "2           0.936264      0.925387         0.937914  0.930970       0.938596     0.931548        0.936017  0.933693\n",
      "3           0.942857      0.931837         0.945862  0.938029       0.903509     0.883929        0.907511  0.893467\n",
      "4           0.947368      0.938955         0.948098  0.943166       0.938053     0.931254        0.935637  0.933356\n",
      "mean        0.945078      0.934922         0.947334  0.940474       0.920944     0.905586        0.925674  0.913207\n",
      "\n",
      "Abalone_Dataset:\n",
      "      train_accuracy  train_recall  train_precision  train_f1  test_accuracy  test_recall  test_precision   test_f1\n",
      "0           0.674349      0.678303         0.672045  0.673369       0.509569     0.521438        0.496604  0.495579\n",
      "1           0.672553      0.676868         0.673917  0.672964       0.526316     0.531126        0.520645  0.524864\n",
      "2           0.686715      0.691188         0.686050  0.686329       0.522156     0.527164        0.524752  0.524731\n",
      "3           0.678037      0.682723         0.677105  0.677620       0.543713     0.547660        0.545338  0.545322\n",
      "4           0.678037      0.682706         0.677545  0.677779       0.531737     0.536107        0.531676  0.533563\n",
      "mean        0.677938      0.682358         0.677332  0.677612       0.526698     0.532699        0.523803  0.524812\n"
     ]
    }
   ],
   "source": [
    "print(\"Metrics for KNeighborsClassifier:\")\n",
    "print(\"\\nIris_Dataset:\")\n",
    "show_metrics_classifier(KNeighborsClassifier(n_neighbors=5),x_iris,y_iris) \n",
    "print(\"\\nWine_Dataset:\")\n",
    "show_metrics_classifier(KNeighborsClassifier(n_neighbors=5),x_wine ,y_wine )\n",
    "print(\"\\nWdbc_Dataset:\")\n",
    "show_metrics_classifier(KNeighborsClassifier(n_neighbors=5),x_wdbc ,y_wdbc )\n",
    "print(\"\\nAbalone_Dataset:\")\n",
    "show_metrics_classifier(KNeighborsClassifier(n_neighbors=5),x_abalone ,y_abalone )"
   ]
  },
  {
   "cell_type": "code",
   "execution_count": 1200,
   "metadata": {},
   "outputs": [
    {
     "name": "stdout",
     "output_type": "stream",
     "text": [
      "Metrics for LogisticRegression:\n",
      "\n",
      "Iris_Dataset:\n",
      "      train_accuracy  train_recall  train_precision  train_f1  test_accuracy  test_recall  test_precision   test_f1\n",
      "0           0.916667      0.916667         0.916667  0.916667       0.800000     0.800000        0.795455  0.793651\n",
      "1           0.891667      0.891667         0.891807  0.891650       0.866667     0.866667        0.904762  0.861111\n",
      "2           0.883333      0.883333         0.883333  0.883333       0.866667     0.866667        0.875000  0.865320\n",
      "3           0.925000      0.925000         0.926461  0.924894       0.866667     0.866667        0.866667  0.866667\n",
      "4           0.875000      0.875000         0.875130  0.874980       0.966667     0.966667        0.969697  0.966583\n",
      "mean        0.898333      0.898333         0.898680  0.898305       0.873333     0.873333        0.882316  0.870666\n",
      "\n",
      "Wine_Dataset:\n",
      "      train_accuracy  train_recall  train_precision  train_f1  test_accuracy  test_recall  test_precision   test_f1\n",
      "0           0.894366      0.889760         0.905996  0.896009       0.805556     0.810317        0.834188  0.814815\n",
      "1           0.901408      0.896043         0.920862  0.905307       0.861111     0.852381        0.863095  0.852666\n",
      "2           0.901408      0.900212         0.912310  0.905363       0.916667     0.915079        0.927778  0.920196\n",
      "3           0.895105      0.888410         0.910868  0.896551       0.857143     0.861111        0.912281  0.861776\n",
      "4           0.895105      0.894383         0.907110  0.899582       0.942857     0.925926        0.960784  0.937500\n",
      "mean        0.897479      0.893762         0.911430  0.900562       0.876667     0.872963        0.899625  0.877390\n",
      "\n",
      "Wdbc_Dataset:\n",
      "      train_accuracy  train_recall  train_precision  train_f1  test_accuracy  test_recall  test_precision   test_f1\n",
      "0           0.894505      0.874933         0.897465  0.883988       0.859649     0.823125        0.883405  0.839944\n",
      "1           0.885714      0.863098         0.890434  0.873573       0.912281     0.902064        0.910124  0.905754\n",
      "2           0.892308      0.868937         0.900641  0.880687       0.885965     0.865079        0.887504  0.874097\n",
      "3           0.892308      0.871311         0.897341  0.881398       0.921053     0.897817        0.935081  0.911757\n",
      "4           0.901316      0.881962         0.905986  0.891524       0.876106     0.862508        0.870205  0.866023\n",
      "mean        0.893230      0.872048         0.898373  0.882234       0.891011     0.870119        0.897264  0.879515\n",
      "\n",
      "Abalone_Dataset:\n",
      "      train_accuracy  train_recall  train_precision  train_f1  test_accuracy  test_recall  test_precision   test_f1\n",
      "0           0.560311      0.552970         0.560430  0.528722       0.489234     0.496335        0.473223  0.465585\n",
      "1           0.545346      0.542060         0.540351  0.526687       0.572967     0.562902        0.575640  0.534000\n",
      "2           0.550269      0.544537         0.545488  0.522433       0.546108     0.543554        0.548875  0.532776\n",
      "3           0.542490      0.539335         0.536888  0.523016       0.570060     0.561912        0.572032  0.545162\n",
      "4           0.551167      0.546044         0.547521  0.525850       0.547305     0.540071        0.549412  0.518414\n",
      "mean        0.549917      0.544989         0.546135  0.525341       0.545135     0.540955        0.543836  0.519187\n"
     ]
    }
   ],
   "source": [
    "print(\"Metrics for LogisticRegression:\")\n",
    "print(\"\\nIris_Dataset:\")\n",
    "show_metrics_classifier(LogisticRegression(solver='sag', multi_class='multinomial', max_iter=10000),x_iris,y_iris) \n",
    "print(\"\\nWine_Dataset:\")\n",
    "show_metrics_classifier(LogisticRegression(solver='sag', multi_class='multinomial', max_iter=10000),x_wine ,y_wine )\n",
    "print(\"\\nWdbc_Dataset:\")\n",
    "show_metrics_classifier(LogisticRegression(solver='sag', multi_class='multinomial', max_iter=10000),x_wdbc ,y_wdbc )\n",
    "print(\"\\nAbalone_Dataset:\")\n",
    "show_metrics_classifier(LogisticRegression(solver='sag', multi_class='multinomial', max_iter=10000),x_abalone ,y_abalone )"
   ]
  },
  {
   "cell_type": "code",
   "execution_count": 1201,
   "metadata": {},
   "outputs": [
    {
     "name": "stdout",
     "output_type": "stream",
     "text": [
      "Metrics for GaussianNB:\n",
      "\n",
      "Iris_Dataset:\n",
      "      train_accuracy  train_recall  train_precision  train_f1  test_accuracy  test_recall  test_precision   test_f1\n",
      "0           0.933333      0.933333         0.933333  0.933333       0.800000     0.800000        0.825397  0.791667\n",
      "1           0.908333      0.908333         0.912169  0.907974       0.933333     0.933333        0.933333  0.933333\n",
      "2           0.925000      0.925000         0.926461  0.924894       0.900000     0.900000        0.923077  0.897698\n",
      "3           0.933333      0.933333         0.934002  0.933292       0.866667     0.866667        0.866667  0.866667\n",
      "4           0.900000      0.900000         0.900585  0.899937       0.966667     0.966667        0.969697  0.966583\n",
      "mean        0.920000      0.920000         0.921310  0.919886       0.893333     0.893333        0.903634  0.891190\n",
      "\n",
      "Wine_Dataset:\n",
      "      train_accuracy  train_recall  train_precision  train_f1  test_accuracy  test_recall  test_precision   test_f1\n",
      "0           0.978873      0.979968         0.979959  0.979729       0.888889     0.904762        0.896825  0.888500\n",
      "1           0.964789      0.968272         0.964182  0.965951       0.972222     0.976190        0.969697  0.971781\n",
      "2           0.978873      0.981212         0.977381  0.979019       0.944444     0.938889        0.950000  0.943184\n",
      "3           0.965035      0.968272         0.964286  0.965659       0.914286     0.916667        0.941176  0.920123\n",
      "4           0.958042      0.962302         0.956753  0.958946       1.000000     1.000000        1.000000  1.000000\n",
      "mean        0.969122      0.972005         0.968512  0.969861       0.943968     0.947302        0.951540  0.944718\n",
      "\n",
      "Wdbc_Dataset:\n",
      "      train_accuracy  train_recall  train_precision  train_f1  test_accuracy  test_recall  test_precision   test_f1\n",
      "0           0.936264      0.925094         0.937849  0.930786       0.929825     0.929905        0.922705  0.925974\n",
      "1           0.947253      0.938677         0.947944  0.942947       0.894737     0.869636        0.908137  0.883077\n",
      "2           0.934066      0.922446         0.936165  0.928495       0.956140     0.945437        0.960513  0.952129\n",
      "3           0.931868      0.921878         0.931825  0.926402       0.947368     0.938492        0.947973  0.942867\n",
      "4           0.936404      0.927828         0.935541  0.931413       0.946903     0.948021        0.940053  0.943688\n",
      "mean        0.937171      0.927185         0.937865  0.932009       0.934995     0.926298        0.935876  0.929547\n",
      "\n",
      "Abalone_Dataset:\n",
      "      train_accuracy  train_recall  train_precision  train_f1  test_accuracy  test_recall  test_precision   test_f1\n",
      "0           0.541155      0.547291         0.528630  0.533237       0.486842     0.499561        0.467791  0.451896\n",
      "1           0.511224      0.529743         0.492779  0.475329       0.541866     0.558957        0.530776  0.523047\n",
      "2           0.526631      0.547293         0.514224  0.481943       0.480240     0.499539        0.466451  0.438940\n",
      "3           0.508079      0.526276         0.481303  0.474061       0.541317     0.559074        0.531089  0.517975\n",
      "4           0.516457      0.531880         0.495647  0.493445       0.524551     0.540292        0.506076  0.505366\n",
      "mean        0.520709      0.536496         0.502517  0.491603       0.514963     0.531485        0.500437  0.487445\n"
     ]
    }
   ],
   "source": [
    "print(\"Metrics for GaussianNB:\")\n",
    "print(\"\\nIris_Dataset:\")\n",
    "show_metrics_classifier(GaussianNB(),x_iris,y_iris) \n",
    "print(\"\\nWine_Dataset:\")\n",
    "show_metrics_classifier(GaussianNB(),x_wine ,y_wine )\n",
    "print(\"\\nWdbc_Dataset:\")\n",
    "show_metrics_classifier(GaussianNB(),x_wdbc ,y_wdbc )\n",
    "print(\"\\nAbalone_Dataset:\")\n",
    "show_metrics_classifier(GaussianNB(),x_abalone ,y_abalone )"
   ]
  },
  {
   "cell_type": "code",
   "execution_count": 1202,
   "metadata": {},
   "outputs": [
    {
     "name": "stdout",
     "output_type": "stream",
     "text": [
      "Metrics for RandomForestClassifier:\n",
      "\n",
      " Iris_Dataset:\n",
      "      train_accuracy  train_recall  train_precision  train_f1  test_accuracy  test_recall  test_precision   test_f1\n",
      "0           0.975000      0.975000         0.975193  0.974996       0.900000     0.900000        0.907407  0.899522\n",
      "1           0.991667      0.991667         0.991870  0.991665       0.966667     0.966667        0.969697  0.966583\n",
      "2           1.000000      1.000000         1.000000  1.000000       0.933333     0.933333        0.944444  0.932660\n",
      "3           0.983333      0.983333         0.984127  0.983323       0.933333     0.933333        0.933333  0.933333\n",
      "4           0.983333      0.983333         0.984127  0.983323       1.000000     1.000000        1.000000  1.000000\n",
      "mean        0.986667      0.986667         0.987063  0.986661       0.946667     0.946667        0.950976  0.946420\n",
      "\n",
      " Wine_Dataset:\n",
      "      train_accuracy  train_recall  train_precision  train_f1  test_accuracy  test_recall  test_precision   test_f1\n",
      "0           0.992958      0.994152         0.993056  0.993541       0.805556     0.823810        0.812963  0.800908\n",
      "1           1.000000      1.000000         1.000000  1.000000       0.944444     0.952381        0.944056  0.945153\n",
      "2           0.992958      0.994152         0.993056  0.993541       0.861111     0.852381        0.863095  0.852666\n",
      "3           0.993007      0.994152         0.993056  0.993541       0.971429     0.972222        0.977778  0.974013\n",
      "4           1.000000      1.000000         1.000000  1.000000       1.000000     1.000000        1.000000  1.000000\n",
      "mean        0.995784      0.996491         0.995833  0.996125       0.916508     0.920159        0.919578  0.914548\n",
      "\n",
      " Wdbc_Dataset:\n",
      "      train_accuracy  train_recall  train_precision  train_f1  test_accuracy  test_recall  test_precision   test_f1\n",
      "0           0.978022      0.974045         0.978840  0.976349       0.903509     0.904193        0.894501  0.898634\n",
      "1           0.986813      0.982249         0.989726  0.985774       0.929825     0.911562        0.941032  0.922973\n",
      "2           0.971429      0.964138         0.975081  0.969136       0.973684     0.969246        0.974106  0.971583\n",
      "3           0.978022      0.972962         0.980157  0.976349       0.938596     0.921627        0.947525  0.932206\n",
      "4           0.964912      0.957713         0.967246  0.962111       0.946903     0.938296        0.947603  0.942581\n",
      "mean        0.975840      0.970221         0.978210  0.973944       0.938503     0.928985        0.940954  0.933595\n",
      "\n",
      " Abalone_Dataset:\n",
      "      train_accuracy  train_recall  train_precision  train_f1  test_accuracy  test_recall  test_precision   test_f1\n",
      "0           0.595929      0.586228         0.619298  0.554260       0.505981     0.506513        0.497252  0.470426\n",
      "1           0.583658      0.582984         0.581144  0.575037       0.583732     0.581495        0.578857  0.575349\n",
      "2           0.591263      0.588860         0.590013  0.575346       0.514970     0.515265        0.506920  0.504188\n",
      "3           0.588570      0.583425         0.599622  0.568480       0.550898     0.542245        0.535453  0.519535\n",
      "4           0.589168      0.584396         0.595832  0.571216       0.558084     0.550718        0.559640  0.529143\n",
      "mean        0.589718      0.585178         0.597182  0.568868       0.542733     0.539247        0.535624  0.519728\n"
     ]
    }
   ],
   "source": [
    "print(\"Metrics for RandomForestClassifier:\")\n",
    "print(\"\\n Iris_Dataset:\")\n",
    "show_metrics_classifier(RandomForestClassifier(max_depth=5, n_estimators=10, max_features=1), x_iris, y_iris) \n",
    "print(\"\\n Wine_Dataset:\")\n",
    "show_metrics_classifier(RandomForestClassifier(max_depth=5, n_estimators=10, max_features=1), x_wine ,y_wine )\n",
    "print(\"\\n Wdbc_Dataset:\")\n",
    "show_metrics_classifier(RandomForestClassifier(max_depth=5, n_estimators=10, max_features=1), x_wdbc ,y_wdbc )\n",
    "print(\"\\n Abalone_Dataset:\")\n",
    "show_metrics_classifier(RandomForestClassifier(max_depth=5, n_estimators=10, max_features=1), x_abalone ,y_abalone )"
   ]
  },
  {
   "cell_type": "code",
   "execution_count": 1203,
   "metadata": {},
   "outputs": [
    {
     "name": "stdout",
     "output_type": "stream",
     "text": [
      "Metrics for DecisionTreeClassifier:\n",
      "\n",
      "Iris_Dataset:\n",
      "      train_accuracy  train_recall  train_precision  train_f1  test_accuracy  test_recall  test_precision   test_f1\n",
      "0           1.000000      1.000000         1.000000  1.000000       0.933333     0.933333        0.944444  0.932660\n",
      "1           1.000000      1.000000         1.000000  1.000000       0.833333     0.833333        0.856061  0.832951\n",
      "2           1.000000      1.000000         1.000000  1.000000       0.900000     0.900000        0.902357  0.899749\n",
      "3           0.991667      0.991667         0.991870  0.991665       0.966667     0.966667        0.969697  0.966583\n",
      "4           1.000000      1.000000         1.000000  1.000000       0.966667     0.966667        0.969697  0.966583\n",
      "mean        0.998333      0.998333         0.998374  0.998333       0.920000     0.920000        0.928451  0.919705\n",
      "\n",
      "Wine_Dataset:\n",
      "      train_accuracy  train_recall  train_precision  train_f1  test_accuracy  test_recall  test_precision   test_f1\n",
      "0           0.992958      0.992908         0.994253  0.993517       0.722222     0.752381        0.742063  0.702381\n",
      "1           1.000000      1.000000         1.000000  1.000000       0.833333     0.828571        0.839286  0.828856\n",
      "2           1.000000      1.000000         1.000000  1.000000       0.777778     0.773016        0.777574  0.774185\n",
      "3           1.000000      1.000000         1.000000  1.000000       0.885714     0.888889        0.925926  0.891667\n",
      "4           1.000000      1.000000         1.000000  1.000000       0.828571     0.858586        0.841126  0.838866\n",
      "mean        0.998592      0.998582         0.998851  0.998703       0.809524     0.820289        0.825195  0.807191\n",
      "\n",
      "Wdbc_Dataset:\n",
      "      train_accuracy  train_recall  train_precision  train_f1  test_accuracy  test_recall  test_precision   test_f1\n",
      "0           0.993407      0.992335         0.993539  0.992931       0.885965     0.867180        0.888158  0.875535\n",
      "1           0.993407      0.991124         0.994810  0.992914       0.912281     0.897478        0.914872  0.904778\n",
      "2           0.991209      0.990609         0.990609  0.990609       0.929825     0.924603        0.924603  0.924603\n",
      "3           0.991209      0.988235         0.993080  0.990563       0.929825     0.919643        0.928716  0.923822\n",
      "4           0.989035      0.986487         0.990086  0.988234       0.955752     0.950201        0.954776  0.952397\n",
      "mean        0.991653      0.989758         0.992425  0.991050       0.922729     0.911821        0.922225  0.916227\n",
      "\n",
      "Abalone_Dataset:\n",
      "      train_accuracy  train_recall  train_precision  train_f1  test_accuracy  test_recall  test_precision   test_f1\n",
      "0           0.592637      0.591040         0.583522  0.570601       0.500000     0.501110        0.488488  0.475506\n",
      "1           0.566298      0.566234         0.554324  0.547141       0.550239     0.549333        0.522392  0.526677\n",
      "2           0.591861      0.593219         0.583384  0.584887       0.530539     0.532510        0.525187  0.527592\n",
      "3           0.576002      0.572369         0.567521  0.553059       0.529341     0.523979        0.507761  0.504507\n",
      "4           0.575703      0.570492         0.566745  0.541689       0.542515     0.536442        0.511061  0.502396\n",
      "mean        0.580500      0.578671         0.571099  0.559475       0.530527     0.528675        0.510978  0.507336\n"
     ]
    }
   ],
   "source": [
    "print(\"Metrics for DecisionTreeClassifier:\")\n",
    "print(\"\\nIris_Dataset:\")\n",
    "show_metrics_classifier(DecisionTreeClassifier(max_depth=5),x_iris,y_iris) \n",
    "print(\"\\nWine_Dataset:\")\n",
    "show_metrics_classifier(DecisionTreeClassifier(max_depth=5),x_wine ,y_wine )\n",
    "print(\"\\nWdbc_Dataset:\")\n",
    "show_metrics_classifier(DecisionTreeClassifier(max_depth=5),x_wdbc ,y_wdbc )\n",
    "print(\"\\nAbalone_Dataset:\")\n",
    "show_metrics_classifier(DecisionTreeClassifier(max_depth=5),x_abalone ,y_abalone )"
   ]
  },
  {
   "cell_type": "markdown",
   "metadata": {},
   "source": [
    "3. (numar de modele * numar de seturi de date * 1 punct = 20 de puncte) Raportati performanta fiecarui model, folosind 5 fold cross validation. Pentru fiecare din cele 5 rulari, cautati hiperparametrii optimi folosind 4-fold cross validation. Performanta modelului va fi raportata ca medie a celor  5 rulari. \n",
    "    *Observatie:* la fiecare din cele 5 rulari, hiperparametrii optimi pot diferi, din cauza datelor utilizate pentru antrenare/validare. "
   ]
  },
  {
   "cell_type": "code",
   "execution_count": 1204,
   "metadata": {},
   "outputs": [],
   "source": [
    "def show_metrics_classifier_with_performance(clf, parameter_grid, x, y):\n",
    "    show_metrics_classifier(GridSearchCV(estimator = clf, \n",
    "        param_grid=parameter_grid, cv=4, return_train_score=True), x, y)"
   ]
  },
  {
   "cell_type": "code",
   "execution_count": 1205,
   "metadata": {},
   "outputs": [
    {
     "name": "stdout",
     "output_type": "stream",
     "text": [
      "Metrics for KNeighborsClassifier with performance:\n",
      "\n",
      "Iris_Dataset:\n"
     ]
    },
    {
     "ename": "KeyboardInterrupt",
     "evalue": "",
     "output_type": "error",
     "traceback": [
      "\u001b[1;31m---------------------------------------------------------------------------\u001b[0m",
      "\u001b[1;31mKeyboardInterrupt\u001b[0m                         Traceback (most recent call last)",
      "\u001b[1;32m<ipython-input-1205-16ad1ad78238>\u001b[0m in \u001b[0;36m<module>\u001b[1;34m\u001b[0m\n\u001b[0;32m      2\u001b[0m \u001b[0mparameter_grid_KNeighborsClassifier\u001b[0m \u001b[1;33m=\u001b[0m \u001b[1;33m{\u001b[0m\u001b[1;34m'n_neighbors'\u001b[0m\u001b[1;33m:\u001b[0m \u001b[0mlist\u001b[0m\u001b[1;33m(\u001b[0m\u001b[0mrange\u001b[0m\u001b[1;33m(\u001b[0m\u001b[1;36m1\u001b[0m\u001b[1;33m,\u001b[0m \u001b[1;36m10\u001b[0m\u001b[1;33m)\u001b[0m\u001b[1;33m)\u001b[0m\u001b[1;33m,\u001b[0m \u001b[1;34m'p'\u001b[0m\u001b[1;33m:\u001b[0m \u001b[1;33m[\u001b[0m\u001b[1;36m1\u001b[0m\u001b[1;33m,\u001b[0m \u001b[1;36m2\u001b[0m\u001b[1;33m,\u001b[0m \u001b[1;36m3\u001b[0m\u001b[1;33m,\u001b[0m \u001b[1;36m10\u001b[0m\u001b[1;33m]\u001b[0m\u001b[1;33m}\u001b[0m\u001b[1;33m\u001b[0m\u001b[1;33m\u001b[0m\u001b[0m\n\u001b[0;32m      3\u001b[0m \u001b[0mprint\u001b[0m\u001b[1;33m(\u001b[0m\u001b[1;34m\"\\nIris_Dataset:\"\u001b[0m\u001b[1;33m)\u001b[0m\u001b[1;33m\u001b[0m\u001b[1;33m\u001b[0m\u001b[0m\n\u001b[1;32m----> 4\u001b[1;33m \u001b[0mshow_metrics_classifier_with_performance\u001b[0m\u001b[1;33m(\u001b[0m\u001b[0mKNeighborsClassifier\u001b[0m\u001b[1;33m(\u001b[0m\u001b[1;33m)\u001b[0m\u001b[1;33m,\u001b[0m \u001b[0mparameter_grid_KNeighborsClassifier\u001b[0m\u001b[1;33m,\u001b[0m \u001b[0mx_iris\u001b[0m\u001b[1;33m,\u001b[0m \u001b[0my_iris\u001b[0m\u001b[1;33m)\u001b[0m\u001b[1;33m\u001b[0m\u001b[1;33m\u001b[0m\u001b[0m\n\u001b[0m\u001b[0;32m      5\u001b[0m \u001b[0mprint\u001b[0m\u001b[1;33m(\u001b[0m\u001b[1;34m\"\\nWine_Dataset:\"\u001b[0m\u001b[1;33m)\u001b[0m\u001b[1;33m\u001b[0m\u001b[1;33m\u001b[0m\u001b[0m\n\u001b[0;32m      6\u001b[0m \u001b[0mshow_metrics_classifier_with_performance\u001b[0m\u001b[1;33m(\u001b[0m\u001b[0mKNeighborsClassifier\u001b[0m\u001b[1;33m(\u001b[0m\u001b[1;33m)\u001b[0m\u001b[1;33m,\u001b[0m \u001b[0mparameter_grid_KNeighborsClassifier\u001b[0m\u001b[1;33m,\u001b[0m \u001b[0mx_wine\u001b[0m\u001b[1;33m,\u001b[0m \u001b[0my_wine\u001b[0m \u001b[1;33m)\u001b[0m\u001b[1;33m\u001b[0m\u001b[1;33m\u001b[0m\u001b[0m\n",
      "\u001b[1;32m<ipython-input-1204-b1ee5eecefcc>\u001b[0m in \u001b[0;36mshow_metrics_classifier_with_performance\u001b[1;34m(clf, parameter_grid, x, y)\u001b[0m\n\u001b[0;32m      1\u001b[0m \u001b[1;32mdef\u001b[0m \u001b[0mshow_metrics_classifier_with_performance\u001b[0m\u001b[1;33m(\u001b[0m\u001b[0mclf\u001b[0m\u001b[1;33m,\u001b[0m \u001b[0mparameter_grid\u001b[0m\u001b[1;33m,\u001b[0m \u001b[0mx\u001b[0m\u001b[1;33m,\u001b[0m \u001b[0my\u001b[0m\u001b[1;33m)\u001b[0m\u001b[1;33m:\u001b[0m\u001b[1;33m\u001b[0m\u001b[1;33m\u001b[0m\u001b[0m\n\u001b[1;32m----> 2\u001b[1;33m     show_metrics_classifier(GridSearchCV(estimator = clf, \n\u001b[0m\u001b[0;32m      3\u001b[0m         param_grid=parameter_grid, cv=4, return_train_score=True), x, y)\n",
      "\u001b[1;32m<ipython-input-1198-88f7a98d2140>\u001b[0m in \u001b[0;36mshow_metrics_classifier\u001b[1;34m(clf, x, y)\u001b[0m\n\u001b[0;32m      1\u001b[0m \u001b[1;32mdef\u001b[0m \u001b[0mshow_metrics_classifier\u001b[0m\u001b[1;33m(\u001b[0m\u001b[0mclf\u001b[0m\u001b[1;33m,\u001b[0m\u001b[0mx\u001b[0m\u001b[1;33m,\u001b[0m\u001b[0my\u001b[0m\u001b[1;33m)\u001b[0m\u001b[1;33m:\u001b[0m\u001b[1;33m\u001b[0m\u001b[1;33m\u001b[0m\u001b[0m\n\u001b[0;32m      2\u001b[0m     \u001b[0mscoring\u001b[0m\u001b[1;33m=\u001b[0m\u001b[1;33m[\u001b[0m\u001b[1;34m'recall_macro'\u001b[0m\u001b[1;33m,\u001b[0m\u001b[1;34m'precision_macro'\u001b[0m\u001b[1;33m,\u001b[0m\u001b[1;34m'accuracy'\u001b[0m\u001b[1;33m,\u001b[0m\u001b[1;34m'f1_macro'\u001b[0m\u001b[1;33m]\u001b[0m\u001b[1;33m\u001b[0m\u001b[1;33m\u001b[0m\u001b[0m\n\u001b[1;32m----> 3\u001b[1;33m     \u001b[0mscores\u001b[0m \u001b[1;33m=\u001b[0m \u001b[0mcross_validate\u001b[0m\u001b[1;33m(\u001b[0m\u001b[0mclf\u001b[0m\u001b[1;33m,\u001b[0m\u001b[0mx\u001b[0m\u001b[1;33m,\u001b[0m \u001b[0my\u001b[0m\u001b[1;33m,\u001b[0m \u001b[0mcv\u001b[0m\u001b[1;33m=\u001b[0m\u001b[1;36m5\u001b[0m\u001b[1;33m,\u001b[0m\u001b[0mscoring\u001b[0m\u001b[1;33m=\u001b[0m\u001b[0mscoring\u001b[0m\u001b[1;33m,\u001b[0m\u001b[0mreturn_train_score\u001b[0m\u001b[1;33m=\u001b[0m\u001b[1;32mTrue\u001b[0m\u001b[1;33m)\u001b[0m\u001b[1;33m\u001b[0m\u001b[1;33m\u001b[0m\u001b[0m\n\u001b[0m\u001b[0;32m      4\u001b[0m     df = pd.DataFrame(data={'train_accuracy': scores['train_accuracy'],\n\u001b[0;32m      5\u001b[0m                             \u001b[1;34m'train_recall'\u001b[0m\u001b[1;33m:\u001b[0m \u001b[0mscores\u001b[0m\u001b[1;33m[\u001b[0m\u001b[1;34m'train_recall_macro'\u001b[0m\u001b[1;33m]\u001b[0m\u001b[1;33m,\u001b[0m\u001b[1;33m\u001b[0m\u001b[1;33m\u001b[0m\u001b[0m\n",
      "\u001b[1;32mE:\\Anaconda\\envs\\IDS\\lib\\site-packages\\sklearn\\utils\\validation.py\u001b[0m in \u001b[0;36minner_f\u001b[1;34m(*args, **kwargs)\u001b[0m\n\u001b[0;32m     61\u001b[0m             \u001b[0mextra_args\u001b[0m \u001b[1;33m=\u001b[0m \u001b[0mlen\u001b[0m\u001b[1;33m(\u001b[0m\u001b[0margs\u001b[0m\u001b[1;33m)\u001b[0m \u001b[1;33m-\u001b[0m \u001b[0mlen\u001b[0m\u001b[1;33m(\u001b[0m\u001b[0mall_args\u001b[0m\u001b[1;33m)\u001b[0m\u001b[1;33m\u001b[0m\u001b[1;33m\u001b[0m\u001b[0m\n\u001b[0;32m     62\u001b[0m             \u001b[1;32mif\u001b[0m \u001b[0mextra_args\u001b[0m \u001b[1;33m<=\u001b[0m \u001b[1;36m0\u001b[0m\u001b[1;33m:\u001b[0m\u001b[1;33m\u001b[0m\u001b[1;33m\u001b[0m\u001b[0m\n\u001b[1;32m---> 63\u001b[1;33m                 \u001b[1;32mreturn\u001b[0m \u001b[0mf\u001b[0m\u001b[1;33m(\u001b[0m\u001b[1;33m*\u001b[0m\u001b[0margs\u001b[0m\u001b[1;33m,\u001b[0m \u001b[1;33m**\u001b[0m\u001b[0mkwargs\u001b[0m\u001b[1;33m)\u001b[0m\u001b[1;33m\u001b[0m\u001b[1;33m\u001b[0m\u001b[0m\n\u001b[0m\u001b[0;32m     64\u001b[0m \u001b[1;33m\u001b[0m\u001b[0m\n\u001b[0;32m     65\u001b[0m             \u001b[1;31m# extra_args > 0\u001b[0m\u001b[1;33m\u001b[0m\u001b[1;33m\u001b[0m\u001b[1;33m\u001b[0m\u001b[0m\n",
      "\u001b[1;32mE:\\Anaconda\\envs\\IDS\\lib\\site-packages\\sklearn\\model_selection\\_validation.py\u001b[0m in \u001b[0;36mcross_validate\u001b[1;34m(estimator, X, y, groups, scoring, cv, n_jobs, verbose, fit_params, pre_dispatch, return_train_score, return_estimator, error_score)\u001b[0m\n\u001b[0;32m    244\u001b[0m     parallel = Parallel(n_jobs=n_jobs, verbose=verbose,\n\u001b[0;32m    245\u001b[0m                         pre_dispatch=pre_dispatch)\n\u001b[1;32m--> 246\u001b[1;33m     results = parallel(\n\u001b[0m\u001b[0;32m    247\u001b[0m         delayed(_fit_and_score)(\n\u001b[0;32m    248\u001b[0m             \u001b[0mclone\u001b[0m\u001b[1;33m(\u001b[0m\u001b[0mestimator\u001b[0m\u001b[1;33m)\u001b[0m\u001b[1;33m,\u001b[0m \u001b[0mX\u001b[0m\u001b[1;33m,\u001b[0m \u001b[0my\u001b[0m\u001b[1;33m,\u001b[0m \u001b[0mscorers\u001b[0m\u001b[1;33m,\u001b[0m \u001b[0mtrain\u001b[0m\u001b[1;33m,\u001b[0m \u001b[0mtest\u001b[0m\u001b[1;33m,\u001b[0m \u001b[0mverbose\u001b[0m\u001b[1;33m,\u001b[0m \u001b[1;32mNone\u001b[0m\u001b[1;33m,\u001b[0m\u001b[1;33m\u001b[0m\u001b[1;33m\u001b[0m\u001b[0m\n",
      "\u001b[1;32mE:\\Anaconda\\envs\\IDS\\lib\\site-packages\\joblib\\parallel.py\u001b[0m in \u001b[0;36m__call__\u001b[1;34m(self, iterable)\u001b[0m\n\u001b[0;32m   1042\u001b[0m                 \u001b[0mself\u001b[0m\u001b[1;33m.\u001b[0m\u001b[0m_iterating\u001b[0m \u001b[1;33m=\u001b[0m \u001b[0mself\u001b[0m\u001b[1;33m.\u001b[0m\u001b[0m_original_iterator\u001b[0m \u001b[1;32mis\u001b[0m \u001b[1;32mnot\u001b[0m \u001b[1;32mNone\u001b[0m\u001b[1;33m\u001b[0m\u001b[1;33m\u001b[0m\u001b[0m\n\u001b[0;32m   1043\u001b[0m \u001b[1;33m\u001b[0m\u001b[0m\n\u001b[1;32m-> 1044\u001b[1;33m             \u001b[1;32mwhile\u001b[0m \u001b[0mself\u001b[0m\u001b[1;33m.\u001b[0m\u001b[0mdispatch_one_batch\u001b[0m\u001b[1;33m(\u001b[0m\u001b[0miterator\u001b[0m\u001b[1;33m)\u001b[0m\u001b[1;33m:\u001b[0m\u001b[1;33m\u001b[0m\u001b[1;33m\u001b[0m\u001b[0m\n\u001b[0m\u001b[0;32m   1045\u001b[0m                 \u001b[1;32mpass\u001b[0m\u001b[1;33m\u001b[0m\u001b[1;33m\u001b[0m\u001b[0m\n\u001b[0;32m   1046\u001b[0m \u001b[1;33m\u001b[0m\u001b[0m\n",
      "\u001b[1;32mE:\\Anaconda\\envs\\IDS\\lib\\site-packages\\joblib\\parallel.py\u001b[0m in \u001b[0;36mdispatch_one_batch\u001b[1;34m(self, iterator)\u001b[0m\n\u001b[0;32m    857\u001b[0m                 \u001b[1;32mreturn\u001b[0m \u001b[1;32mFalse\u001b[0m\u001b[1;33m\u001b[0m\u001b[1;33m\u001b[0m\u001b[0m\n\u001b[0;32m    858\u001b[0m             \u001b[1;32melse\u001b[0m\u001b[1;33m:\u001b[0m\u001b[1;33m\u001b[0m\u001b[1;33m\u001b[0m\u001b[0m\n\u001b[1;32m--> 859\u001b[1;33m                 \u001b[0mself\u001b[0m\u001b[1;33m.\u001b[0m\u001b[0m_dispatch\u001b[0m\u001b[1;33m(\u001b[0m\u001b[0mtasks\u001b[0m\u001b[1;33m)\u001b[0m\u001b[1;33m\u001b[0m\u001b[1;33m\u001b[0m\u001b[0m\n\u001b[0m\u001b[0;32m    860\u001b[0m                 \u001b[1;32mreturn\u001b[0m \u001b[1;32mTrue\u001b[0m\u001b[1;33m\u001b[0m\u001b[1;33m\u001b[0m\u001b[0m\n\u001b[0;32m    861\u001b[0m \u001b[1;33m\u001b[0m\u001b[0m\n",
      "\u001b[1;32mE:\\Anaconda\\envs\\IDS\\lib\\site-packages\\joblib\\parallel.py\u001b[0m in \u001b[0;36m_dispatch\u001b[1;34m(self, batch)\u001b[0m\n\u001b[0;32m    775\u001b[0m         \u001b[1;32mwith\u001b[0m \u001b[0mself\u001b[0m\u001b[1;33m.\u001b[0m\u001b[0m_lock\u001b[0m\u001b[1;33m:\u001b[0m\u001b[1;33m\u001b[0m\u001b[1;33m\u001b[0m\u001b[0m\n\u001b[0;32m    776\u001b[0m             \u001b[0mjob_idx\u001b[0m \u001b[1;33m=\u001b[0m \u001b[0mlen\u001b[0m\u001b[1;33m(\u001b[0m\u001b[0mself\u001b[0m\u001b[1;33m.\u001b[0m\u001b[0m_jobs\u001b[0m\u001b[1;33m)\u001b[0m\u001b[1;33m\u001b[0m\u001b[1;33m\u001b[0m\u001b[0m\n\u001b[1;32m--> 777\u001b[1;33m             \u001b[0mjob\u001b[0m \u001b[1;33m=\u001b[0m \u001b[0mself\u001b[0m\u001b[1;33m.\u001b[0m\u001b[0m_backend\u001b[0m\u001b[1;33m.\u001b[0m\u001b[0mapply_async\u001b[0m\u001b[1;33m(\u001b[0m\u001b[0mbatch\u001b[0m\u001b[1;33m,\u001b[0m \u001b[0mcallback\u001b[0m\u001b[1;33m=\u001b[0m\u001b[0mcb\u001b[0m\u001b[1;33m)\u001b[0m\u001b[1;33m\u001b[0m\u001b[1;33m\u001b[0m\u001b[0m\n\u001b[0m\u001b[0;32m    778\u001b[0m             \u001b[1;31m# A job can complete so quickly than its callback is\u001b[0m\u001b[1;33m\u001b[0m\u001b[1;33m\u001b[0m\u001b[1;33m\u001b[0m\u001b[0m\n\u001b[0;32m    779\u001b[0m             \u001b[1;31m# called before we get here, causing self._jobs to\u001b[0m\u001b[1;33m\u001b[0m\u001b[1;33m\u001b[0m\u001b[1;33m\u001b[0m\u001b[0m\n",
      "\u001b[1;32mE:\\Anaconda\\envs\\IDS\\lib\\site-packages\\joblib\\_parallel_backends.py\u001b[0m in \u001b[0;36mapply_async\u001b[1;34m(self, func, callback)\u001b[0m\n\u001b[0;32m    206\u001b[0m     \u001b[1;32mdef\u001b[0m \u001b[0mapply_async\u001b[0m\u001b[1;33m(\u001b[0m\u001b[0mself\u001b[0m\u001b[1;33m,\u001b[0m \u001b[0mfunc\u001b[0m\u001b[1;33m,\u001b[0m \u001b[0mcallback\u001b[0m\u001b[1;33m=\u001b[0m\u001b[1;32mNone\u001b[0m\u001b[1;33m)\u001b[0m\u001b[1;33m:\u001b[0m\u001b[1;33m\u001b[0m\u001b[1;33m\u001b[0m\u001b[0m\n\u001b[0;32m    207\u001b[0m         \u001b[1;34m\"\"\"Schedule a func to be run\"\"\"\u001b[0m\u001b[1;33m\u001b[0m\u001b[1;33m\u001b[0m\u001b[0m\n\u001b[1;32m--> 208\u001b[1;33m         \u001b[0mresult\u001b[0m \u001b[1;33m=\u001b[0m \u001b[0mImmediateResult\u001b[0m\u001b[1;33m(\u001b[0m\u001b[0mfunc\u001b[0m\u001b[1;33m)\u001b[0m\u001b[1;33m\u001b[0m\u001b[1;33m\u001b[0m\u001b[0m\n\u001b[0m\u001b[0;32m    209\u001b[0m         \u001b[1;32mif\u001b[0m \u001b[0mcallback\u001b[0m\u001b[1;33m:\u001b[0m\u001b[1;33m\u001b[0m\u001b[1;33m\u001b[0m\u001b[0m\n\u001b[0;32m    210\u001b[0m             \u001b[0mcallback\u001b[0m\u001b[1;33m(\u001b[0m\u001b[0mresult\u001b[0m\u001b[1;33m)\u001b[0m\u001b[1;33m\u001b[0m\u001b[1;33m\u001b[0m\u001b[0m\n",
      "\u001b[1;32mE:\\Anaconda\\envs\\IDS\\lib\\site-packages\\joblib\\_parallel_backends.py\u001b[0m in \u001b[0;36m__init__\u001b[1;34m(self, batch)\u001b[0m\n\u001b[0;32m    570\u001b[0m         \u001b[1;31m# Don't delay the application, to avoid keeping the input\u001b[0m\u001b[1;33m\u001b[0m\u001b[1;33m\u001b[0m\u001b[1;33m\u001b[0m\u001b[0m\n\u001b[0;32m    571\u001b[0m         \u001b[1;31m# arguments in memory\u001b[0m\u001b[1;33m\u001b[0m\u001b[1;33m\u001b[0m\u001b[1;33m\u001b[0m\u001b[0m\n\u001b[1;32m--> 572\u001b[1;33m         \u001b[0mself\u001b[0m\u001b[1;33m.\u001b[0m\u001b[0mresults\u001b[0m \u001b[1;33m=\u001b[0m \u001b[0mbatch\u001b[0m\u001b[1;33m(\u001b[0m\u001b[1;33m)\u001b[0m\u001b[1;33m\u001b[0m\u001b[1;33m\u001b[0m\u001b[0m\n\u001b[0m\u001b[0;32m    573\u001b[0m \u001b[1;33m\u001b[0m\u001b[0m\n\u001b[0;32m    574\u001b[0m     \u001b[1;32mdef\u001b[0m \u001b[0mget\u001b[0m\u001b[1;33m(\u001b[0m\u001b[0mself\u001b[0m\u001b[1;33m)\u001b[0m\u001b[1;33m:\u001b[0m\u001b[1;33m\u001b[0m\u001b[1;33m\u001b[0m\u001b[0m\n",
      "\u001b[1;32mE:\\Anaconda\\envs\\IDS\\lib\\site-packages\\joblib\\parallel.py\u001b[0m in \u001b[0;36m__call__\u001b[1;34m(self)\u001b[0m\n\u001b[0;32m    260\u001b[0m         \u001b[1;31m# change the default number of processes to -1\u001b[0m\u001b[1;33m\u001b[0m\u001b[1;33m\u001b[0m\u001b[1;33m\u001b[0m\u001b[0m\n\u001b[0;32m    261\u001b[0m         \u001b[1;32mwith\u001b[0m \u001b[0mparallel_backend\u001b[0m\u001b[1;33m(\u001b[0m\u001b[0mself\u001b[0m\u001b[1;33m.\u001b[0m\u001b[0m_backend\u001b[0m\u001b[1;33m,\u001b[0m \u001b[0mn_jobs\u001b[0m\u001b[1;33m=\u001b[0m\u001b[0mself\u001b[0m\u001b[1;33m.\u001b[0m\u001b[0m_n_jobs\u001b[0m\u001b[1;33m)\u001b[0m\u001b[1;33m:\u001b[0m\u001b[1;33m\u001b[0m\u001b[1;33m\u001b[0m\u001b[0m\n\u001b[1;32m--> 262\u001b[1;33m             return [func(*args, **kwargs)\n\u001b[0m\u001b[0;32m    263\u001b[0m                     for func, args, kwargs in self.items]\n\u001b[0;32m    264\u001b[0m \u001b[1;33m\u001b[0m\u001b[0m\n",
      "\u001b[1;32mE:\\Anaconda\\envs\\IDS\\lib\\site-packages\\joblib\\parallel.py\u001b[0m in \u001b[0;36m<listcomp>\u001b[1;34m(.0)\u001b[0m\n\u001b[0;32m    260\u001b[0m         \u001b[1;31m# change the default number of processes to -1\u001b[0m\u001b[1;33m\u001b[0m\u001b[1;33m\u001b[0m\u001b[1;33m\u001b[0m\u001b[0m\n\u001b[0;32m    261\u001b[0m         \u001b[1;32mwith\u001b[0m \u001b[0mparallel_backend\u001b[0m\u001b[1;33m(\u001b[0m\u001b[0mself\u001b[0m\u001b[1;33m.\u001b[0m\u001b[0m_backend\u001b[0m\u001b[1;33m,\u001b[0m \u001b[0mn_jobs\u001b[0m\u001b[1;33m=\u001b[0m\u001b[0mself\u001b[0m\u001b[1;33m.\u001b[0m\u001b[0m_n_jobs\u001b[0m\u001b[1;33m)\u001b[0m\u001b[1;33m:\u001b[0m\u001b[1;33m\u001b[0m\u001b[1;33m\u001b[0m\u001b[0m\n\u001b[1;32m--> 262\u001b[1;33m             return [func(*args, **kwargs)\n\u001b[0m\u001b[0;32m    263\u001b[0m                     for func, args, kwargs in self.items]\n\u001b[0;32m    264\u001b[0m \u001b[1;33m\u001b[0m\u001b[0m\n",
      "\u001b[1;32mE:\\Anaconda\\envs\\IDS\\lib\\site-packages\\sklearn\\utils\\fixes.py\u001b[0m in \u001b[0;36m__call__\u001b[1;34m(self, *args, **kwargs)\u001b[0m\n\u001b[0;32m    220\u001b[0m     \u001b[1;32mdef\u001b[0m \u001b[0m__call__\u001b[0m\u001b[1;33m(\u001b[0m\u001b[0mself\u001b[0m\u001b[1;33m,\u001b[0m \u001b[1;33m*\u001b[0m\u001b[0margs\u001b[0m\u001b[1;33m,\u001b[0m \u001b[1;33m**\u001b[0m\u001b[0mkwargs\u001b[0m\u001b[1;33m)\u001b[0m\u001b[1;33m:\u001b[0m\u001b[1;33m\u001b[0m\u001b[1;33m\u001b[0m\u001b[0m\n\u001b[0;32m    221\u001b[0m         \u001b[1;32mwith\u001b[0m \u001b[0mconfig_context\u001b[0m\u001b[1;33m(\u001b[0m\u001b[1;33m**\u001b[0m\u001b[0mself\u001b[0m\u001b[1;33m.\u001b[0m\u001b[0mconfig\u001b[0m\u001b[1;33m)\u001b[0m\u001b[1;33m:\u001b[0m\u001b[1;33m\u001b[0m\u001b[1;33m\u001b[0m\u001b[0m\n\u001b[1;32m--> 222\u001b[1;33m             \u001b[1;32mreturn\u001b[0m \u001b[0mself\u001b[0m\u001b[1;33m.\u001b[0m\u001b[0mfunction\u001b[0m\u001b[1;33m(\u001b[0m\u001b[1;33m*\u001b[0m\u001b[0margs\u001b[0m\u001b[1;33m,\u001b[0m \u001b[1;33m**\u001b[0m\u001b[0mkwargs\u001b[0m\u001b[1;33m)\u001b[0m\u001b[1;33m\u001b[0m\u001b[1;33m\u001b[0m\u001b[0m\n\u001b[0m",
      "\u001b[1;32mE:\\Anaconda\\envs\\IDS\\lib\\site-packages\\sklearn\\model_selection\\_validation.py\u001b[0m in \u001b[0;36m_fit_and_score\u001b[1;34m(estimator, X, y, scorer, train, test, verbose, parameters, fit_params, return_train_score, return_parameters, return_n_test_samples, return_times, return_estimator, split_progress, candidate_progress, error_score)\u001b[0m\n\u001b[0;32m    591\u001b[0m             \u001b[0mestimator\u001b[0m\u001b[1;33m.\u001b[0m\u001b[0mfit\u001b[0m\u001b[1;33m(\u001b[0m\u001b[0mX_train\u001b[0m\u001b[1;33m,\u001b[0m \u001b[1;33m**\u001b[0m\u001b[0mfit_params\u001b[0m\u001b[1;33m)\u001b[0m\u001b[1;33m\u001b[0m\u001b[1;33m\u001b[0m\u001b[0m\n\u001b[0;32m    592\u001b[0m         \u001b[1;32melse\u001b[0m\u001b[1;33m:\u001b[0m\u001b[1;33m\u001b[0m\u001b[1;33m\u001b[0m\u001b[0m\n\u001b[1;32m--> 593\u001b[1;33m             \u001b[0mestimator\u001b[0m\u001b[1;33m.\u001b[0m\u001b[0mfit\u001b[0m\u001b[1;33m(\u001b[0m\u001b[0mX_train\u001b[0m\u001b[1;33m,\u001b[0m \u001b[0my_train\u001b[0m\u001b[1;33m,\u001b[0m \u001b[1;33m**\u001b[0m\u001b[0mfit_params\u001b[0m\u001b[1;33m)\u001b[0m\u001b[1;33m\u001b[0m\u001b[1;33m\u001b[0m\u001b[0m\n\u001b[0m\u001b[0;32m    594\u001b[0m \u001b[1;33m\u001b[0m\u001b[0m\n\u001b[0;32m    595\u001b[0m     \u001b[1;32mexcept\u001b[0m \u001b[0mException\u001b[0m \u001b[1;32mas\u001b[0m \u001b[0me\u001b[0m\u001b[1;33m:\u001b[0m\u001b[1;33m\u001b[0m\u001b[1;33m\u001b[0m\u001b[0m\n",
      "\u001b[1;32mE:\\Anaconda\\envs\\IDS\\lib\\site-packages\\sklearn\\utils\\validation.py\u001b[0m in \u001b[0;36minner_f\u001b[1;34m(*args, **kwargs)\u001b[0m\n\u001b[0;32m     61\u001b[0m             \u001b[0mextra_args\u001b[0m \u001b[1;33m=\u001b[0m \u001b[0mlen\u001b[0m\u001b[1;33m(\u001b[0m\u001b[0margs\u001b[0m\u001b[1;33m)\u001b[0m \u001b[1;33m-\u001b[0m \u001b[0mlen\u001b[0m\u001b[1;33m(\u001b[0m\u001b[0mall_args\u001b[0m\u001b[1;33m)\u001b[0m\u001b[1;33m\u001b[0m\u001b[1;33m\u001b[0m\u001b[0m\n\u001b[0;32m     62\u001b[0m             \u001b[1;32mif\u001b[0m \u001b[0mextra_args\u001b[0m \u001b[1;33m<=\u001b[0m \u001b[1;36m0\u001b[0m\u001b[1;33m:\u001b[0m\u001b[1;33m\u001b[0m\u001b[1;33m\u001b[0m\u001b[0m\n\u001b[1;32m---> 63\u001b[1;33m                 \u001b[1;32mreturn\u001b[0m \u001b[0mf\u001b[0m\u001b[1;33m(\u001b[0m\u001b[1;33m*\u001b[0m\u001b[0margs\u001b[0m\u001b[1;33m,\u001b[0m \u001b[1;33m**\u001b[0m\u001b[0mkwargs\u001b[0m\u001b[1;33m)\u001b[0m\u001b[1;33m\u001b[0m\u001b[1;33m\u001b[0m\u001b[0m\n\u001b[0m\u001b[0;32m     64\u001b[0m \u001b[1;33m\u001b[0m\u001b[0m\n\u001b[0;32m     65\u001b[0m             \u001b[1;31m# extra_args > 0\u001b[0m\u001b[1;33m\u001b[0m\u001b[1;33m\u001b[0m\u001b[1;33m\u001b[0m\u001b[0m\n",
      "\u001b[1;32mE:\\Anaconda\\envs\\IDS\\lib\\site-packages\\sklearn\\model_selection\\_search.py\u001b[0m in \u001b[0;36mfit\u001b[1;34m(self, X, y, groups, **fit_params)\u001b[0m\n\u001b[0;32m    839\u001b[0m                 \u001b[1;32mreturn\u001b[0m \u001b[0mresults\u001b[0m\u001b[1;33m\u001b[0m\u001b[1;33m\u001b[0m\u001b[0m\n\u001b[0;32m    840\u001b[0m \u001b[1;33m\u001b[0m\u001b[0m\n\u001b[1;32m--> 841\u001b[1;33m             \u001b[0mself\u001b[0m\u001b[1;33m.\u001b[0m\u001b[0m_run_search\u001b[0m\u001b[1;33m(\u001b[0m\u001b[0mevaluate_candidates\u001b[0m\u001b[1;33m)\u001b[0m\u001b[1;33m\u001b[0m\u001b[1;33m\u001b[0m\u001b[0m\n\u001b[0m\u001b[0;32m    842\u001b[0m \u001b[1;33m\u001b[0m\u001b[0m\n\u001b[0;32m    843\u001b[0m             \u001b[1;31m# multimetric is determined here because in the case of a callable\u001b[0m\u001b[1;33m\u001b[0m\u001b[1;33m\u001b[0m\u001b[1;33m\u001b[0m\u001b[0m\n",
      "\u001b[1;32mE:\\Anaconda\\envs\\IDS\\lib\\site-packages\\sklearn\\model_selection\\_search.py\u001b[0m in \u001b[0;36m_run_search\u001b[1;34m(self, evaluate_candidates)\u001b[0m\n\u001b[0;32m   1286\u001b[0m     \u001b[1;32mdef\u001b[0m \u001b[0m_run_search\u001b[0m\u001b[1;33m(\u001b[0m\u001b[0mself\u001b[0m\u001b[1;33m,\u001b[0m \u001b[0mevaluate_candidates\u001b[0m\u001b[1;33m)\u001b[0m\u001b[1;33m:\u001b[0m\u001b[1;33m\u001b[0m\u001b[1;33m\u001b[0m\u001b[0m\n\u001b[0;32m   1287\u001b[0m         \u001b[1;34m\"\"\"Search all candidates in param_grid\"\"\"\u001b[0m\u001b[1;33m\u001b[0m\u001b[1;33m\u001b[0m\u001b[0m\n\u001b[1;32m-> 1288\u001b[1;33m         \u001b[0mevaluate_candidates\u001b[0m\u001b[1;33m(\u001b[0m\u001b[0mParameterGrid\u001b[0m\u001b[1;33m(\u001b[0m\u001b[0mself\u001b[0m\u001b[1;33m.\u001b[0m\u001b[0mparam_grid\u001b[0m\u001b[1;33m)\u001b[0m\u001b[1;33m)\u001b[0m\u001b[1;33m\u001b[0m\u001b[1;33m\u001b[0m\u001b[0m\n\u001b[0m\u001b[0;32m   1289\u001b[0m \u001b[1;33m\u001b[0m\u001b[0m\n\u001b[0;32m   1290\u001b[0m \u001b[1;33m\u001b[0m\u001b[0m\n",
      "\u001b[1;32mE:\\Anaconda\\envs\\IDS\\lib\\site-packages\\sklearn\\model_selection\\_search.py\u001b[0m in \u001b[0;36mevaluate_candidates\u001b[1;34m(candidate_params, cv, more_results)\u001b[0m\n\u001b[0;32m    793\u001b[0m                               n_splits, n_candidates, n_candidates * n_splits))\n\u001b[0;32m    794\u001b[0m \u001b[1;33m\u001b[0m\u001b[0m\n\u001b[1;32m--> 795\u001b[1;33m                 out = parallel(delayed(_fit_and_score)(clone(base_estimator),\n\u001b[0m\u001b[0;32m    796\u001b[0m                                                        \u001b[0mX\u001b[0m\u001b[1;33m,\u001b[0m \u001b[0my\u001b[0m\u001b[1;33m,\u001b[0m\u001b[1;33m\u001b[0m\u001b[1;33m\u001b[0m\u001b[0m\n\u001b[0;32m    797\u001b[0m                                                        \u001b[0mtrain\u001b[0m\u001b[1;33m=\u001b[0m\u001b[0mtrain\u001b[0m\u001b[1;33m,\u001b[0m \u001b[0mtest\u001b[0m\u001b[1;33m=\u001b[0m\u001b[0mtest\u001b[0m\u001b[1;33m,\u001b[0m\u001b[1;33m\u001b[0m\u001b[1;33m\u001b[0m\u001b[0m\n",
      "\u001b[1;32mE:\\Anaconda\\envs\\IDS\\lib\\site-packages\\joblib\\parallel.py\u001b[0m in \u001b[0;36m__call__\u001b[1;34m(self, iterable)\u001b[0m\n\u001b[0;32m   1042\u001b[0m                 \u001b[0mself\u001b[0m\u001b[1;33m.\u001b[0m\u001b[0m_iterating\u001b[0m \u001b[1;33m=\u001b[0m \u001b[0mself\u001b[0m\u001b[1;33m.\u001b[0m\u001b[0m_original_iterator\u001b[0m \u001b[1;32mis\u001b[0m \u001b[1;32mnot\u001b[0m \u001b[1;32mNone\u001b[0m\u001b[1;33m\u001b[0m\u001b[1;33m\u001b[0m\u001b[0m\n\u001b[0;32m   1043\u001b[0m \u001b[1;33m\u001b[0m\u001b[0m\n\u001b[1;32m-> 1044\u001b[1;33m             \u001b[1;32mwhile\u001b[0m \u001b[0mself\u001b[0m\u001b[1;33m.\u001b[0m\u001b[0mdispatch_one_batch\u001b[0m\u001b[1;33m(\u001b[0m\u001b[0miterator\u001b[0m\u001b[1;33m)\u001b[0m\u001b[1;33m:\u001b[0m\u001b[1;33m\u001b[0m\u001b[1;33m\u001b[0m\u001b[0m\n\u001b[0m\u001b[0;32m   1045\u001b[0m                 \u001b[1;32mpass\u001b[0m\u001b[1;33m\u001b[0m\u001b[1;33m\u001b[0m\u001b[0m\n\u001b[0;32m   1046\u001b[0m \u001b[1;33m\u001b[0m\u001b[0m\n",
      "\u001b[1;32mE:\\Anaconda\\envs\\IDS\\lib\\site-packages\\joblib\\parallel.py\u001b[0m in \u001b[0;36mdispatch_one_batch\u001b[1;34m(self, iterator)\u001b[0m\n\u001b[0;32m    857\u001b[0m                 \u001b[1;32mreturn\u001b[0m \u001b[1;32mFalse\u001b[0m\u001b[1;33m\u001b[0m\u001b[1;33m\u001b[0m\u001b[0m\n\u001b[0;32m    858\u001b[0m             \u001b[1;32melse\u001b[0m\u001b[1;33m:\u001b[0m\u001b[1;33m\u001b[0m\u001b[1;33m\u001b[0m\u001b[0m\n\u001b[1;32m--> 859\u001b[1;33m                 \u001b[0mself\u001b[0m\u001b[1;33m.\u001b[0m\u001b[0m_dispatch\u001b[0m\u001b[1;33m(\u001b[0m\u001b[0mtasks\u001b[0m\u001b[1;33m)\u001b[0m\u001b[1;33m\u001b[0m\u001b[1;33m\u001b[0m\u001b[0m\n\u001b[0m\u001b[0;32m    860\u001b[0m                 \u001b[1;32mreturn\u001b[0m \u001b[1;32mTrue\u001b[0m\u001b[1;33m\u001b[0m\u001b[1;33m\u001b[0m\u001b[0m\n\u001b[0;32m    861\u001b[0m \u001b[1;33m\u001b[0m\u001b[0m\n",
      "\u001b[1;32mE:\\Anaconda\\envs\\IDS\\lib\\site-packages\\joblib\\parallel.py\u001b[0m in \u001b[0;36m_dispatch\u001b[1;34m(self, batch)\u001b[0m\n\u001b[0;32m    775\u001b[0m         \u001b[1;32mwith\u001b[0m \u001b[0mself\u001b[0m\u001b[1;33m.\u001b[0m\u001b[0m_lock\u001b[0m\u001b[1;33m:\u001b[0m\u001b[1;33m\u001b[0m\u001b[1;33m\u001b[0m\u001b[0m\n\u001b[0;32m    776\u001b[0m             \u001b[0mjob_idx\u001b[0m \u001b[1;33m=\u001b[0m \u001b[0mlen\u001b[0m\u001b[1;33m(\u001b[0m\u001b[0mself\u001b[0m\u001b[1;33m.\u001b[0m\u001b[0m_jobs\u001b[0m\u001b[1;33m)\u001b[0m\u001b[1;33m\u001b[0m\u001b[1;33m\u001b[0m\u001b[0m\n\u001b[1;32m--> 777\u001b[1;33m             \u001b[0mjob\u001b[0m \u001b[1;33m=\u001b[0m \u001b[0mself\u001b[0m\u001b[1;33m.\u001b[0m\u001b[0m_backend\u001b[0m\u001b[1;33m.\u001b[0m\u001b[0mapply_async\u001b[0m\u001b[1;33m(\u001b[0m\u001b[0mbatch\u001b[0m\u001b[1;33m,\u001b[0m \u001b[0mcallback\u001b[0m\u001b[1;33m=\u001b[0m\u001b[0mcb\u001b[0m\u001b[1;33m)\u001b[0m\u001b[1;33m\u001b[0m\u001b[1;33m\u001b[0m\u001b[0m\n\u001b[0m\u001b[0;32m    778\u001b[0m             \u001b[1;31m# A job can complete so quickly than its callback is\u001b[0m\u001b[1;33m\u001b[0m\u001b[1;33m\u001b[0m\u001b[1;33m\u001b[0m\u001b[0m\n\u001b[0;32m    779\u001b[0m             \u001b[1;31m# called before we get here, causing self._jobs to\u001b[0m\u001b[1;33m\u001b[0m\u001b[1;33m\u001b[0m\u001b[1;33m\u001b[0m\u001b[0m\n",
      "\u001b[1;32mE:\\Anaconda\\envs\\IDS\\lib\\site-packages\\joblib\\_parallel_backends.py\u001b[0m in \u001b[0;36mapply_async\u001b[1;34m(self, func, callback)\u001b[0m\n\u001b[0;32m    206\u001b[0m     \u001b[1;32mdef\u001b[0m \u001b[0mapply_async\u001b[0m\u001b[1;33m(\u001b[0m\u001b[0mself\u001b[0m\u001b[1;33m,\u001b[0m \u001b[0mfunc\u001b[0m\u001b[1;33m,\u001b[0m \u001b[0mcallback\u001b[0m\u001b[1;33m=\u001b[0m\u001b[1;32mNone\u001b[0m\u001b[1;33m)\u001b[0m\u001b[1;33m:\u001b[0m\u001b[1;33m\u001b[0m\u001b[1;33m\u001b[0m\u001b[0m\n\u001b[0;32m    207\u001b[0m         \u001b[1;34m\"\"\"Schedule a func to be run\"\"\"\u001b[0m\u001b[1;33m\u001b[0m\u001b[1;33m\u001b[0m\u001b[0m\n\u001b[1;32m--> 208\u001b[1;33m         \u001b[0mresult\u001b[0m \u001b[1;33m=\u001b[0m \u001b[0mImmediateResult\u001b[0m\u001b[1;33m(\u001b[0m\u001b[0mfunc\u001b[0m\u001b[1;33m)\u001b[0m\u001b[1;33m\u001b[0m\u001b[1;33m\u001b[0m\u001b[0m\n\u001b[0m\u001b[0;32m    209\u001b[0m         \u001b[1;32mif\u001b[0m \u001b[0mcallback\u001b[0m\u001b[1;33m:\u001b[0m\u001b[1;33m\u001b[0m\u001b[1;33m\u001b[0m\u001b[0m\n\u001b[0;32m    210\u001b[0m             \u001b[0mcallback\u001b[0m\u001b[1;33m(\u001b[0m\u001b[0mresult\u001b[0m\u001b[1;33m)\u001b[0m\u001b[1;33m\u001b[0m\u001b[1;33m\u001b[0m\u001b[0m\n",
      "\u001b[1;32mE:\\Anaconda\\envs\\IDS\\lib\\site-packages\\joblib\\_parallel_backends.py\u001b[0m in \u001b[0;36m__init__\u001b[1;34m(self, batch)\u001b[0m\n\u001b[0;32m    570\u001b[0m         \u001b[1;31m# Don't delay the application, to avoid keeping the input\u001b[0m\u001b[1;33m\u001b[0m\u001b[1;33m\u001b[0m\u001b[1;33m\u001b[0m\u001b[0m\n\u001b[0;32m    571\u001b[0m         \u001b[1;31m# arguments in memory\u001b[0m\u001b[1;33m\u001b[0m\u001b[1;33m\u001b[0m\u001b[1;33m\u001b[0m\u001b[0m\n\u001b[1;32m--> 572\u001b[1;33m         \u001b[0mself\u001b[0m\u001b[1;33m.\u001b[0m\u001b[0mresults\u001b[0m \u001b[1;33m=\u001b[0m \u001b[0mbatch\u001b[0m\u001b[1;33m(\u001b[0m\u001b[1;33m)\u001b[0m\u001b[1;33m\u001b[0m\u001b[1;33m\u001b[0m\u001b[0m\n\u001b[0m\u001b[0;32m    573\u001b[0m \u001b[1;33m\u001b[0m\u001b[0m\n\u001b[0;32m    574\u001b[0m     \u001b[1;32mdef\u001b[0m \u001b[0mget\u001b[0m\u001b[1;33m(\u001b[0m\u001b[0mself\u001b[0m\u001b[1;33m)\u001b[0m\u001b[1;33m:\u001b[0m\u001b[1;33m\u001b[0m\u001b[1;33m\u001b[0m\u001b[0m\n",
      "\u001b[1;32mE:\\Anaconda\\envs\\IDS\\lib\\site-packages\\joblib\\parallel.py\u001b[0m in \u001b[0;36m__call__\u001b[1;34m(self)\u001b[0m\n\u001b[0;32m    260\u001b[0m         \u001b[1;31m# change the default number of processes to -1\u001b[0m\u001b[1;33m\u001b[0m\u001b[1;33m\u001b[0m\u001b[1;33m\u001b[0m\u001b[0m\n\u001b[0;32m    261\u001b[0m         \u001b[1;32mwith\u001b[0m \u001b[0mparallel_backend\u001b[0m\u001b[1;33m(\u001b[0m\u001b[0mself\u001b[0m\u001b[1;33m.\u001b[0m\u001b[0m_backend\u001b[0m\u001b[1;33m,\u001b[0m \u001b[0mn_jobs\u001b[0m\u001b[1;33m=\u001b[0m\u001b[0mself\u001b[0m\u001b[1;33m.\u001b[0m\u001b[0m_n_jobs\u001b[0m\u001b[1;33m)\u001b[0m\u001b[1;33m:\u001b[0m\u001b[1;33m\u001b[0m\u001b[1;33m\u001b[0m\u001b[0m\n\u001b[1;32m--> 262\u001b[1;33m             return [func(*args, **kwargs)\n\u001b[0m\u001b[0;32m    263\u001b[0m                     for func, args, kwargs in self.items]\n\u001b[0;32m    264\u001b[0m \u001b[1;33m\u001b[0m\u001b[0m\n",
      "\u001b[1;32mE:\\Anaconda\\envs\\IDS\\lib\\site-packages\\joblib\\parallel.py\u001b[0m in \u001b[0;36m<listcomp>\u001b[1;34m(.0)\u001b[0m\n\u001b[0;32m    260\u001b[0m         \u001b[1;31m# change the default number of processes to -1\u001b[0m\u001b[1;33m\u001b[0m\u001b[1;33m\u001b[0m\u001b[1;33m\u001b[0m\u001b[0m\n\u001b[0;32m    261\u001b[0m         \u001b[1;32mwith\u001b[0m \u001b[0mparallel_backend\u001b[0m\u001b[1;33m(\u001b[0m\u001b[0mself\u001b[0m\u001b[1;33m.\u001b[0m\u001b[0m_backend\u001b[0m\u001b[1;33m,\u001b[0m \u001b[0mn_jobs\u001b[0m\u001b[1;33m=\u001b[0m\u001b[0mself\u001b[0m\u001b[1;33m.\u001b[0m\u001b[0m_n_jobs\u001b[0m\u001b[1;33m)\u001b[0m\u001b[1;33m:\u001b[0m\u001b[1;33m\u001b[0m\u001b[1;33m\u001b[0m\u001b[0m\n\u001b[1;32m--> 262\u001b[1;33m             return [func(*args, **kwargs)\n\u001b[0m\u001b[0;32m    263\u001b[0m                     for func, args, kwargs in self.items]\n\u001b[0;32m    264\u001b[0m \u001b[1;33m\u001b[0m\u001b[0m\n",
      "\u001b[1;32mE:\\Anaconda\\envs\\IDS\\lib\\site-packages\\sklearn\\utils\\fixes.py\u001b[0m in \u001b[0;36m__call__\u001b[1;34m(self, *args, **kwargs)\u001b[0m\n\u001b[0;32m    220\u001b[0m     \u001b[1;32mdef\u001b[0m \u001b[0m__call__\u001b[0m\u001b[1;33m(\u001b[0m\u001b[0mself\u001b[0m\u001b[1;33m,\u001b[0m \u001b[1;33m*\u001b[0m\u001b[0margs\u001b[0m\u001b[1;33m,\u001b[0m \u001b[1;33m**\u001b[0m\u001b[0mkwargs\u001b[0m\u001b[1;33m)\u001b[0m\u001b[1;33m:\u001b[0m\u001b[1;33m\u001b[0m\u001b[1;33m\u001b[0m\u001b[0m\n\u001b[0;32m    221\u001b[0m         \u001b[1;32mwith\u001b[0m \u001b[0mconfig_context\u001b[0m\u001b[1;33m(\u001b[0m\u001b[1;33m**\u001b[0m\u001b[0mself\u001b[0m\u001b[1;33m.\u001b[0m\u001b[0mconfig\u001b[0m\u001b[1;33m)\u001b[0m\u001b[1;33m:\u001b[0m\u001b[1;33m\u001b[0m\u001b[1;33m\u001b[0m\u001b[0m\n\u001b[1;32m--> 222\u001b[1;33m             \u001b[1;32mreturn\u001b[0m \u001b[0mself\u001b[0m\u001b[1;33m.\u001b[0m\u001b[0mfunction\u001b[0m\u001b[1;33m(\u001b[0m\u001b[1;33m*\u001b[0m\u001b[0margs\u001b[0m\u001b[1;33m,\u001b[0m \u001b[1;33m**\u001b[0m\u001b[0mkwargs\u001b[0m\u001b[1;33m)\u001b[0m\u001b[1;33m\u001b[0m\u001b[1;33m\u001b[0m\u001b[0m\n\u001b[0m",
      "\u001b[1;32mE:\\Anaconda\\envs\\IDS\\lib\\site-packages\\sklearn\\model_selection\\_validation.py\u001b[0m in \u001b[0;36m_fit_and_score\u001b[1;34m(estimator, X, y, scorer, train, test, verbose, parameters, fit_params, return_train_score, return_parameters, return_n_test_samples, return_times, return_estimator, split_progress, candidate_progress, error_score)\u001b[0m\n\u001b[0;32m    621\u001b[0m         \u001b[0mscore_time\u001b[0m \u001b[1;33m=\u001b[0m \u001b[0mtime\u001b[0m\u001b[1;33m.\u001b[0m\u001b[0mtime\u001b[0m\u001b[1;33m(\u001b[0m\u001b[1;33m)\u001b[0m \u001b[1;33m-\u001b[0m \u001b[0mstart_time\u001b[0m \u001b[1;33m-\u001b[0m \u001b[0mfit_time\u001b[0m\u001b[1;33m\u001b[0m\u001b[1;33m\u001b[0m\u001b[0m\n\u001b[0;32m    622\u001b[0m         \u001b[1;32mif\u001b[0m \u001b[0mreturn_train_score\u001b[0m\u001b[1;33m:\u001b[0m\u001b[1;33m\u001b[0m\u001b[1;33m\u001b[0m\u001b[0m\n\u001b[1;32m--> 623\u001b[1;33m             train_scores = _score(\n\u001b[0m\u001b[0;32m    624\u001b[0m                 \u001b[0mestimator\u001b[0m\u001b[1;33m,\u001b[0m \u001b[0mX_train\u001b[0m\u001b[1;33m,\u001b[0m \u001b[0my_train\u001b[0m\u001b[1;33m,\u001b[0m \u001b[0mscorer\u001b[0m\u001b[1;33m,\u001b[0m \u001b[0merror_score\u001b[0m\u001b[1;33m\u001b[0m\u001b[1;33m\u001b[0m\u001b[0m\n\u001b[0;32m    625\u001b[0m             )\n",
      "\u001b[1;32mE:\\Anaconda\\envs\\IDS\\lib\\site-packages\\sklearn\\model_selection\\_validation.py\u001b[0m in \u001b[0;36m_score\u001b[1;34m(estimator, X_test, y_test, scorer, error_score)\u001b[0m\n\u001b[0;32m    672\u001b[0m             \u001b[0mscores\u001b[0m \u001b[1;33m=\u001b[0m \u001b[0mscorer\u001b[0m\u001b[1;33m(\u001b[0m\u001b[0mestimator\u001b[0m\u001b[1;33m,\u001b[0m \u001b[0mX_test\u001b[0m\u001b[1;33m)\u001b[0m\u001b[1;33m\u001b[0m\u001b[1;33m\u001b[0m\u001b[0m\n\u001b[0;32m    673\u001b[0m         \u001b[1;32melse\u001b[0m\u001b[1;33m:\u001b[0m\u001b[1;33m\u001b[0m\u001b[1;33m\u001b[0m\u001b[0m\n\u001b[1;32m--> 674\u001b[1;33m             \u001b[0mscores\u001b[0m \u001b[1;33m=\u001b[0m \u001b[0mscorer\u001b[0m\u001b[1;33m(\u001b[0m\u001b[0mestimator\u001b[0m\u001b[1;33m,\u001b[0m \u001b[0mX_test\u001b[0m\u001b[1;33m,\u001b[0m \u001b[0my_test\u001b[0m\u001b[1;33m)\u001b[0m\u001b[1;33m\u001b[0m\u001b[1;33m\u001b[0m\u001b[0m\n\u001b[0m\u001b[0;32m    675\u001b[0m     \u001b[1;32mexcept\u001b[0m \u001b[0mException\u001b[0m\u001b[1;33m:\u001b[0m\u001b[1;33m\u001b[0m\u001b[1;33m\u001b[0m\u001b[0m\n\u001b[0;32m    676\u001b[0m         \u001b[1;32mif\u001b[0m \u001b[0merror_score\u001b[0m \u001b[1;33m==\u001b[0m \u001b[1;34m'raise'\u001b[0m\u001b[1;33m:\u001b[0m\u001b[1;33m\u001b[0m\u001b[1;33m\u001b[0m\u001b[0m\n",
      "\u001b[1;32mE:\\Anaconda\\envs\\IDS\\lib\\site-packages\\sklearn\\metrics\\_scorer.py\u001b[0m in \u001b[0;36m_passthrough_scorer\u001b[1;34m(estimator, *args, **kwargs)\u001b[0m\n\u001b[0;32m    395\u001b[0m \u001b[1;32mdef\u001b[0m \u001b[0m_passthrough_scorer\u001b[0m\u001b[1;33m(\u001b[0m\u001b[0mestimator\u001b[0m\u001b[1;33m,\u001b[0m \u001b[1;33m*\u001b[0m\u001b[0margs\u001b[0m\u001b[1;33m,\u001b[0m \u001b[1;33m**\u001b[0m\u001b[0mkwargs\u001b[0m\u001b[1;33m)\u001b[0m\u001b[1;33m:\u001b[0m\u001b[1;33m\u001b[0m\u001b[1;33m\u001b[0m\u001b[0m\n\u001b[0;32m    396\u001b[0m     \u001b[1;34m\"\"\"Function that wraps estimator.score\"\"\"\u001b[0m\u001b[1;33m\u001b[0m\u001b[1;33m\u001b[0m\u001b[0m\n\u001b[1;32m--> 397\u001b[1;33m     \u001b[1;32mreturn\u001b[0m \u001b[0mestimator\u001b[0m\u001b[1;33m.\u001b[0m\u001b[0mscore\u001b[0m\u001b[1;33m(\u001b[0m\u001b[1;33m*\u001b[0m\u001b[0margs\u001b[0m\u001b[1;33m,\u001b[0m \u001b[1;33m**\u001b[0m\u001b[0mkwargs\u001b[0m\u001b[1;33m)\u001b[0m\u001b[1;33m\u001b[0m\u001b[1;33m\u001b[0m\u001b[0m\n\u001b[0m\u001b[0;32m    398\u001b[0m \u001b[1;33m\u001b[0m\u001b[0m\n\u001b[0;32m    399\u001b[0m \u001b[1;33m\u001b[0m\u001b[0m\n",
      "\u001b[1;32mE:\\Anaconda\\envs\\IDS\\lib\\site-packages\\sklearn\\base.py\u001b[0m in \u001b[0;36mscore\u001b[1;34m(self, X, y, sample_weight)\u001b[0m\n\u001b[0;32m    498\u001b[0m         \"\"\"\n\u001b[0;32m    499\u001b[0m         \u001b[1;32mfrom\u001b[0m \u001b[1;33m.\u001b[0m\u001b[0mmetrics\u001b[0m \u001b[1;32mimport\u001b[0m \u001b[0maccuracy_score\u001b[0m\u001b[1;33m\u001b[0m\u001b[1;33m\u001b[0m\u001b[0m\n\u001b[1;32m--> 500\u001b[1;33m         \u001b[1;32mreturn\u001b[0m \u001b[0maccuracy_score\u001b[0m\u001b[1;33m(\u001b[0m\u001b[0my\u001b[0m\u001b[1;33m,\u001b[0m \u001b[0mself\u001b[0m\u001b[1;33m.\u001b[0m\u001b[0mpredict\u001b[0m\u001b[1;33m(\u001b[0m\u001b[0mX\u001b[0m\u001b[1;33m)\u001b[0m\u001b[1;33m,\u001b[0m \u001b[0msample_weight\u001b[0m\u001b[1;33m=\u001b[0m\u001b[0msample_weight\u001b[0m\u001b[1;33m)\u001b[0m\u001b[1;33m\u001b[0m\u001b[1;33m\u001b[0m\u001b[0m\n\u001b[0m\u001b[0;32m    501\u001b[0m \u001b[1;33m\u001b[0m\u001b[0m\n\u001b[0;32m    502\u001b[0m     \u001b[1;32mdef\u001b[0m \u001b[0m_more_tags\u001b[0m\u001b[1;33m(\u001b[0m\u001b[0mself\u001b[0m\u001b[1;33m)\u001b[0m\u001b[1;33m:\u001b[0m\u001b[1;33m\u001b[0m\u001b[1;33m\u001b[0m\u001b[0m\n",
      "\u001b[1;32mE:\\Anaconda\\envs\\IDS\\lib\\site-packages\\sklearn\\neighbors\\_classification.py\u001b[0m in \u001b[0;36mpredict\u001b[1;34m(self, X)\u001b[0m\n\u001b[0;32m    209\u001b[0m         \u001b[1;32mfor\u001b[0m \u001b[0mk\u001b[0m\u001b[1;33m,\u001b[0m \u001b[0mclasses_k\u001b[0m \u001b[1;32min\u001b[0m \u001b[0menumerate\u001b[0m\u001b[1;33m(\u001b[0m\u001b[0mclasses_\u001b[0m\u001b[1;33m)\u001b[0m\u001b[1;33m:\u001b[0m\u001b[1;33m\u001b[0m\u001b[1;33m\u001b[0m\u001b[0m\n\u001b[0;32m    210\u001b[0m             \u001b[1;32mif\u001b[0m \u001b[0mweights\u001b[0m \u001b[1;32mis\u001b[0m \u001b[1;32mNone\u001b[0m\u001b[1;33m:\u001b[0m\u001b[1;33m\u001b[0m\u001b[1;33m\u001b[0m\u001b[0m\n\u001b[1;32m--> 211\u001b[1;33m                 \u001b[0mmode\u001b[0m\u001b[1;33m,\u001b[0m \u001b[0m_\u001b[0m \u001b[1;33m=\u001b[0m \u001b[0mstats\u001b[0m\u001b[1;33m.\u001b[0m\u001b[0mmode\u001b[0m\u001b[1;33m(\u001b[0m\u001b[0m_y\u001b[0m\u001b[1;33m[\u001b[0m\u001b[0mneigh_ind\u001b[0m\u001b[1;33m,\u001b[0m \u001b[0mk\u001b[0m\u001b[1;33m]\u001b[0m\u001b[1;33m,\u001b[0m \u001b[0maxis\u001b[0m\u001b[1;33m=\u001b[0m\u001b[1;36m1\u001b[0m\u001b[1;33m)\u001b[0m\u001b[1;33m\u001b[0m\u001b[1;33m\u001b[0m\u001b[0m\n\u001b[0m\u001b[0;32m    212\u001b[0m             \u001b[1;32melse\u001b[0m\u001b[1;33m:\u001b[0m\u001b[1;33m\u001b[0m\u001b[1;33m\u001b[0m\u001b[0m\n\u001b[0;32m    213\u001b[0m                 \u001b[0mmode\u001b[0m\u001b[1;33m,\u001b[0m \u001b[0m_\u001b[0m \u001b[1;33m=\u001b[0m \u001b[0mweighted_mode\u001b[0m\u001b[1;33m(\u001b[0m\u001b[0m_y\u001b[0m\u001b[1;33m[\u001b[0m\u001b[0mneigh_ind\u001b[0m\u001b[1;33m,\u001b[0m \u001b[0mk\u001b[0m\u001b[1;33m]\u001b[0m\u001b[1;33m,\u001b[0m \u001b[0mweights\u001b[0m\u001b[1;33m,\u001b[0m \u001b[0maxis\u001b[0m\u001b[1;33m=\u001b[0m\u001b[1;36m1\u001b[0m\u001b[1;33m)\u001b[0m\u001b[1;33m\u001b[0m\u001b[1;33m\u001b[0m\u001b[0m\n",
      "\u001b[1;32mE:\\Anaconda\\envs\\IDS\\lib\\site-packages\\scipy\\stats\\stats.py\u001b[0m in \u001b[0;36mmode\u001b[1;34m(a, axis, nan_policy)\u001b[0m\n\u001b[0;32m    570\u001b[0m     \u001b[0mcounts\u001b[0m \u001b[1;33m=\u001b[0m \u001b[0mnp\u001b[0m\u001b[1;33m.\u001b[0m\u001b[0mempty\u001b[0m\u001b[1;33m(\u001b[0m\u001b[0ma_view\u001b[0m\u001b[1;33m.\u001b[0m\u001b[0mshape\u001b[0m\u001b[1;33m[\u001b[0m\u001b[1;33m:\u001b[0m\u001b[1;33m-\u001b[0m\u001b[1;36m1\u001b[0m\u001b[1;33m]\u001b[0m\u001b[1;33m,\u001b[0m \u001b[0mdtype\u001b[0m\u001b[1;33m=\u001b[0m\u001b[0mnp\u001b[0m\u001b[1;33m.\u001b[0m\u001b[0mint_\u001b[0m\u001b[1;33m)\u001b[0m\u001b[1;33m\u001b[0m\u001b[1;33m\u001b[0m\u001b[0m\n\u001b[0;32m    571\u001b[0m     \u001b[1;32mfor\u001b[0m \u001b[0mind\u001b[0m \u001b[1;32min\u001b[0m \u001b[0minds\u001b[0m\u001b[1;33m:\u001b[0m\u001b[1;33m\u001b[0m\u001b[1;33m\u001b[0m\u001b[0m\n\u001b[1;32m--> 572\u001b[1;33m         \u001b[0mmodes\u001b[0m\u001b[1;33m[\u001b[0m\u001b[0mind\u001b[0m\u001b[1;33m]\u001b[0m\u001b[1;33m,\u001b[0m \u001b[0mcounts\u001b[0m\u001b[1;33m[\u001b[0m\u001b[0mind\u001b[0m\u001b[1;33m]\u001b[0m \u001b[1;33m=\u001b[0m \u001b[0m_mode1D\u001b[0m\u001b[1;33m(\u001b[0m\u001b[0ma_view\u001b[0m\u001b[1;33m[\u001b[0m\u001b[0mind\u001b[0m\u001b[1;33m]\u001b[0m\u001b[1;33m)\u001b[0m\u001b[1;33m\u001b[0m\u001b[1;33m\u001b[0m\u001b[0m\n\u001b[0m\u001b[0;32m    573\u001b[0m     \u001b[0mnewshape\u001b[0m \u001b[1;33m=\u001b[0m \u001b[0mlist\u001b[0m\u001b[1;33m(\u001b[0m\u001b[0ma\u001b[0m\u001b[1;33m.\u001b[0m\u001b[0mshape\u001b[0m\u001b[1;33m)\u001b[0m\u001b[1;33m\u001b[0m\u001b[1;33m\u001b[0m\u001b[0m\n\u001b[0;32m    574\u001b[0m     \u001b[0mnewshape\u001b[0m\u001b[1;33m[\u001b[0m\u001b[0maxis\u001b[0m\u001b[1;33m]\u001b[0m \u001b[1;33m=\u001b[0m \u001b[1;36m1\u001b[0m\u001b[1;33m\u001b[0m\u001b[1;33m\u001b[0m\u001b[0m\n",
      "\u001b[1;32mE:\\Anaconda\\envs\\IDS\\lib\\site-packages\\scipy\\stats\\stats.py\u001b[0m in \u001b[0;36m_mode1D\u001b[1;34m(a)\u001b[0m\n\u001b[0;32m    558\u001b[0m     \u001b[1;32mdef\u001b[0m \u001b[0m_mode1D\u001b[0m\u001b[1;33m(\u001b[0m\u001b[0ma\u001b[0m\u001b[1;33m)\u001b[0m\u001b[1;33m:\u001b[0m\u001b[1;33m\u001b[0m\u001b[1;33m\u001b[0m\u001b[0m\n\u001b[0;32m    559\u001b[0m         \u001b[0mvals\u001b[0m\u001b[1;33m,\u001b[0m \u001b[0mcnts\u001b[0m \u001b[1;33m=\u001b[0m \u001b[0mnp\u001b[0m\u001b[1;33m.\u001b[0m\u001b[0munique\u001b[0m\u001b[1;33m(\u001b[0m\u001b[0ma\u001b[0m\u001b[1;33m,\u001b[0m \u001b[0mreturn_counts\u001b[0m\u001b[1;33m=\u001b[0m\u001b[1;32mTrue\u001b[0m\u001b[1;33m)\u001b[0m\u001b[1;33m\u001b[0m\u001b[1;33m\u001b[0m\u001b[0m\n\u001b[1;32m--> 560\u001b[1;33m         \u001b[1;32mreturn\u001b[0m \u001b[0mvals\u001b[0m\u001b[1;33m[\u001b[0m\u001b[0mcnts\u001b[0m\u001b[1;33m.\u001b[0m\u001b[0margmax\u001b[0m\u001b[1;33m(\u001b[0m\u001b[1;33m)\u001b[0m\u001b[1;33m]\u001b[0m\u001b[1;33m,\u001b[0m \u001b[0mcnts\u001b[0m\u001b[1;33m.\u001b[0m\u001b[0mmax\u001b[0m\u001b[1;33m(\u001b[0m\u001b[1;33m)\u001b[0m\u001b[1;33m\u001b[0m\u001b[1;33m\u001b[0m\u001b[0m\n\u001b[0m\u001b[0;32m    561\u001b[0m \u001b[1;33m\u001b[0m\u001b[0m\n\u001b[0;32m    562\u001b[0m     \u001b[1;31m# np.apply_along_axis will convert the _mode1D tuples to a numpy array, casting types in the process\u001b[0m\u001b[1;33m\u001b[0m\u001b[1;33m\u001b[0m\u001b[1;33m\u001b[0m\u001b[0m\n",
      "\u001b[1;31mKeyboardInterrupt\u001b[0m: "
     ]
    }
   ],
   "source": [
    "print(\"Metrics for KNeighborsClassifier with performance:\")\n",
    "parameter_grid_KNeighborsClassifier = {'n_neighbors': list(range(1, 10)), 'p': [1, 2, 3, 10]}\n",
    "print(\"\\nIris_Dataset:\")\n",
    "show_metrics_classifier_with_performance(KNeighborsClassifier(), parameter_grid_KNeighborsClassifier, x_iris, y_iris) \n",
    "print(\"\\nWine_Dataset:\")\n",
    "show_metrics_classifier_with_performance(KNeighborsClassifier(), parameter_grid_KNeighborsClassifier, x_wine, y_wine )\n",
    "print(\"\\nWdbc_Dataset:\")\n",
    "show_metrics_classifier_with_performance(KNeighborsClassifier(), parameter_grid_KNeighborsClassifier, x_wdbc, y_wdbc )\n",
    "print(\"\\nAbalone_Dataset:\")\n",
    "show_metrics_classifier_with_performance(KNeighborsClassifier(), parameter_grid_KNeighborsClassifier, x_abalone, y_abalone )"
   ]
  },
  {
   "cell_type": "code",
   "execution_count": 1229,
   "metadata": {},
   "outputs": [
    {
     "name": "stdout",
     "output_type": "stream",
     "text": [
      "Metrics for LogisticRegression with performance:\n",
      "\n",
      "Iris_Dataset:\n",
      "      train_accuracy  train_recall  train_precision  train_f1  test_accuracy  test_recall  test_precision   test_f1\n",
      "0           0.933333      0.933333         0.933333  0.933333       0.900000     0.900000        0.902357  0.899749\n",
      "1           0.925000      0.925000         0.925162  0.924988       0.900000     0.900000        0.902357  0.899749\n",
      "2           0.908333      0.908333         0.908484  0.908319       0.866667     0.866667        0.875000  0.865320\n",
      "3           0.941667      0.941667         0.941839  0.941658       0.900000     0.900000        0.902357  0.899749\n",
      "4           0.891667      0.891667         0.891807  0.891650       1.000000     1.000000        1.000000  1.000000\n",
      "mean        0.920000      0.920000         0.920125  0.919990       0.913333     0.913333        0.916414  0.912914\n",
      "\n",
      "Wine_Dataset:\n",
      "      train_accuracy  train_recall  train_precision  train_f1  test_accuracy  test_recall  test_precision   test_f1\n",
      "0           0.985915      0.987060         0.985605  0.986239       0.888889     0.904762        0.903030  0.891534\n",
      "1           0.992958      0.992908         0.994253  0.993517       0.972222     0.976190        0.969697  0.971781\n",
      "2           1.000000      1.000000         1.000000  1.000000       0.944444     0.948413        0.948413  0.948413\n",
      "3           1.000000      1.000000         1.000000  1.000000       0.914286     0.916667        0.941176  0.920123\n",
      "4           1.000000      1.000000         1.000000  1.000000       0.971429     0.969697        0.979167  0.973374\n",
      "mean        0.995775      0.995994         0.995972  0.995951       0.938254     0.943146        0.948297  0.941045\n",
      "\n",
      "Wdbc_Dataset:\n",
      "      train_accuracy  train_recall  train_precision  train_f1  test_accuracy  test_recall  test_precision   test_f1\n",
      "0           0.980220      0.978214         0.979384  0.978793       0.947368     0.939404        0.948212  0.943452\n",
      "1           0.969231      0.964632         0.969331  0.966889       0.929825     0.916148        0.934359  0.923822\n",
      "2           0.980220      0.975903         0.981870  0.978741       0.982456     0.976190        0.986486  0.980956\n",
      "3           0.984615      0.981785         0.985331  0.983506       0.938596     0.931548        0.936017  0.933693\n",
      "4           0.975877      0.972419         0.975913  0.974114       0.982301     0.981053        0.981053  0.981053\n",
      "mean        0.978033      0.974591         0.978366  0.976409       0.956109     0.948869        0.957226  0.952595\n",
      "\n",
      "Abalone_Dataset:\n",
      "      train_accuracy  train_recall  train_precision  train_f1  test_accuracy  test_recall  test_precision   test_f1\n",
      "0           0.565998      0.559912         0.559823  0.537713       0.509569     0.516920        0.499349  0.489015\n",
      "1           0.552828      0.552114         0.545651  0.541733       0.568182     0.560834        0.557074  0.539176\n",
      "2           0.560144      0.556864         0.555025  0.541314       0.542515     0.540916        0.538435  0.531571\n",
      "3           0.546978      0.545524         0.540108  0.532403       0.583234     0.577889        0.581969  0.567945\n",
      "4           0.555356      0.551839         0.548853  0.536234       0.558084     0.553136        0.562368  0.540659\n",
      "mean        0.556261      0.553251         0.549892  0.537879       0.552317     0.549939        0.547839  0.533673\n"
     ]
    }
   ],
   "source": [
    "print(\"Metrics for LogisticRegression with performance:\")\n",
    "parameter_grid_LogisticRegression = {\n",
    "'solver':['newton-cg', 'sag', 'saga'],\n",
    "'penalty' : ['l2'],\n",
    "'C' :[100, 10, 1.0, 0.1, 0.01],'max_iter':[10000]}\n",
    "print(\"\\nIris_Dataset:\")\n",
    "show_metrics_classifier_with_performance(LogisticRegression(), parameter_grid_LogisticRegression, x_iris, y_iris) \n",
    "print(\"\\nWine_Dataset:\")\n",
    "show_metrics_classifier_with_performance(LogisticRegression(), parameter_grid_LogisticRegression, x_wine, y_wine )\n",
    "print(\"\\nWdbc_Dataset:\")\n",
    "show_metrics_classifier_with_performance(LogisticRegression(), parameter_grid_LogisticRegression, x_wdbc, y_wdbc )\n",
    "print(\"\\nAbalone_Dataset:\")\n",
    "show_metrics_classifier_with_performance(LogisticRegression(), parameter_grid_LogisticRegression, x_abalone, y_abalone )"
   ]
  },
  {
   "cell_type": "code",
   "execution_count": 1230,
   "metadata": {},
   "outputs": [
    {
     "name": "stdout",
     "output_type": "stream",
     "text": [
      "Metrics for GaussianNB with performance:\n",
      "\n",
      "Iris_Dataset:\n",
      "      train_accuracy  train_recall  train_precision  train_f1  test_accuracy  test_recall  test_precision   test_f1\n",
      "0           0.941667      0.941667         0.941839  0.941658       0.800000     0.800000        0.825397  0.791667\n",
      "1           0.925000      0.925000         0.925162  0.924988       0.933333     0.933333        0.944444  0.932660\n",
      "2           0.933333      0.933333         0.933333  0.933333       0.900000     0.900000        0.923077  0.897698\n",
      "3           0.933333      0.933333         0.934002  0.933292       0.900000     0.900000        0.902357  0.899749\n",
      "4           0.900000      0.900000         0.900585  0.899937       0.966667     0.966667        0.969697  0.966583\n",
      "mean        0.926667      0.926667         0.926984  0.926642       0.900000     0.900000        0.912994  0.897671\n",
      "\n",
      "Wine_Dataset:\n",
      "      train_accuracy  train_recall  train_precision  train_f1  test_accuracy  test_recall  test_precision   test_f1\n",
      "0           0.978873      0.979968         0.979959  0.979729       0.916667     0.928571        0.918803  0.916364\n",
      "1           0.978873      0.981212         0.977381  0.979019       0.972222     0.976190        0.969697  0.971781\n",
      "2           0.978873      0.981212         0.977381  0.979019       0.944444     0.938889        0.950000  0.943184\n",
      "3           0.965035      0.967027         0.966498  0.966185       0.914286     0.916667        0.941176  0.920123\n",
      "4           0.972028      0.974206         0.971835  0.972670       1.000000     1.000000        1.000000  1.000000\n",
      "mean        0.974737      0.976725         0.974611  0.975324       0.949524     0.952063        0.955935  0.950290\n",
      "\n",
      "Wdbc_Dataset:\n",
      "      train_accuracy  train_recall  train_precision  train_f1  test_accuracy  test_recall  test_precision   test_f1\n",
      "0           0.938462      0.923211         0.945615  0.932521       0.903509     0.885850        0.907895  0.894684\n",
      "1           0.945055      0.935718         0.946186  0.940491       0.903509     0.876679        0.922794  0.892148\n",
      "2           0.931868      0.913571         0.942563  0.924966       0.938596     0.926587        0.941026  0.932981\n",
      "3           0.938462      0.925955         0.942447  0.933083       0.956140     0.945437        0.960513  0.952129\n",
      "4           0.938596      0.927190         0.941126  0.933344       0.955752     0.955064        0.950831  0.952858\n",
      "mean        0.938489      0.925129         0.943588  0.932881       0.931501     0.917923        0.936612  0.924960\n",
      "\n",
      "Abalone_Dataset:\n",
      "      train_accuracy  train_recall  train_precision  train_f1  test_accuracy  test_recall  test_precision   test_f1\n",
      "0           0.555822      0.551732         0.543057  0.522617       0.456938     0.468951        0.431079  0.422498\n",
      "1           0.521401      0.508412         0.529043  0.435604       0.538278     0.526458        0.691451  0.434483\n",
      "2           0.535607      0.536088         0.519204  0.512724       0.522156     0.525224        0.512541  0.510198\n",
      "3           0.518253      0.521410         0.500976  0.498867       0.566467     0.565777        0.555046  0.550042\n",
      "4           0.530521      0.528444         0.515165  0.499554       0.542515     0.536508        0.532342  0.496249\n",
      "mean        0.532321      0.529217         0.521489  0.493873       0.525271     0.524583        0.544492  0.482694\n"
     ]
    }
   ],
   "source": [
    "print(\"Metrics for GaussianNB with performance:\")\n",
    "parameter_grid_GaussianNB = {'var_smoothing': np.logspace(0,-9, num=100)}\n",
    "print(\"\\nIris_Dataset:\")\n",
    "show_metrics_classifier_with_performance(GaussianNB(), parameter_grid_GaussianNB, x_iris, y_iris) \n",
    "print(\"\\nWine_Dataset:\")\n",
    "show_metrics_classifier_with_performance(GaussianNB(), parameter_grid_GaussianNB, x_wine, y_wine )\n",
    "print(\"\\nWdbc_Dataset:\")\n",
    "show_metrics_classifier_with_performance(GaussianNB(), parameter_grid_GaussianNB, x_wdbc, y_wdbc )\n",
    "print(\"\\nAbalone_Dataset:\")\n",
    "show_metrics_classifier_with_performance(GaussianNB(), parameter_grid_GaussianNB, x_abalone, y_abalone )"
   ]
  },
  {
   "cell_type": "code",
   "execution_count": 1236,
   "metadata": {},
   "outputs": [
    {
     "name": "stdout",
     "output_type": "stream",
     "text": [
      "Metrics for RandomForestClassifier with performance:\n",
      "\n",
      "Iris_Dataset:\n",
      "\n",
      "Wine_Dataset:\n",
      "\n",
      "Wdbc_Dataset:\n",
      "\n",
      "Abalone_Dataset:\n",
      "      train_accuracy  train_recall  train_precision  train_f1  test_accuracy  test_recall  test_precision   test_f1\n",
      "0           0.999102      0.999182         0.999071  0.999125       0.504785     0.509492        0.493968  0.493942\n",
      "1           1.000000      1.000000         1.000000  1.000000       0.583732     0.585627        0.582631  0.583723\n",
      "2           1.000000      1.000000         1.000000  1.000000       0.526946     0.527456        0.529099  0.528071\n",
      "3           0.999701      0.999727         0.999690  0.999709       0.555689     0.557162        0.561038  0.559002\n",
      "4           1.000000      1.000000         1.000000  1.000000       0.532934     0.535529        0.532057  0.533707\n",
      "mean        0.999761      0.999782         0.999752  0.999767       0.540817     0.543053        0.539759  0.539689\n"
     ]
    }
   ],
   "source": [
    "print(\"Metrics for RandomForestClassifier with performance:\")\n",
    "parameter_grid_RandomForestClassifier = {'n_estimators':[10, 50],'max_features':['sqrt', 'log2']}\n",
    "print(\"\\nIris_Dataset:\")\n",
    "show_metrics_classifier_with_performance(RandomForestClassifier(), parameter_grid_RandomForestClassifier, x_iris, y_iris) \n",
    "print(\"\\nWine_Dataset:\")\n",
    "show_metrics_classifier_with_performance(RandomForestClassifier(), parameter_grid_RandomForestClassifier, x_wine, y_wine )\n",
    "print(\"\\nWdbc_Dataset:\")\n",
    "show_metrics_classifier_with_performance(RandomForestClassifier(), parameter_grid_RandomForestClassifier, x_wdbc, y_wdbc )\n",
    "print(\"\\nAbalone_Dataset:\")\n",
    "show_metrics_classifier_with_performance(RandomForestClassifier(), parameter_grid_RandomForestClassifier, x_abalone, y_abalone )"
   ]
  },
  {
   "cell_type": "code",
   "execution_count": 1233,
   "metadata": {},
   "outputs": [
    {
     "name": "stdout",
     "output_type": "stream",
     "text": [
      "Metrics for DecisionTreeClassifier with performance:\n",
      "\n",
      "Iris_Dataset:\n",
      "      train_accuracy  train_recall  train_precision  train_f1  test_accuracy  test_recall  test_precision   test_f1\n",
      "0               0.95          0.95         0.952862  0.949875       0.933333     0.933333        0.944444  0.932660\n",
      "1               1.00          1.00         1.000000  1.000000       0.900000     0.900000        0.923077  0.897698\n",
      "2               1.00          1.00         1.000000  1.000000       0.866667     0.866667        0.875000  0.865320\n",
      "3               1.00          1.00         1.000000  1.000000       0.933333     0.933333        0.933333  0.933333\n",
      "4               1.00          1.00         1.000000  1.000000       0.966667     0.966667        0.969697  0.966583\n",
      "mean            0.99          0.99         0.990572  0.989975       0.920000     0.920000        0.929110  0.919119\n",
      "\n",
      "Wine_Dataset:\n",
      "      train_accuracy  train_recall  train_precision  train_f1  test_accuracy  test_recall  test_precision   test_f1\n",
      "0           0.992958      0.992908         0.994253  0.993517       0.722222     0.752381        0.742063  0.702381\n",
      "1           1.000000      1.000000         1.000000  1.000000       0.805556     0.804762        0.819444  0.801384\n",
      "2           0.943662      0.946995         0.948053  0.947041       0.861111     0.861905        0.856410  0.858272\n",
      "3           0.944056      0.942420         0.947349  0.944077       0.800000     0.777778        0.888889  0.800000\n",
      "4           1.000000      1.000000         1.000000  1.000000       0.942857     0.947475        0.944444  0.944361\n",
      "mean        0.976135      0.976465         0.977931  0.976927       0.826349     0.828860        0.850250  0.821279\n",
      "\n",
      "Wdbc_Dataset:\n",
      "      train_accuracy  train_recall  train_precision  train_f1  test_accuracy  test_recall  test_precision   test_f1\n",
      "0           0.986813      0.983459         0.988349  0.985810       0.947368     0.934818        0.953846  0.942867\n",
      "1           0.984615      0.979290         0.988055  0.983381       0.885965     0.871765        0.883446  0.876859\n",
      "2           1.000000      1.000000         1.000000  1.000000       0.973684     0.974206        0.969702  0.971863\n",
      "3           0.978022      0.970588         0.983051  0.976228       0.947368     0.943452        0.943452  0.943452\n",
      "4           0.978070      0.975360         0.977679  0.976496       0.946903     0.943159        0.943159  0.943159\n",
      "mean        0.985504      0.981739         0.987427  0.984383       0.940258     0.933480        0.938721  0.935640\n",
      "\n",
      "Abalone_Dataset:\n",
      "      train_accuracy  train_recall  train_precision  train_f1  test_accuracy  test_recall  test_precision   test_f1\n",
      "0           0.572583      0.563776         0.585154  0.553262       0.525120     0.521099        0.513228  0.502567\n",
      "1           0.556121      0.550174         0.562440  0.543099       0.558612     0.549458        0.559348  0.529721\n",
      "2           0.577199      0.571501         0.577499  0.561517       0.524551     0.520736        0.532815  0.519217\n",
      "3           0.552065      0.565584         0.554827  0.545244       0.534132     0.548207        0.553125  0.531231\n",
      "4           0.605925      0.594539         0.641388  0.569873       0.540120     0.529522        0.544627  0.502217\n",
      "mean        0.572778      0.569115         0.584261  0.554599       0.536507     0.533804        0.540629  0.516991\n"
     ]
    }
   ],
   "source": [
    "print(\"Metrics for DecisionTreeClassifier with performance:\")\n",
    "parameter_grid_KNeighborsClassifier = {'criterion':['gini', 'entropy'], 'max_depth':[2,4,6,8,10,12]}\n",
    "print(\"\\nIris_Dataset:\")\n",
    "show_metrics_classifier_with_performance(DecisionTreeClassifier(), parameter_grid_KNeighborsClassifier, x_iris, y_iris) \n",
    "print(\"\\nWine_Dataset:\")\n",
    "show_metrics_classifier_with_performance(DecisionTreeClassifier(), parameter_grid_KNeighborsClassifier, x_wine, y_wine )\n",
    "print(\"\\nWdbc_Dataset:\")\n",
    "show_metrics_classifier_with_performance(DecisionTreeClassifier(), parameter_grid_KNeighborsClassifier, x_wdbc, y_wdbc )\n",
    "print(\"\\nAbalone_Dataset:\")\n",
    "show_metrics_classifier_with_performance(DecisionTreeClassifier(), parameter_grid_KNeighborsClassifier, x_abalone, y_abalone )"
   ]
  },
  {
   "cell_type": "code",
   "execution_count": null,
   "metadata": {},
   "outputs": [],
   "source": []
  }
 ],
 "metadata": {
  "kernelspec": {
   "display_name": "Python 3",
   "language": "python",
   "name": "python3"
  },
  "language_info": {
   "codemirror_mode": {
    "name": "ipython",
    "version": 3
   },
   "file_extension": ".py",
   "mimetype": "text/x-python",
   "name": "python",
   "nbconvert_exporter": "python",
   "pygments_lexer": "ipython3",
   "version": "3.8.5"
  }
 },
 "nbformat": 4,
 "nbformat_minor": 4
}
