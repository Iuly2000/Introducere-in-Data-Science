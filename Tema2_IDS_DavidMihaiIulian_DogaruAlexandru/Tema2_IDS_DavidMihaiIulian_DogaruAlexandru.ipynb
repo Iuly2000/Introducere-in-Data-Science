{
 "cells": [
  {
   "cell_type": "markdown",
   "metadata": {},
   "source": [
    "# Tema 2"
   ]
  },
  {
   "cell_type": "markdown",
   "metadata": {},
   "source": [
    "## 1. Exercitii cu functii"
   ]
  },
  {
   "cell_type": "markdown",
   "metadata": {
    "ExecuteTime": {
     "end_time": "2019-03-05T18:34:32.294814Z",
     "start_time": "2019-03-05T18:34:32.283406Z"
    }
   },
   "source": [
    "1. Scrieti o functie care determina daca un numar este egal cu suma divizorilor sai, mai putin numarul insusi. \n",
    "\n",
    "Exemplu: divizorii lui 6 sunt 1, 2, 3, 6; suma celor mai mici decat 6 este 1+2+3=6=numarul de plecare. Numarul 8 nu este in aceasta situatie: $8 \\ne 1+2+4=7$. Folositi aceasta functie pentru a afisa toate numere cu proprietatea ceruta pana la un $n$ dat."
   ]
  },
  {
   "cell_type": "code",
   "execution_count": 1,
   "metadata": {},
   "outputs": [],
   "source": [
    "import math\n",
    "import random\n",
    "import numpy as np"
   ]
  },
  {
   "cell_type": "code",
   "execution_count": 30,
   "metadata": {
    "scrolled": true
   },
   "outputs": [
    {
     "name": "stdout",
     "output_type": "stream",
     "text": [
      "[6, 28]\n"
     ]
    }
   ],
   "source": [
    "def check_divisors(number: int) -> bool:\n",
    "    \"\"\"\n",
    "    This function checks if the sum of all the number's divisors(except himself) equals the number\n",
    "    \"\"\"\n",
    "    i: int = 1\n",
    "    sum_divisors: int = 0\n",
    "    while i <= number / 2:\n",
    "        if number % i == 0:\n",
    "            sum_divisors += i\n",
    "        i += 1\n",
    "    if sum_divisors == number:\n",
    "        return True\n",
    "    return False\n",
    "\n",
    "def property(n:int):\n",
    "    return [x for x in range(1,n) if check_divisors(x)]\n",
    "print(property(100))"
   ]
  },
  {
   "cell_type": "markdown",
   "metadata": {},
   "source": [
    "2. Scrieti o functie care determina daca un sir de caractere - presupus a fi scris cu litere mici - este sau nu palindrom. Un palindrom este un sir de caractere care citit de la dreapta la stanga are acelasi continut ca si citirea de la stanga la dreapta. In functie de valoarea unui indicator boolean `ignore_spaces`, avand valoarea implicita `False`, se vor ignora (elimina) sau nu spatiile. Daca sirul dat ca parametru nu are toate literele mici, se va arunca exceptie; [documentatie exceptii in Python](https://www.w3schools.com/python/gloss_python_raise.asp).\n",
    "\n",
    "Exemple:\n",
    "\n",
    "* `is_palindrome('ele fac cafele', ignore_spaces=True)` returneaza `True`; `is_palindrome('ele fac cafele')` returneaza `False`. `is_palindrome('Ele fac cafele')` arunca o exceptie, indiferent de valoarea lui `ignore_spaces`.\n",
    "*  `is_palindrome('abaac')` returneaza `False`"
   ]
  },
  {
   "cell_type": "code",
   "execution_count": 3,
   "metadata": {},
   "outputs": [
    {
     "name": "stdout",
     "output_type": "stream",
     "text": [
      "True\n",
      "False\n",
      "False\n"
     ]
    }
   ],
   "source": [
    "def is_palindrome(string: str, ignore_spaces: bool = False) -> bool:\n",
    "    \"\"\"\n",
    "    This function returns true if the string parameter is a palindrome.\n",
    "    If the second parameter is true then all the spaces will pe ignored\n",
    "    \"\"\"\n",
    "    if not str.islower(string):\n",
    "        raise Exception(\"Sorry, uppercase letters detected!\")\n",
    "    if ignore_spaces is True:\n",
    "        string = string.replace(\" \", \"\")\n",
    "    for index in range(0, int(len(string) / 2)):\n",
    "        if string[index] != string[-index - 1]:\n",
    "            return False\n",
    "    return True\n",
    "\n",
    "\n",
    "print(is_palindrome(\"ele fac cafele\", True))\n",
    "print(is_palindrome(\"ele fac cafele\"))\n",
    "# print(is_palindrome('Ele fac cafele'))\n",
    "print(is_palindrome(\"abaac\"))"
   ]
  },
  {
   "cell_type": "markdown",
   "metadata": {},
   "source": [
    "3. Sa se scrie o functie care primeste caile catre doua fisiere de tip text. Despre fiecare fiecare se stie ca are cate un numar pe linie (numarul de linii din fisiere este necunoscut apriori). Functia va returna un tuplu cu: lista de numere care apar in ambele fisiere si diferenta maxima care exista intre numerele din al doilea fisier si numerele din primul fisier. Numerele pot fi cu semn, intregi sau in virgula mobila (functia trebuie sa mearga in orice situatie). Incercati sa folositi functii predefinite din Python (sau NumPy) si collection comprehension.\n",
    "\n",
    "Exemplu: a.txt contine numerele 1, 2, 3, 4 (cate unul pe linie). b.txt contine 2, 3, 4, 10 (cate un numar pe linie). Functia va returna tuplul `([2, 3, 4], 9)`. Numarul 9 este realizat de 10-1. "
   ]
  },
  {
   "cell_type": "code",
   "execution_count": 32,
   "metadata": {},
   "outputs": [
    {
     "name": "stdout",
     "output_type": "stream",
     "text": [
      "['1', '-2', '3', '4']\n",
      "(['3'], 14.0)\n"
     ]
    }
   ],
   "source": [
    "def numbers_from_file(path1: str, path2: str):\n",
    "    \"\"\"\n",
    "    This function returns a list of numbers that are in both files\n",
    "    and the maximum diference between the numbers from both files\n",
    "    \"\"\"\n",
    "    file1: list = open(path1).read().splitlines()    \n",
    "    file2: list = open(path2).read().splitlines()\n",
    "    numberslist1: list = list(map(float, file1))\n",
    "    numberslist2: list = list(map(float, file2))\n",
    "    return (\n",
    "        [x for x in file1 if x in file2],\n",
    "        max(\n",
    "            max(numberslist1) - min(numberslist2), max(numberslist2) - min(numberslist1)\n",
    "        ),\n",
    "    )\n",
    "\n",
    "\n",
    "print(numbers_from_file(\"file1.txt\", \"file2.txt\"))"
   ]
  },
  {
   "cell_type": "markdown",
   "metadata": {},
   "source": [
    "4. Sa se scrie o functie `sum_divisors_digits`care preia un numar natural strict pozitiv $n$ si returneaza suma cifrelor divizorilor sai. Intr-o alta functie `black_hole` se apeleaza in mod repetat `sum_divisors_digits` pe numerele rezultate, pana cand se atinge un numar maxim de iteratii (implicit 1000) sau se ajunge la numarul 15. Puteti crea alte  functii auxiliare. \n",
    "\n",
    "Exemplul 1: se pleaca de la $n=15$; divizorii sunt $1, 3, 5, 15$; suma cifrelor divizorilor este $1+3+5+1+5=15$, acesta fiind rezultatul apelului `sum_divisors_digits(15)`. Functia `black_hole` se opreste deci dupa un singur apel al functiei `sum_divisors_digits`.\n",
    "\n",
    "Exemplul 2: se pleaca de la $n=21$; divizorii sunt $1, 3, 7, 21$ iar `sum_divisors_digits(21)` este $1+3+7+2+1=14$; se reia in functia `black_hole` apelul functiei `sum_divisors_digits` pana la epuizarea numarului de apeluri sau potentiala stabilizare in 15."
   ]
  },
  {
   "cell_type": "code",
   "execution_count": 5,
   "metadata": {},
   "outputs": [],
   "source": [
    "def sum_digits(n: int):\n",
    "    \"\"\"\n",
    "    This function returns the sum of the number's digits.\n",
    "    \"\"\"\n",
    "    r: int = 0\n",
    "    while n:\n",
    "        r, n = r + n % 10, n // 10\n",
    "    return r\n",
    "\n",
    "\n",
    "def sum_divisors_digits(n: int):\n",
    "    \"\"\"\n",
    "    This function returns the sum of the number's divisors's digits.\n",
    "    \"\"\"\n",
    "    sum: int = 0\n",
    "    for d in range(1, n + 1):\n",
    "        if n % d == 0:\n",
    "            sum += sum_digits(d)\n",
    "    return sum"
   ]
  },
  {
   "cell_type": "code",
   "execution_count": 6,
   "metadata": {},
   "outputs": [],
   "source": [
    "def black_hole(n: int):\n",
    "    \"\"\"\n",
    "    This function runs until the function sum_divisors_digits returns 15 or the loop ends.\n",
    "    \"\"\"\n",
    "    for i in range(1000):\n",
    "        n = sum_divisors_digits(n)\n",
    "        if n == 15:\n",
    "            break\n",
    "    return n"
   ]
  },
  {
   "cell_type": "code",
   "execution_count": 7,
   "metadata": {},
   "outputs": [
    {
     "name": "stdout",
     "output_type": "stream",
     "text": [
      "15\n",
      "15\n",
      "1\n",
      "0\n"
     ]
    }
   ],
   "source": [
    "print(black_hole(15))\n",
    "print(black_hole(21))\n",
    "print(black_hole(1))\n",
    "print(black_hole(0))"
   ]
  },
  {
   "cell_type": "markdown",
   "metadata": {},
   "source": [
    "5. Sa se scrie o functie care primeste doua dictionare si returneaza `True` daca primul dictionar este continut in al doilea si `False` altfel. Spunem ca un dictionar `a` este continut in dictionarul `b` daca toate cheile din `a` se gasesc printre cheile din `b` si toate pentru orice cheie `c` din `a`, `a[c] == b[c]`. Incercati sa folositi functii predefinite din Python (`any, all`), tipuri de date incluse in Python si collection comprehension.   "
   ]
  },
  {
   "cell_type": "code",
   "execution_count": 8,
   "metadata": {},
   "outputs": [
    {
     "name": "stdout",
     "output_type": "stream",
     "text": [
      "True\n"
     ]
    }
   ],
   "source": [
    "def second_contains_first(dict1: dict, dict2: dict):\n",
    "    \"\"\"\n",
    "    This function return true if the first dictionary is contained in the second dictionary\n",
    "    \"\"\"\n",
    "    if all(key in dict2.keys() for key in dict1.keys()) == False:\n",
    "        return False\n",
    "    return all(dict1[key] == dict2[key] for key in dict1.keys())\n",
    "\n",
    "\n",
    "dict1 = {\n",
    "    \"A\": \".-\",\n",
    "    \"B\": \"-...\",\n",
    "    \"C\": \"-.-.\",\n",
    "    \"D\": \"-..\",\n",
    "    \"E\": \".\",\n",
    "    \"F\": \"..-.\",\n",
    "    \"G\": \"--.\",\n",
    "    \"H\": \"....\",\n",
    "    \"I\": \"..\",\n",
    "    \"J\": \".---\",\n",
    "    \"K\": \"-.-\",\n",
    "    \"L\": \".-..\",\n",
    "    \"M\": \"--\",\n",
    "    \"N\": \"-.\",\n",
    "    \"O\": \"---\",\n",
    "    \"P\": \".--.\",\n",
    "    \"Q\": \"--.-\",\n",
    "    \"R\": \".-.\",\n",
    "    \"S\": \"...\",\n",
    "    \"T\": \"-\",\n",
    "    \"U\": \"..-\",\n",
    "    \"V\": \"...-\",\n",
    "    \"W\": \".--\",\n",
    "    \"X\": \"-..-\",\n",
    "    \"Y\": \"-.--\",\n",
    "    \"Z\": \"--..\",\n",
    "}\n",
    "dict2 = {\n",
    "    \"A\": \".-\",\n",
    "    \"B\": \"-...\",\n",
    "    \"C\": \"-.-.\",\n",
    "    \"D\": \"-..\",\n",
    "    \"E\": \".\",\n",
    "    \"F\": \"..-.\",\n",
    "    \"G\": \"--.\",\n",
    "    \"H\": \"....\",\n",
    "    \"I\": \"..\",\n",
    "    \"J\": \".---\",\n",
    "    \"K\": \"-.-\",\n",
    "    \"L\": \".-..\",\n",
    "    \"M\": \"--\",\n",
    "    \"N\": \"-.\",\n",
    "    \"O\": \"---\",\n",
    "    \"P\": \".--.\",\n",
    "    \"Q\": \"--.-\",\n",
    "    \"R\": \".-.\",\n",
    "    \"S\": \"...\",\n",
    "    \"T\": \"-\",\n",
    "    \"U\": \"..-\",\n",
    "    \"V\": \"...-\",\n",
    "    \"W\": \".--\",\n",
    "    \"X\": \"-..-\",\n",
    "    \"Y\": \"-.--\",\n",
    "    \"Z\": \"--..\",\n",
    "    \" \": \" \",\n",
    "    \"0\": \"-----\",\n",
    "    \"1\": \".----\",\n",
    "    \"2\": \"..---\",\n",
    "}\n",
    "\n",
    "print(second_contains_first(dict1, dict2))"
   ]
  },
  {
   "cell_type": "markdown",
   "metadata": {},
   "source": [
    "## 2. Exercitii cu NumPy"
   ]
  },
  {
   "cell_type": "markdown",
   "metadata": {},
   "source": [
    "1. Scrieti o functie care pentru un vector dat $a$ dat, returneaza diferenta de ordinul intai intre elementele sale: $b[i] = a[i+1]-a[i]$. Scrieti apoi o alta functie care face acelasi lucru pentru o matrice, pe linii sau pe coloane.\n",
    "\n",
    "Exemple: \n",
    "* `a = np.array([1, 2, 10, 3])`; `diff1_vector(a)` va returna vectorul NumPy cu continutul `(1, 8, -7)`.\n",
    "* `a  = np.array([[1, 2, 3], [40, 50, 60]])`; `diff1_mat(a, axis=0)` returneaza o matrice cu o singura linie, `[[39, 48, 57]]`. `diff1_mat(a, axis=1)` returneaza o matrice cu 2x2, `[[1, 1], [10, 10]]`. "
   ]
  },
  {
   "cell_type": "code",
   "execution_count": 9,
   "metadata": {},
   "outputs": [
    {
     "name": "stdout",
     "output_type": "stream",
     "text": [
      "[ 1  8 -7]\n"
     ]
    }
   ],
   "source": [
    "def diff1_vector(a: np.array):\n",
    "    \"\"\"\n",
    "    This function returns the first degree difference of the array's elements.\n",
    "    \"\"\"\n",
    "    return np.array([a[i] - a[i - 1] for i in range(1, len(a))])\n",
    "\n",
    "\n",
    "print(diff1_vector(np.array([1, 2, 10, 3])))"
   ]
  },
  {
   "cell_type": "code",
   "execution_count": 10,
   "metadata": {},
   "outputs": [
    {
     "name": "stdout",
     "output_type": "stream",
     "text": [
      "[[39 48 57]]\n",
      "[[ 1  1]\n",
      " [10 10]]\n"
     ]
    }
   ],
   "source": [
    "def diff1_mat(a: np.array, axis: int):\n",
    "    \"\"\"\n",
    "    This function returns the first degree difference of the matrix's elements.\n",
    "    The second parameter indicates the axis on which the difference's evaluated.\n",
    "    \"\"\"\n",
    "    if axis == 0:\n",
    "        return np.array([a[i] - a[i - 1] for i in range(1, a.shape[0])])\n",
    "    return np.array([diff1_vector(i) for i in a])\n",
    "\n",
    "\n",
    "print(diff1_mat(np.array([[1, 2, 3], [40, 50, 60]]), 0))\n",
    "print(diff1_mat(np.array([[1, 2, 3], [40, 50, 60]]), 1))"
   ]
  },
  {
   "cell_type": "markdown",
   "metadata": {},
   "source": [
    "2. Sa se scrie o functie care gaseste pozitiile maximelor locale dintr-un vector numpy. Un maxim local este o valoare care are in vecinii imediati (indicele curent $\\pm 1$, fara a iesi din vector) valori strict mai mici decat ea. \n",
    "\n",
    "Exemplu: `[-1, 3, -7, 1, 2, 6, 0, 1]` -> `[1, 5, 7]`."
   ]
  },
  {
   "cell_type": "code",
   "execution_count": 16,
   "metadata": {},
   "outputs": [
    {
     "name": "stdout",
     "output_type": "stream",
     "text": [
      "[1 5 7]\n",
      "[ 3  5 11]\n"
     ]
    }
   ],
   "source": [
    "def local_maxims(l: np.array):\n",
    "    \"\"\"\n",
    "    This function returns the local maxims in the array\n",
    "    \"\"\"\n",
    "    result = [i for i in range(1, len(l) - 1) if l[i - 1] < l[i] and l[i + 1] < l[i]]\n",
    "    if len(l) > 1:\n",
    "        if l[len(l) - 2] < l[len(l) - 1]:\n",
    "            result += [len(l) - 1]\n",
    "        if l[0] > l[1]:\n",
    "            result = [1] + result\n",
    "    return np.array(result)\n",
    "    \n",
    "print(local_maxims(np.array([-1, 3, -7, 1, 2, 6, 0, 1])))\n",
    "print(local_maxims(np.array([1, 2, 3, 4, 3, 5, 2, 4, 8, 8, 8, 9])))"
   ]
  },
  {
   "cell_type": "markdown",
   "metadata": {},
   "source": [
    "3. Pentru un vector NumPy dat, sa se calculeze toate ferestrele de o anumita lungime, cu o anumita dilatare. Lungimea unei ferestre inseamna numarul de elemente din vectorii rezultati, dilatare reprezinta peste cate elemente vecine se sare in construirea unei \"ferestre\".\n",
    "\n",
    "Exemple:\n",
    "* v = np.arange(20), win_len=4, dilation=1 -> [0, 1, 2, 3], [1, 2, 3, 4], [2, 3, 4, 5], ...[16, 17, 18, 19]\n",
    "* v = np.arange(20), win_len=3, dilation=2 -> [0, 2, 4], [1, 3, 5], ..., [15, 17, 19]\n",
    "\n",
    "Valorile implicite pentru `win_len` si `dilation` sunt 3, respectiv 1. Veti verifica in cadrul functiilor daca: `0 < win_len <= numarul de elemente din vector`, `dilation` > 0 si daca pentru vectorul de intrare, `win_len` si `dilation` date rezulta macar o fereastra; daca vreuna din aceste conditii nu se indeplineste, nu se executa restul functiei si se arunca exceptie (se pot folosi assertiuni sau aruncari de exceptii). Rezultatul se va da ca un tablou cu `win_len` coloane."
   ]
  },
  {
   "cell_type": "code",
   "execution_count": 18,
   "metadata": {},
   "outputs": [
    {
     "name": "stdout",
     "output_type": "stream",
     "text": [
      "[[ 0  1  2]\n",
      " [ 1  2  3]\n",
      " [ 2  3  4]\n",
      " [ 3  4  5]\n",
      " [ 4  5  6]\n",
      " [ 5  6  7]\n",
      " [ 6  7  8]\n",
      " [ 7  8  9]\n",
      " [ 8  9 10]\n",
      " [ 9 10 11]\n",
      " [10 11 12]\n",
      " [11 12 13]\n",
      " [12 13 14]\n",
      " [13 14 15]\n",
      " [14 15 16]\n",
      " [15 16 17]\n",
      " [16 17 18]\n",
      " [17 18 19]]\n"
     ]
    }
   ],
   "source": [
    "def vector_windows(v: np.array, win_len: int = 3, dilation: int = 1):\n",
    "    \"\"\"\n",
    "    This function returns a 2D numpy array with lines that have the length of win_len and\n",
    "    contains elements that have a difference of dilation of the index's between them. \n",
    "    \"\"\"\n",
    "    if not (0 < win_len <= len(v) and dilation > 0):\n",
    "        raise Exception(\"Sorry, the input is not valid\")\n",
    "    return np.array([[v[i + j * dilation] for j in range(win_len)] for i in range(len(v) - (win_len - 1) * dilation)])\n",
    "    vector_windows()\n",
    "print(vector_windows(np.arange(20)))"
   ]
  },
  {
   "cell_type": "markdown",
   "metadata": {},
   "source": [
    "4. Descarcati setul de date Wine descris la 'http://archive.ics.uci.edu/ml/datasets/Wine', fisierul `wine.data`, si incarcati-l intr-o matrice NumPy, folosind np.genfromtxt. Alegeti aleator 35 de pozitii din cadrul matricei de valori, setati pe aceste pozitii NaN. Construiti o functie care, primind la intrare o matrice, returneaza o colectie cu indicii de linii respectiv de coloane in care se gasesc valori Na, precum si matricea 'corectata': valorile NaN se umplu cu o valoare implicita data ca parametru al functiei dvs. "
   ]
  },
  {
   "cell_type": "code",
   "execution_count": 19,
   "metadata": {},
   "outputs": [
    {
     "name": "stdout",
     "output_type": "stream",
     "text": [
      "[1334  667  916 1417  307 2434   87 1020   44  276 1169 1772  677  703\n",
      " 1803 2312 2194 2337 1425 1290  957 1051 2384  277  723 1253 1137   69\n",
      " 1550 1136 2021   18  262 1455 1233]\n",
      "[[  1   4]\n",
      " [  3   2]\n",
      " [  4  13]\n",
      " [  6   3]\n",
      " [ 18  10]\n",
      " [ 19  10]\n",
      " [ 19  11]\n",
      " [ 21  13]\n",
      " [ 47   9]\n",
      " [ 48   5]\n",
      " [ 50   3]\n",
      " [ 51   9]\n",
      " [ 65   6]\n",
      " [ 68   5]\n",
      " [ 72  12]\n",
      " [ 75   1]\n",
      " [ 81   2]\n",
      " [ 81   3]\n",
      " [ 83   7]\n",
      " [ 88   1]\n",
      " [ 89   7]\n",
      " [ 92   2]\n",
      " [ 95   4]\n",
      " [101   3]\n",
      " [101  11]\n",
      " [103  13]\n",
      " [110  10]\n",
      " [126   8]\n",
      " [128  11]\n",
      " [144   5]\n",
      " [156  10]\n",
      " [165   2]\n",
      " [166  13]\n",
      " [170   4]\n",
      " [173  12]]\n",
      "[[1.000e+00 1.423e+01 1.710e+00 ... 1.040e+00 3.920e+00 1.065e+03]\n",
      " [1.000e+00 1.320e+01 1.780e+00 ... 1.050e+00 3.400e+00 1.050e+03]\n",
      " [1.000e+00 1.316e+01 2.360e+00 ... 1.030e+00 3.170e+00 1.185e+03]\n",
      " ...\n",
      " [3.000e+00 1.327e+01 4.280e+00 ... 5.900e-01 1.560e+00 8.350e+02]\n",
      " [3.000e+00 1.317e+01 2.590e+00 ... 6.000e-01 1.620e+00 8.400e+02]\n",
      " [3.000e+00 1.413e+01 4.100e+00 ... 6.100e-01 1.600e+00 5.600e+02]]\n"
     ]
    }
   ],
   "source": [
    "\n",
    "\n",
    "def Nan_to_value(matrix:np.array,value:int=100):\n",
    "    \"\"\"\n",
    "    This function returns a list of NaN's indexes in the matrix and the matrix with the NaN\n",
    "    value replaced with the second parameter value.\n",
    "    \"\"\"\n",
    "    list_of_nan_indexes:np.array=np.argwhere(np.isnan(matrix))\n",
    "    matrix[np.isnan(matrix)]=value\n",
    "    return (list_of_nan_indexes, matrix)\n",
    "\n",
    "matrix=np.genfromtxt(\"wine.data\", delimiter=\",\")\n",
    "choice = np.random.choice(matrix.size, 35, replace=False)\n",
    "\n",
    "rows, cols = np.unravel_index(choice, matrix.shape)\n",
    "matrix[rows, cols] = np.nan\n",
    "\n",
    "result=Nan_to_value(matrix)\n",
    "print(result[0])\n",
    "print(result[1])"
   ]
  },
  {
   "cell_type": "markdown",
   "metadata": {},
   "source": [
    "5. Se da un vector `v` de numere floating point, un numar floating point `x` si un numar intreg `k>0`, `k<=len(v)`. Sa se scrie o functie care determina pozitiile celor mai apropiate `k` valori din `v` fata de `x` (k nearest neighbors, 1d)."
   ]
  },
  {
   "cell_type": "code",
   "execution_count": 24,
   "metadata": {},
   "outputs": [
    {
     "name": "stdout",
     "output_type": "stream",
     "text": [
      "[1, 2]\n"
     ]
    }
   ],
   "source": [
    " def k_nearest_neighbors(v:np.array,x:float,k:int):\n",
    "        \"\"\"\n",
    "        This function returns the k nearest neighbours of x in the v array.\n",
    "        \"\"\"\n",
    "        if k<=0 or k>len(v):\n",
    "            raise Exception(\"k parameter must be a value between 0 and the length of the array\")\n",
    "        distance_list=[(index,abs(element-x)) for index,element in enumerate(v)] \n",
    "        return [sorted(distance_list, key=lambda x: x[1])[index][0] for index in range(k)]\n",
    "    \n",
    "print(k_nearest_neighbors(np.array([7.45,8.42,2.62,6.1]),7.45,2))"
   ]
  },
  {
   "cell_type": "code",
   "execution_count": null,
   "metadata": {},
   "outputs": [],
   "source": []
  }
 ],
 "metadata": {
  "kernelspec": {
   "display_name": "Python 3",
   "language": "python",
   "name": "python3"
  },
  "language_info": {
   "codemirror_mode": {
    "name": "ipython",
    "version": 3
   },
   "file_extension": ".py",
   "mimetype": "text/x-python",
   "name": "python",
   "nbconvert_exporter": "python",
   "pygments_lexer": "ipython3",
   "version": "3.8.5"
  }
 },
 "nbformat": 4,
 "nbformat_minor": 4
}
