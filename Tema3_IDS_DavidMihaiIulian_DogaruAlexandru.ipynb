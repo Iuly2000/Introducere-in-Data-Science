{
 "cells": [
  {
   "cell_type": "code",
   "execution_count": 45,
   "metadata": {},
   "outputs": [
    {
     "name": "stdout",
     "output_type": "stream",
     "text": [
      "IPywidgets version: 7.6.3\n",
      "NumPy version: 1.20.1\n",
      "Matplotlib version: 3.3.4\n"
     ]
    }
   ],
   "source": [
    "import ipywidgets as widgets\n",
    "print(f'IPywidgets version: {widgets.__version__}')\n",
    "\n",
    "import numpy as np\n",
    "print(f'NumPy version: {np.__version__}')\n",
    "\n",
    "import matplotlib.pyplot as plt\n",
    "import matplotlib\n",
    "print(f'Matplotlib version: {matplotlib.__version__}')"
   ]
  },
  {
   "cell_type": "markdown",
   "metadata": {},
   "source": [
    "# Problema 1"
   ]
  },
  {
   "cell_type": "code",
   "execution_count": 5,
   "metadata": {},
   "outputs": [
    {
     "data": {
      "application/vnd.jupyter.widget-view+json": {
       "model_id": "c225b5c2fb144e85b29002ed9315ff0e",
       "version_major": 2,
       "version_minor": 0
      },
      "text/plain": [
       "interactive(children=(IntSlider(value=25, description='x', max=50), FloatSlider(value=0.02, description='alpha…"
      ]
     },
     "metadata": {},
     "output_type": "display_data"
    },
    {
     "data": {
      "text/plain": [
       "<function __main__.gradient_descent(x: float, alpha: float, iterations: int) -> None>"
      ]
     },
     "execution_count": 5,
     "metadata": {},
     "output_type": "execute_result"
    }
   ],
   "source": [
    "def f(x: float) -> float:\n",
    "    return 2 * x ** 3 + 5 * x ** 2 + 3 * x + 4\n",
    "\n",
    "def f_derivative(x: float) -> float:\n",
    "    return 6 * x ** 2 + 10 * x + 3\n",
    "\n",
    "def gradient_descent(x: float, alpha: float, iterations: int) -> None:\n",
    "    old_x: float = 0\n",
    "    mins: float = []\n",
    "    for i in range(0, iterations):\n",
    "        old_x = x \n",
    "        gradient: float = np.clip(f_derivative(old_x), -50, 50)\n",
    "        move: float = gradient * alpha\n",
    "        x = old_x - move\n",
    "        mins.append(f(x))\n",
    "        \n",
    "    plt.grid(axis='both')\n",
    "    plt.plot(mins,'.b')\n",
    "    plt.xlabel('iterations')\n",
    "    plt.ylabel('mins values in function')\n",
    "    plt.show()\n",
    "    \n",
    "wg.interact(gradient_descent, x = (0,50), alpha = (0.01,0.05,0.01), iterations = (10,100))"
   ]
  },
  {
   "cell_type": "markdown",
   "metadata": {},
   "source": [
    "# Problema 2"
   ]
  },
  {
   "cell_type": "code",
   "execution_count": 67,
   "metadata": {},
   "outputs": [
    {
     "data": {
      "application/vnd.jupyter.widget-view+json": {
       "model_id": "a4ef6b9db7334915ab9004fcf2389994",
       "version_major": 2,
       "version_minor": 0
      },
      "text/plain": [
       "interactive(children=(IntSlider(value=25, description='a', max=50, min=1), IntSlider(value=0, description='b',…"
      ]
     },
     "metadata": {},
     "output_type": "display_data"
    },
    {
     "data": {
      "text/plain": [
       "<function __main__.function(a: int, b: int) -> None>"
      ]
     },
     "execution_count": 67,
     "metadata": {},
     "output_type": "execute_result"
    }
   ],
   "source": [
    "def f(x:int,a:int,b:int)->int:\n",
    "    return a * x + b\n",
    "def vertical_distance(x:int,y:int,a:int,b:int)->int:\n",
    "    return abs(y-f(x,a,b))\n",
    "def function(a:int,b:int)->None:\n",
    "    x_axis:np.ndarray = np.random.uniform(-20,10,100)\n",
    "    y_axis:np.ndarray = np.random.uniform(-20,10,100)\n",
    "    x_range:np.ndarray=np.linspace(-20,10,2)\n",
    "    distances:list=[vertical_distance(x_axis[index],y_axis[index],a,b) for index in range(100)]\n",
    "    plt.plot(x_range,f(x_range,a,b),x_axis,y_axis,'.r')\n",
    "    plt.show()\n",
    "    plt.hist(distances,len(distances))\n",
    "    mse:list=[y_axis[index]-(a * x_axis[index] + b) ** 2 for index in range(100)] \n",
    "    print(1/100 * sum(mse));\n",
    "wg.interact(function,a=(1,50),b=(-100,100))"
   ]
  },
  {
   "cell_type": "code",
   "execution_count": null,
   "metadata": {},
   "outputs": [],
   "source": []
  }
 ],
 "metadata": {
  "kernelspec": {
   "display_name": "Python 3",
   "language": "python",
   "name": "python3"
  },
  "language_info": {
   "codemirror_mode": {
    "name": "ipython",
    "version": 3
   },
   "file_extension": ".py",
   "mimetype": "text/x-python",
   "name": "python",
   "nbconvert_exporter": "python",
   "pygments_lexer": "ipython3",
   "version": "3.8.5"
  }
 },
 "nbformat": 4,
 "nbformat_minor": 4
}
