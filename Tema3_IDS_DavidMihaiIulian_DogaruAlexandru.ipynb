{
 "cells": [
  {
   "cell_type": "code",
   "execution_count": 9,
   "metadata": {},
   "outputs": [],
   "source": [
    "import ipywidgets as wg\n",
    "import matplotlib.pyplot as plt\n",
    "import numpy as np"
   ]
  },
  {
   "cell_type": "code",
   "execution_count": 10,
   "metadata": {},
   "outputs": [
    {
     "data": {
      "application/vnd.jupyter.widget-view+json": {
       "model_id": "8d5faaca2dba465c89217726e5cff65b",
       "version_major": 2,
       "version_minor": 0
      },
      "text/plain": [
       "interactive(children=(Dropdown(description='x', options=(0, 50), value=0), FloatSlider(value=0.02, description…"
      ]
     },
     "metadata": {},
     "output_type": "display_data"
    },
    {
     "data": {
      "text/plain": [
       "<function __main__.gradient_descent(x: float, alpha: float, iterations: int) -> None>"
      ]
     },
     "execution_count": 10,
     "metadata": {},
     "output_type": "execute_result"
    }
   ],
   "source": [
    "def f(x: float) -> float:\n",
    "    return 2 * x ** 3 + 5 * x ** 2 + 3 * x + 4\n",
    "\n",
    "def f_derivative(x: float) -> float:\n",
    "    return 6 * x ** 2 + 10 * x + 3\n",
    "\n",
    "def gradient_descent(x: float, alpha: float, iterations: int) -> None:\n",
    "    old_x: float = 0\n",
    "    mins: float = []\n",
    "    for i in range(0, iterations):\n",
    "        old_x = x \n",
    "        gradient: float = np.clip(f_derivative(old_x), -50, 50)\n",
    "        move: float = gradient * alpha\n",
    "        x = old_x - move\n",
    "        mins.append(f(x))\n",
    "        \n",
    "    plt.grid(axis='both')\n",
    "    plt.plot(mins,'.b')\n",
    "    plt.show()\n",
    "    \n",
    "wg.interact(gradient_descent,x=[0,50],alpha=(0.01,0.05,0.01),iterations=(10,100))\n",
    "#print(f(7.3))"
   ]
  },
  {
   "cell_type": "code",
   "execution_count": null,
   "metadata": {},
   "outputs": [],
   "source": []
  }
 ],
 "metadata": {
  "kernelspec": {
   "display_name": "Python 3",
   "language": "python",
   "name": "python3"
  },
  "language_info": {
   "codemirror_mode": {
    "name": "ipython",
    "version": 3
   },
   "file_extension": ".py",
   "mimetype": "text/x-python",
   "name": "python",
   "nbconvert_exporter": "python",
   "pygments_lexer": "ipython3",
   "version": "3.8.5"
  }
 },
 "nbformat": 4,
 "nbformat_minor": 4
}
