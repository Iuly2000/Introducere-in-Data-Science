{
 "cells": [
  {
   "cell_type": "code",
   "execution_count": 56,
   "metadata": {},
   "outputs": [
    {
     "name": "stdout",
     "output_type": "stream",
     "text": [
      "[13.1, 11.427999999999999, 9.956639999999998, 8.661843199999998, 7.522422015999998, 6.519731374079999, 5.637363609190399, 4.860879976087551, 4.177574378957045, 3.5762654534821996]\n"
     ]
    },
    {
     "data": {
      "application/vnd.jupyter.widget-view+json": {
       "model_id": "cd0e0f7a59e740aab6060b4ac78d5502",
       "version_major": 2,
       "version_minor": 0
      },
      "text/plain": [
       "interactive(children=(IntSlider(value=50, description='x'), FloatSlider(value=0.02, description='alpha', max=0…"
      ]
     },
     "metadata": {},
     "output_type": "display_data"
    },
    {
     "data": {
      "text/plain": [
       "<function __main__.gradient_descent(x, alpha, iterations) -> None>"
      ]
     },
     "execution_count": 56,
     "metadata": {},
     "output_type": "execute_result"
    }
   ],
   "source": [
    "import ipywidgets as wg\n",
    "import matplotlib.pyplot as plt\n",
    "import numpy as np\n",
    "def f(x):\n",
    "    return 2 * x ** 3 + 5 * x ** 2 + 3 * x + 4\n",
    "\n",
    "def f_derivative(x):\n",
    "    #return 6 * x ** 2 + 10 * x + 3 \n",
    "    return 12 * x + 10\n",
    "\n",
    "def gradient_descent(x,alpha,iterations)->None:\n",
    "    old_x = 0\n",
    "    mins = []\n",
    "    for i in range(0,iterations):\n",
    "        old_x = x \n",
    "        gradient = f_derivative(old_x) \n",
    "        move = gradient * alpha\n",
    "        x = old_x - move\n",
    "        mins.append(x)\n",
    "    x1=np.linspace(-1,20,10)\n",
    "    fx1=f(x1)\n",
    "    plt.grid(axis='both')\n",
    "    plt.plot(x1,fx1,'*b')\n",
    "    plt.plot(x1,fx1,color='red')\n",
    "    plt.show()\n",
    "print(mins)\n",
    "wg.interact(gradient_descent,x=(0,100),alpha=(0.01,0.05,0.01),iterations=(10,100))\n",
    "#print(f(7.3))"
   ]
  },
  {
   "cell_type": "code",
   "execution_count": null,
   "metadata": {},
   "outputs": [],
   "source": []
  }
 ],
 "metadata": {
  "kernelspec": {
   "display_name": "Python 3",
   "language": "python",
   "name": "python3"
  },
  "language_info": {
   "codemirror_mode": {
    "name": "ipython",
    "version": 3
   },
   "file_extension": ".py",
   "mimetype": "text/x-python",
   "name": "python",
   "nbconvert_exporter": "python",
   "pygments_lexer": "ipython3",
   "version": "3.8.5"
  }
 },
 "nbformat": 4,
 "nbformat_minor": 4
}
