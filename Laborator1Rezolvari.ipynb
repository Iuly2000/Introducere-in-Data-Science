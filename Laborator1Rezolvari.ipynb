{
 "cells": [
  {
   "cell_type": "markdown",
   "metadata": {},
   "source": [
    "# Tema 1"
   ]
  },
  {
   "cell_type": "markdown",
   "metadata": {},
   "source": [
    "## Problema 1"
   ]
  },
  {
   "cell_type": "code",
   "execution_count": 2,
   "metadata": {},
   "outputs": [
    {
     "name": "stdout",
     "output_type": "stream",
     "text": [
      "Expresia ceruta este: -15\n"
     ]
    }
   ],
   "source": [
    "# (1p) Se da o lista de numere. Sa se afiseze diferenta dintre: suma celor mai mari 3 numere si produsul celor mai mici 2 numere.\n",
    "# lista = [10, 3, 5, 20, -4, 9, 1] -> 43\n",
    "# lista = [0, -1, -2, -3 , -4] -> -15\n",
    "\n",
    "#lista = [10, 3, 5, 20, -4, 9, 1]\n",
    "lista = [0, -1, -2, -3 , -4]\n",
    "\n",
    "lista.sort()\n",
    "\n",
    "s = lista[-1] + lista[-2] + lista[-3]\n",
    "p = lista[0] * lista[1]\n",
    "\n",
    "print(f'Expresia ceruta este: {s-p}')"
   ]
  },
  {
   "cell_type": "code",
   "execution_count": null,
   "metadata": {},
   "outputs": [],
   "source": []
  }
 ],
 "metadata": {
  "kernelspec": {
   "display_name": "Python 3",
   "language": "python",
   "name": "python3"
  },
  "language_info": {
   "codemirror_mode": {
    "name": "ipython",
    "version": 3
   },
   "file_extension": ".py",
   "mimetype": "text/x-python",
   "name": "python",
   "nbconvert_exporter": "python",
   "pygments_lexer": "ipython3",
   "version": "3.8.5"
  }
 },
 "nbformat": 4,
 "nbformat_minor": 4
}
