{
 "cells": [
  {
   "cell_type": "markdown",
   "metadata": {},
   "source": [
    "# Tema 1"
   ]
  },
  {
   "cell_type": "markdown",
   "metadata": {},
   "source": [
    "## Problema 1"
   ]
  },
  {
   "cell_type": "code",
   "execution_count": 2,
   "metadata": {},
   "outputs": [
    {
     "name": "stdout",
     "output_type": "stream",
     "text": [
      "Expresia ceruta este: -15\n"
     ]
    }
   ],
   "source": [
    "# (1p) Se da o lista de numere. Sa se afiseze diferenta dintre: suma celor mai mari 3 numere si produsul celor mai mici 2 numere.\n",
    "# Exemple:\n",
    "# lista = [10, 3, 5, 20, -4, 9, 1] -> 43\n",
    "# lista = [0, -1, -2, -3 , -4] -> -15\n",
    "\n",
    "#lista = [10, 3, 5, 20, -4, 9, 1]\n",
    "lista = [0, -1, -2, -3 , -4]\n",
    "\n",
    "lista.sort()\n",
    "\n",
    "s = lista[-1] + lista[-2] + lista[-3]\n",
    "p = lista[0] * lista[1]\n",
    "\n",
    "print(f'Expresia ceruta este: {s-p}')"
   ]
  },
  {
   "cell_type": "markdown",
   "metadata": {},
   "source": [
    "## Problema 2"
   ]
  },
  {
   "cell_type": "code",
   "execution_count": null,
   "metadata": {},
   "outputs": [],
   "source": [
    "#(1p) Se da o lista de cuvinte. Sa se determine cuvintele unice (fara diferenta intre litere mici si mari) si decate ori apare fiecare.\n",
    "#Exemple:\n",
    "#['mouse', 'and', 'branza', 'viezure', 'viezure', 'viezure', 'me', 'slow', 'mouse', 'This', 'mouse', 'out', 'in', 'want','branza', 'song', 'barza', 'barza', 'barza', 'makes', 'to', 'in', 'branza', 'run', 'motion'] -> {'mouse': 3, 'and': 1, 'branza':3, 'viezure': 3, 'me': 1, 'slow': 1, 'This': 1, 'out': 1, 'in': 2, 'want': 1, 'song': 1, 'barza': 3, 'makes': 1, 'to': 1, 'run': 1,'motion': 1}\n",
    "#['doi', 'doi', 'trei', 'Trei', 'un'] -> {'doi': 2, 'trei': 2, 'un': 1}\n",
    "\n",
    "#lista=['doi', 'doi', 'trei', 'Trei', 'un']\n",
    "lista=['mouse', 'and', 'branza', 'viezure', 'viezure', 'viezure', 'me', 'slow', 'mouse', 'This', 'mouse', 'out', 'in', 'want','branza', 'song', 'barza', 'barza', 'barza', 'makes', 'to', 'in', 'branza', 'run', 'motion']\n",
    "dictionar={}\n",
    "\n",
    "for element in lista:\n",
    "    elem=element.lower()\n",
    "    if(dictionar.get(element)!=None):\n",
    "        dictionar[elem]+=1\n",
    "    else:\n",
    "        dictionar[elem]=1\n",
    "        \n",
    "for key,value in dictionar.items():\n",
    "    print(key,'apare de ', value, ' ori')\n"
   ]
  },
  {
   "cell_type": "markdown",
   "metadata": {},
   "source": [
    "## Problema 3"
   ]
  },
  {
   "cell_type": "code",
   "execution_count": 24,
   "metadata": {},
   "outputs": [
    {
     "name": "stdout",
     "output_type": "stream",
     "text": [
      "[-5, -4, 1]\n"
     ]
    }
   ],
   "source": [
    "# (1p) Se da o lista de cel putin 10 numere. Care 3 numere din lista, inmultite, dau produsul maxim?\n",
    "# Exemple:\n",
    "# [10, 1, 2, 9, 7, 8, 3, 6, 4, 5] -> p_max=720, solutie=(10, 9, 8)\n",
    "# [1, -2, -3, -4, -5, 0] -> p_max=20, solutie=(1, -4, -5)\n",
    "\n",
    "# lista = [10, 1, 2, 9, 7, 8, 3, 6, 4, 5]\n",
    "lista = [1, -2, -3, -4, -5, 0]\n",
    "\n",
    "lista.sort()\n",
    "\n",
    "if(lista[-1] < 0):\n",
    "    print(lista[-3:])\n",
    "elif(lista[0] * lista[1] >= lista[-2] * lista[-3]):\n",
    "    print([lista[0], lista[1], lista[-1]])\n",
    "else:\n",
    "    print([lista[-3], lista[-2], lista[-1]])"
   ]
  },
  {
   "cell_type": "markdown",
   "metadata": {},
   "source": [
    "## Problema 4"
   ]
  },
  {
   "cell_type": "code",
   "execution_count": 69,
   "metadata": {},
   "outputs": [
    {
     "name": "stdout",
     "output_type": "stream",
     "text": [
      "[3, 4, 5]\n",
      "[6, 8, 10]\n"
     ]
    }
   ],
   "source": [
    "#(1p) Dandu-se o lista de numere si un numar n natural,, sa se determine toate tripletele a, b, c cu a< b din lista, pentru care.\n",
    "#Exemple:\n",
    "#lista = [12, 11, 10, 9, 8, 7, 6, 5, 4, 3, 2], n=2 -> 3 4 5; 6 8 10\n",
    "#lista = [90, 10, 20, 30, 40, 50], n=3 -> se afiseaza 'Nu exista solutie'\n",
    "\n",
    "#lista=[90, 10, 20, 30, 40, 50]\n",
    "lista=[12, 11, 10, 9, 8, 7, 6, 5, 4, 3, 2]\n",
    "n=2\n",
    "lista.sort()\n",
    "verify=False\n",
    "for index1 in range(0,len(lista)-2):\n",
    "    for index2 in range(index1+1,len(lista)-1):\n",
    "        for index3 in range(index2+1,len(lista)):\n",
    "            if(lista[index1]**n+lista[index2]**n==lista[index3]**n):\n",
    "                print([lista[index1],lista[index2],lista[index3]])\n",
    "                verify=True\n",
    "                \n",
    "if(verify==False):\n",
    "    print('Nu exista solutie')"
   ]
  },
  {
   "cell_type": "markdown",
   "metadata": {},
   "source": [
    "## Problema 5"
   ]
  },
  {
   "cell_type": "code",
   "execution_count": null,
   "metadata": {},
   "outputs": [],
   "source": [
    "# (1p) Dandu-se o propozitie, sa se detemine transcrierea ei in \"pasareasca\" (o vocala se transforma in vocala + 'P' + vocala\n",
    "# Sa se scrie un program care face traducerea inversa (daca stringul dat provine din pasareasca; daca nu, semnaleaza acest lucru).\n",
    "# Exemplu de traducere in pasareasca: acasa-apacapasapa, prietena-pripitepenapa."
   ]
  },
  {
   "cell_type": "markdown",
   "metadata": {},
   "source": [
    "### Subpunctul a)"
   ]
  },
  {
   "cell_type": "code",
   "execution_count": 80,
   "metadata": {},
   "outputs": [
    {
     "name": "stdout",
     "output_type": "stream",
     "text": [
      "apanapa aparepe meperepe\n"
     ]
    }
   ],
   "source": [
    "propozitie = 'ana are mere'\n",
    "vocale = {'a', 'e', 'i', 'o', 'u'}\n",
    "\n",
    "propozitie_noua = ''\n",
    "for index in range(0, len(propozitie)):\n",
    "    propozitie_noua += propozitie[index]\n",
    "    if(propozitie[index] in vocale):\n",
    "        propozitie_noua += 'p' + propozitie[index]\n",
    "print(propozitie_noua)"
   ]
  },
  {
   "cell_type": "markdown",
   "metadata": {},
   "source": [
    "### Subpunctul b)"
   ]
  },
  {
   "cell_type": "code",
   "execution_count": 84,
   "metadata": {},
   "outputs": [
    {
     "name": "stdout",
     "output_type": "stream",
     "text": [
      "Nu este pasareasca!\n"
     ]
    }
   ],
   "source": [
    "propozitie = 'apanapa aparepe meperepe'\n",
    "vocale = {'a', 'e', 'i', 'o', 'u'}\n",
    "\n",
    "propozitie_noua = ''\n",
    "ok = True\n",
    "index = 0\n",
    "\n",
    "while index < len(propozitie):\n",
    "    propozitie_noua += propozitie[index]\n",
    "    if(propozitie[index] not in vocale):\n",
    "        index += 1\n",
    "    elif(propozitie[index + 1] == 'p' and propozitie[index + 2] == propozitie[index]):\n",
    "        index += 3\n",
    "    else:\n",
    "        ok = False\n",
    "        break\n",
    "\n",
    "if(ok == False):\n",
    "    print('Nu este pasareasca!')\n",
    "else:\n",
    "    print(propozitie_noua)"
   ]
  },
  {
   "cell_type": "code",
   "execution_count": null,
   "metadata": {},
   "outputs": [],
   "source": []
  }
 ],
 "metadata": {
  "kernelspec": {
   "display_name": "Python 3",
   "language": "python",
   "name": "python3"
  },
  "language_info": {
   "codemirror_mode": {
    "name": "ipython",
    "version": 3
   },
   "file_extension": ".py",
   "mimetype": "text/x-python",
   "name": "python",
   "nbconvert_exporter": "python",
   "pygments_lexer": "ipython3",
   "version": "3.8.5"
  }
 },
 "nbformat": 4,
 "nbformat_minor": 4
}
