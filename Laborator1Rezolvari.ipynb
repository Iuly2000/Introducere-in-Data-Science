{
 "cells": [
  {
   "cell_type": "markdown",
   "metadata": {},
   "source": [
    "# Tema 1"
   ]
  },
  {
   "cell_type": "markdown",
   "metadata": {},
   "source": [
    "## Problema 1"
   ]
  },
  {
   "cell_type": "code",
   "execution_count": 2,
   "metadata": {},
   "outputs": [
    {
     "name": "stdout",
     "output_type": "stream",
     "text": [
      "Expresia ceruta este: -15\n"
     ]
    }
   ],
   "source": [
    "# (1p) Se da o lista de numere. Sa se afiseze diferenta dintre: suma celor mai mari 3 numere si produsul celor mai mici 2 numere.\n",
    "# Exemple:\n",
    "# lista = [10, 3, 5, 20, -4, 9, 1] -> 43\n",
    "# lista = [0, -1, -2, -3 , -4] -> -15\n",
    "\n",
    "#lista = [10, 3, 5, 20, -4, 9, 1]\n",
    "lista = [0, -1, -2, -3 , -4]\n",
    "\n",
    "lista.sort()\n",
    "\n",
    "s = lista[-1] + lista[-2] + lista[-3]\n",
    "p = lista[0] * lista[1]\n",
    "\n",
    "print(f'Expresia ceruta este: {s-p}')"
   ]
  },
  {
   "cell_type": "markdown",
   "metadata": {},
   "source": [
    "## Problema 2"
   ]
  },
  {
   "cell_type": "code",
   "execution_count": null,
   "metadata": {},
   "outputs": [],
   "source": [
    "#(1p) Se da o lista de cuvinte. Sa se determine cuvintele unice (fara diferenta intre litere mici si mari) si decate ori apare fiecare.\n",
    "#Exemple:\n",
    "#['mouse', 'and', 'branza', 'viezure', 'viezure', 'viezure', 'me', 'slow', 'mouse', 'This', 'mouse', 'out', 'in', 'want','branza', 'song', 'barza', 'barza', 'barza', 'makes', 'to', 'in', 'branza', 'run', 'motion'] -> {'mouse': 3, 'and': 1, 'branza':3, 'viezure': 3, 'me': 1, 'slow': 1, 'This': 1, 'out': 1, 'in': 2, 'want': 1, 'song': 1, 'barza': 3, 'makes': 1, 'to': 1, 'run': 1,'motion': 1}\n",
    "#['doi', 'doi', 'trei', 'Trei', 'un'] -> {'doi': 2, 'trei': 2, 'un': 1}\n",
    "\n",
    "#lista=['doi', 'doi', 'trei', 'Trei', 'un']\n",
    "lista=['mouse', 'and', 'branza', 'viezure', 'viezure', 'viezure', 'me', 'slow', 'mouse', 'This', 'mouse', 'out', 'in', 'want','branza', 'song', 'barza', 'barza', 'barza', 'makes', 'to', 'in', 'branza', 'run', 'motion']\n",
    "dictionar={}\n",
    "\n",
    "for element in lista:\n",
    "    elem=element.lower()\n",
    "    if dictionar.get(element)!=None:\n",
    "        dictionar[elem]+=1\n",
    "    else:\n",
    "        dictionar[elem]=1\n",
    "        \n",
    "for key,value in dictionar.items():\n",
    "    print(key,'apare de ', value, ' ori')\n"
   ]
  },
  {
   "cell_type": "markdown",
   "metadata": {},
   "source": [
    "## Problema 3"
   ]
  },
  {
   "cell_type": "code",
   "execution_count": 24,
   "metadata": {},
   "outputs": [
    {
     "name": "stdout",
     "output_type": "stream",
     "text": [
      "[-5, -4, 1]\n"
     ]
    }
   ],
   "source": [
    "# (1p) Se da o lista de cel putin 10 numere. Care 3 numere din lista, inmultite, dau produsul maxim?\n",
    "# Exemple:\n",
    "# [10, 1, 2, 9, 7, 8, 3, 6, 4, 5] -> p_max=720, solutie=(10, 9, 8)\n",
    "# [1, -2, -3, -4, -5, 0] -> p_max=20, solutie=(1, -4, -5)\n",
    "\n",
    "# lista = [10, 1, 2, 9, 7, 8, 3, 6, 4, 5]\n",
    "lista = [1, -2, -3, -4, -5, 0]\n",
    "\n",
    "lista.sort()\n",
    "\n",
    "if lista[-1] < 0:\n",
    "    print(lista[-3:])\n",
    "elif lista[0] * lista[1] >= lista[-2] * lista[-3]:\n",
    "    print([lista[0], lista[1], lista[-1]])\n",
    "else:\n",
    "    print([lista[-3], lista[-2], lista[-1]])"
   ]
  },
  {
   "cell_type": "markdown",
   "metadata": {},
   "source": [
    "## Problema 4"
   ]
  },
  {
   "cell_type": "code",
   "execution_count": 69,
   "metadata": {},
   "outputs": [
    {
     "name": "stdout",
     "output_type": "stream",
     "text": [
      "[3, 4, 5]\n",
      "[6, 8, 10]\n"
     ]
    }
   ],
   "source": [
    "#(1p) Dandu-se o lista de numere si un numar n natural,, sa se determine toate tripletele a, b, c cu a< b din lista, pentru care.\n",
    "#Exemple:\n",
    "#lista = [12, 11, 10, 9, 8, 7, 6, 5, 4, 3, 2], n=2 -> 3 4 5; 6 8 10\n",
    "#lista = [90, 10, 20, 30, 40, 50], n=3 -> se afiseaza 'Nu exista solutie'\n",
    "\n",
    "#lista=[90, 10, 20, 30, 40, 50]\n",
    "lista=[12, 11, 10, 9, 8, 7, 6, 5, 4, 3, 2]\n",
    "n=2\n",
    "lista.sort()\n",
    "verify=False\n",
    "for index1 in range(0,len(lista)-2):\n",
    "    for index2 in range(index1+1,len(lista)-1):\n",
    "        for index3 in range(index2+1,len(lista)):\n",
    "            if lista[index1]**n+lista[index2]**n==lista[index3]**n:\n",
    "                print([lista[index1],lista[index2],lista[index3]])\n",
    "                verify=True\n",
    "                \n",
    "if verify==False:\n",
    "    print('Nu exista solutie')"
   ]
  },
  {
   "cell_type": "markdown",
   "metadata": {},
   "source": [
    "## Problema 5"
   ]
  },
  {
   "cell_type": "code",
   "execution_count": null,
   "metadata": {},
   "outputs": [],
   "source": [
    "# (1p) Dandu-se o propozitie, sa se detemine transcrierea ei in \"pasareasca\" (o vocala se transforma in vocala + 'P' + vocala\n",
    "# Sa se scrie un program care face traducerea inversa (daca stringul dat provine din pasareasca; daca nu, semnaleaza acest lucru).\n",
    "# Exemplu de traducere in pasareasca: acasa-apacapasapa, prietena-pripitepenapa."
   ]
  },
  {
   "cell_type": "markdown",
   "metadata": {},
   "source": [
    "### Subpunctul a)"
   ]
  },
  {
   "cell_type": "code",
   "execution_count": 80,
   "metadata": {},
   "outputs": [
    {
     "name": "stdout",
     "output_type": "stream",
     "text": [
      "apanapa aparepe meperepe\n"
     ]
    }
   ],
   "source": [
    "propozitie = 'ana are mere'\n",
    "vocale = {'a', 'e', 'i', 'o', 'u'}\n",
    "\n",
    "propozitie_noua = ''\n",
    "for index in range(0, len(propozitie)):\n",
    "    propozitie_noua += propozitie[index]\n",
    "    if propozitie[index] in vocale:\n",
    "        propozitie_noua += 'p' + propozitie[index]\n",
    "print(propozitie_noua)"
   ]
  },
  {
   "cell_type": "markdown",
   "metadata": {},
   "source": [
    "### Subpunctul b)"
   ]
  },
  {
   "cell_type": "code",
   "execution_count": 84,
   "metadata": {},
   "outputs": [
    {
     "name": "stdout",
     "output_type": "stream",
     "text": [
      "Nu este pasareasca!\n"
     ]
    }
   ],
   "source": [
    "propozitie = 'apanapa aparepe meperepe'\n",
    "vocale = {'a', 'e', 'i', 'o', 'u'}\n",
    "\n",
    "propozitie_noua = ''\n",
    "ok = True\n",
    "index = 0\n",
    "\n",
    "while index < len(propozitie):\n",
    "    propozitie_noua += propozitie[index]\n",
    "    if propozitie[index] not in vocale:\n",
    "        index += 1\n",
    "    elif propozitie[index + 1] == 'p' and propozitie[index + 2] == propozitie[index] :\n",
    "        index += 3\n",
    "    else:\n",
    "        ok = False\n",
    "        break\n",
    "\n",
    "if ok == False:\n",
    "    print('Nu este pasareasca!')\n",
    "else:\n",
    "    print(propozitie_noua)"
   ]
  },
  {
   "cell_type": "markdown",
   "metadata": {},
   "source": [
    "## Problema 6"
   ]
  },
  {
   "cell_type": "code",
   "execution_count": 16,
   "metadata": {},
   "outputs": [],
   "source": [
    "# Se da un dictionar in care cheile sunt nume de studenti, iar valorile sunt liste de carti preferate. Sa sedetermine:\n",
    "#A.Care sunt studentii care au in lista de preferinte o carte specificata?\n",
    "#B.Care sunt perechile de studenti care au aceleasi preferinte de carti (ordinea in lista de preferinte nu erelevanta)\n",
    "#C.Pentru un student dat, care sunt studentii cu care are cele mai multe carti comune in liste depreferinte; daca sunt mai multi astfel de studenti cei mai apropiati, se vor enumera toti.\n",
    "#D.Pentru doi studenti, A si B, care e lista de stergeri si adaugari prin care lista lui A devine identica culista lui B (ordinea in lista nefiind importanta)\n",
    "#E.Toate perechile de studenti A, B pentru care lista de preferinte a lui A este inclusa in (dar nu coincidecu) lista de preferinte a lui B.\n",
    "\n",
    "preferinte={\n",
    "    'Popescu': {'carte2','carte1','carte3','carte4'},\n",
    "    'Ionescu': {'carte1','carte2','carte3','carte7','alta carte'},\n",
    "    'Georgescu': {'carte1','alta carte'},\n",
    "    'Xulescu': {'carte2','carte5','carte6','carte7'},\n",
    "    'Dragomir': {'carte4','carte1','carte2','carte3'}\n",
    "}"
   ]
  },
  {
   "cell_type": "markdown",
   "metadata": {},
   "source": [
    "### Subpunctul a)"
   ]
  },
  {
   "cell_type": "code",
   "execution_count": 17,
   "metadata": {},
   "outputs": [
    {
     "name": "stdout",
     "output_type": "stream",
     "text": [
      "['Ionescu', 'Georgescu']\n"
     ]
    }
   ],
   "source": [
    "carte='alta carte'\n",
    "listaStudenti=[]\n",
    "for numeStudent,listaCarti in preferinte.items():\n",
    "    if (carte in listaCarti:\n",
    "        listaStudenti.append(numeStudent)   \n",
    "print(listaStudenti)"
   ]
  },
  {
   "cell_type": "markdown",
   "metadata": {},
   "source": [
    "### Subpunctul b)"
   ]
  },
  {
   "cell_type": "code",
   "execution_count": 41,
   "metadata": {},
   "outputs": [
    {
     "name": "stdout",
     "output_type": "stream",
     "text": [
      "['Popescu', 'Dragomir']\n"
     ]
    }
   ],
   "source": [
    "for index1,key1 in enumerate(preferinte):\n",
    "    for index2,key2 in enumerate(preferinte):\n",
    "        if index2<=index1:\n",
    "            continue   \n",
    "        if preferinte[key1].symmetric_difference(preferinte[key2])==set() :\n",
    "            print([key1,key2])\n",
    "            "
   ]
  },
  {
   "cell_type": "markdown",
   "metadata": {},
   "source": [
    "### Subpunctul c)"
   ]
  },
  {
   "cell_type": "code",
   "execution_count": 55,
   "metadata": {},
   "outputs": [
    {
     "name": "stdout",
     "output_type": "stream",
     "text": [
      "Ionescu ->Suprapunere maxima de preferinte: 3 cu colegii: ['Popescu', 'Dragomir']\n"
     ]
    }
   ],
   "source": [
    "student='Ionescu' \n",
    "lista=preferinte[student]\n",
    "max=0\n",
    "listaStudenti=[]\n",
    "for numeStudent,listaCarti in preferinte.items():\n",
    "    if(numeStudent==student):\n",
    "        continue\n",
    "    nr=len(lista.intersection(listaCarti))       \n",
    "    if nr>max:\n",
    "        listaStudenti.clear()\n",
    "        listaStudenti.append(numeStudent)\n",
    "        max=nr\n",
    "    elif nr==max:\n",
    "        listaStudenti.append(numeStudent)\n",
    "        max=nr\n",
    "print(student,'->Suprapunere maxima de preferinte:',max,'cu colegii:',listaStudenti)\n",
    "    "
   ]
  },
  {
   "cell_type": "markdown",
   "metadata": {},
   "source": [
    "### Subpunctul D"
   ]
  },
  {
   "cell_type": "code",
   "execution_count": 53,
   "metadata": {},
   "outputs": [
    {
     "name": "stdout",
     "output_type": "stream",
     "text": [
      "Se vor adauga cartile: {'carte2', 'carte5', 'carte6', 'carte7'} Se vor scoate cartile: {'carte1', 'alta carte'}\n"
     ]
    }
   ],
   "source": [
    "student1='Georgescu'\n",
    "student2='Xulescu'\n",
    "listaStudent1=preferinte[student1]\n",
    "listaStudent2=preferinte[student2]\n",
    "listaStergeri=listaStudent1.difference(listaStudent2)\n",
    "listaAdaugari=listaStudent2.difference(listaStudent1)\n",
    "print('Se vor adauga cartile:',listaAdaugari,'Se vor scoate cartile:',listaStergeri)"
   ]
  },
  {
   "cell_type": "markdown",
   "metadata": {},
   "source": [
    "### Subpunctul E"
   ]
  },
  {
   "cell_type": "code",
   "execution_count": 65,
   "metadata": {},
   "outputs": [
    {
     "name": "stdout",
     "output_type": "stream",
     "text": [
      "Georgescu Ionescu\n"
     ]
    }
   ],
   "source": [
    "for key1,set1 in preferinte.items():\n",
    "    for key2,set2 in preferinte.items():\n",
    "        if set1.issubset(set2) and set1.symmetric_difference(set2)!=set():\n",
    "            print(key1,key2)"
   ]
  },
  {
   "cell_type": "code",
   "execution_count": null,
   "metadata": {},
   "outputs": [],
   "source": []
  }
 ],
 "metadata": {
  "kernelspec": {
   "display_name": "Python 3",
   "language": "python",
   "name": "python3"
  },
  "language_info": {
   "codemirror_mode": {
    "name": "ipython",
    "version": 3
   },
   "file_extension": ".py",
   "mimetype": "text/x-python",
   "name": "python",
   "nbconvert_exporter": "python",
   "pygments_lexer": "ipython3",
   "version": "3.8.5"
  }
 },
 "nbformat": 4,
 "nbformat_minor": 4
}
