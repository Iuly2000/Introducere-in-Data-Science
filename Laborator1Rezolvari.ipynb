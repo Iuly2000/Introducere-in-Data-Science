{
 "cells": [
  {
   "cell_type": "markdown",
   "metadata": {},
   "source": [
    "# Tema 1"
   ]
  },
  {
   "cell_type": "markdown",
   "metadata": {},
   "source": [
    "## Problema 1"
   ]
  },
  {
   "cell_type": "code",
   "execution_count": 2,
   "metadata": {},
   "outputs": [
    {
     "name": "stdout",
     "output_type": "stream",
     "text": [
      "Expresia ceruta este: -15\n"
     ]
    }
   ],
   "source": [
    "# (1p) Se da o lista de numere. Sa se afiseze diferenta dintre: suma celor mai mari 3 numere si produsul celor mai mici 2 numere.\n",
    "# Exemple:\n",
    "# lista = [10, 3, 5, 20, -4, 9, 1] -> 43\n",
    "# lista = [0, -1, -2, -3 , -4] -> -15\n",
    "\n",
    "#lista = [10, 3, 5, 20, -4, 9, 1]\n",
    "lista = [0, -1, -2, -3 , -4]\n",
    "\n",
    "lista.sort()\n",
    "\n",
    "s = lista[-1] + lista[-2] + lista[-3]\n",
    "p = lista[0] * lista[1]\n",
    "\n",
    "print(f'Expresia ceruta este: {s-p}')"
   ]
  },
  {
   "cell_type": "markdown",
   "metadata": {},
   "source": [
    "## Problema 2"
   ]
  },
  {
   "cell_type": "code",
   "execution_count": null,
   "metadata": {},
   "outputs": [],
   "source": [
    "#(1p) Se da o lista de cuvinte. Sa se determine cuvintele unice (fara diferenta intre litere mici si mari) si decate ori apare fiecare.\n",
    "#Exemple:\n",
    "#['mouse', 'and', 'branza', 'viezure', 'viezure', 'viezure', 'me', 'slow', 'mouse', 'This', 'mouse', 'out', 'in', 'want','branza', 'song', 'barza', 'barza', 'barza', 'makes', 'to', 'in', 'branza', 'run', 'motion'] -> {'mouse': 3, 'and': 1, 'branza':3, 'viezure': 3, 'me': 1, 'slow': 1, 'This': 1, 'out': 1, 'in': 2, 'want': 1, 'song': 1, 'barza': 3, 'makes': 1, 'to': 1, 'run': 1,'motion': 1}\n",
    "#['doi', 'doi', 'trei', 'Trei', 'un'] -> {'doi': 2, 'trei': 2, 'un': 1}\n",
    "\n",
    "#lista=['doi', 'doi', 'trei', 'Trei', 'un']\n",
    "lista=['mouse', 'and', 'branza', 'viezure', 'viezure', 'viezure', 'me', 'slow', 'mouse', 'This', 'mouse', 'out', 'in', 'want','branza', 'song', 'barza', 'barza', 'barza', 'makes', 'to', 'in', 'branza', 'run', 'motion']\n",
    "dictionar={}\n",
    "\n",
    "for element in lista:\n",
    "    elem=element.lower()\n",
    "    if(dictionar.get(element)!=None):\n",
    "        dictionar[elem]+=1\n",
    "    else:\n",
    "        dictionar[elem]=1\n",
    "        \n",
    "for key,value in dictionar.items():\n",
    "    print(key,'apare de ', value, ' ori')\n"
   ]
  },
  {
   "cell_type": "markdown",
   "metadata": {},
   "source": [
    "## Problema 3"
   ]
  },
  {
   "cell_type": "code",
   "execution_count": 24,
   "metadata": {},
   "outputs": [
    {
     "name": "stdout",
     "output_type": "stream",
     "text": [
      "[-5, -4, 1]\n"
     ]
    }
   ],
   "source": [
    "# (1p) Se da o lista de cel putin 10 numere. Care 3 numere din lista, inmultite, dau produsul maxim?\n",
    "# Exemple:\n",
    "# [10, 1, 2, 9, 7, 8, 3, 6, 4, 5] -> p_max=720, solutie=(10, 9, 8)\n",
    "# [1, -2, -3, -4, -5, 0] -> p_max=20, solutie=(1, -4, -5)\n",
    "\n",
    "# lista = [10, 1, 2, 9, 7, 8, 3, 6, 4, 5]\n",
    "lista = [1, -2, -3, -4, -5, 0]\n",
    "\n",
    "lista.sort()\n",
    "\n",
    "if(lista[-1] < 0):\n",
    "    print(lista[-3:])\n",
    "elif(lista[0] * lista[1] >= lista[-2] * lista[-3]):\n",
    "    print([lista[0], lista[1], lista[-1]])\n",
    "else:\n",
    "    print([lista[-3], lista[-2], lista[-1]])"
   ]
  },
  {
   "cell_type": "code",
   "execution_count": null,
   "metadata": {},
   "outputs": [],
   "source": []
  }
 ],
 "metadata": {
  "kernelspec": {
   "display_name": "Python 3",
   "language": "python",
   "name": "python3"
  },
  "language_info": {
   "codemirror_mode": {
    "name": "ipython",
    "version": 3
   },
   "file_extension": ".py",
   "mimetype": "text/x-python",
   "name": "python",
   "nbconvert_exporter": "python",
   "pygments_lexer": "ipython3",
   "version": "3.8.5"
  }
 },
 "nbformat": 4,
 "nbformat_minor": 4
}
