{
 "cells": [
  {
   "cell_type": "markdown",
   "metadata": {},
   "source": [
    "# Tema 2"
   ]
  },
  {
   "cell_type": "markdown",
   "metadata": {},
   "source": [
    "## Exercitiul 1"
   ]
  },
  {
   "cell_type": "code",
   "execution_count": 17,
   "metadata": {
    "scrolled": true
   },
   "outputs": [
    {
     "name": "stdout",
     "output_type": "stream",
     "text": [
      "True\n"
     ]
    }
   ],
   "source": [
    "import math\n",
    "\n",
    "def check_divisors(number:int)->bool: \n",
    "    \"\"\"\n",
    "    This function checks if the sum of all the number's divisors(except himself) equals the number\n",
    "    \"\"\"\n",
    "    i:int = 1\n",
    "    sum_divisors:int = 0\n",
    "    while i <= number / 2: \n",
    "        if (number % i == 0) : \n",
    "            sum_divisors += i\n",
    "        i += 1\n",
    "    if sum_divisors == number:\n",
    "        return True\n",
    "    return False\n",
    "    \n",
    "print(check_divisors(6))"
   ]
  },
  {
   "cell_type": "markdown",
   "metadata": {},
   "source": [
    "## Exercitiul 2"
   ]
  },
  {
   "cell_type": "code",
   "execution_count": 41,
   "metadata": {},
   "outputs": [
    {
     "name": "stdout",
     "output_type": "stream",
     "text": [
      "True\n",
      "False\n",
      "False\n"
     ]
    }
   ],
   "source": [
    "def is_palindrome(string:str, ignore_spaces:bool = False) -> bool:\n",
    "    if not str.islower(string):\n",
    "        raise Exception(\"Sorry, uppercase letters detected!\")\n",
    "    if ignore_spaces is True:\n",
    "        string = string.replace(\" \", \"\")\n",
    "    for index in range(0, int(len(string) / 2)):\n",
    "        if(string[index] != string[- index - 1]):\n",
    "            return False\n",
    "    return True        \n",
    "    \n",
    "print(is_palindrome('ele fac cafele', True))\n",
    "print(is_palindrome('ele fac cafele'))\n",
    "#print(is_palindrome('Ele fac cafele'))\n",
    "print(is_palindrome('abaac'))"
   ]
  }
 ],
 "metadata": {
  "kernelspec": {
   "display_name": "Python 3",
   "language": "python",
   "name": "python3"
  },
  "language_info": {
   "codemirror_mode": {
    "name": "ipython",
    "version": 3
   },
   "file_extension": ".py",
   "mimetype": "text/x-python",
   "name": "python",
   "nbconvert_exporter": "python",
   "pygments_lexer": "ipython3",
   "version": "3.8.5"
  }
 },
 "nbformat": 4,
 "nbformat_minor": 4
}
