{
 "cells": [
  {
   "cell_type": "markdown",
   "metadata": {},
   "source": [
    "# Tema 2"
   ]
  },
  {
   "cell_type": "markdown",
   "metadata": {},
   "source": [
    "## Exercitiul 1"
   ]
  },
  {
   "cell_type": "code",
   "execution_count": 61,
   "metadata": {
    "scrolled": true
   },
   "outputs": [
    {
     "name": "stdout",
     "output_type": "stream",
     "text": [
      "True\n"
     ]
    }
   ],
   "source": [
    "import math\n",
    "import numpy\n",
    "import copy\n",
    "def check_divisors(number:int)->bool: \n",
    "    \"\"\"\n",
    "    This function checks if the sum of all the number's divisors(except himself) equals the number\n",
    "    \"\"\"\n",
    "    i:int = 1\n",
    "    sum_divisors:int = 0\n",
    "    while i <= number / 2: \n",
    "        if (number % i == 0) : \n",
    "            sum_divisors += i\n",
    "        i += 1\n",
    "    if sum_divisors == number:\n",
    "        return True\n",
    "    return False\n",
    "    \n",
    "print(check_divisors(6))"
   ]
  },
  {
   "cell_type": "markdown",
   "metadata": {},
   "source": [
    "## Exercitiul 2"
   ]
  },
  {
   "cell_type": "code",
   "execution_count": 41,
   "metadata": {},
   "outputs": [
    {
     "name": "stdout",
     "output_type": "stream",
     "text": [
      "True\n",
      "False\n",
      "False\n"
     ]
    }
   ],
   "source": [
    "def is_palindrome(string:str, ignore_spaces:bool = False) -> bool:\n",
    "    \"\"\"\n",
    "    This function returns true if the string parameter is a palindrome.\n",
    "    If the second parameter is true then all the spaces will pe ignored\n",
    "    \"\"\"\n",
    "    if not str.islower(string):\n",
    "        raise Exception(\"Sorry, uppercase letters detected!\")\n",
    "    if ignore_spaces is True:\n",
    "        string = string.replace(\" \", \"\")\n",
    "    for index in range(0, int(len(string) / 2)):\n",
    "        if(string[index] != string[- index - 1]):\n",
    "            return False\n",
    "    return True        \n",
    "    \n",
    "print(is_palindrome('ele fac cafele', True))\n",
    "print(is_palindrome('ele fac cafele'))\n",
    "#print(is_palindrome('Ele fac cafele'))\n",
    "print(is_palindrome('abaac'))"
   ]
  },
  {
   "cell_type": "markdown",
   "metadata": {},
   "source": [
    "## Exercitiul 3 "
   ]
  },
  {
   "cell_type": "raw",
   "metadata": {},
   "source": [
    "# Sa se scrie o functie care primeste caile catre doua fisiere de tip text. Despre fiecare fiecare se stie ca arecate un numar pe linie (numarul de linii din fisiere este necunoscut apriori). Functia va returna un tuplu cu:lista de numere care apar in ambele fisiere si diferenta maxima care exista intre numerele din al doileafisier si numerele din primul fisier. Numerele pot fi cu semn, intregi sau in virgula mobila (functia trebuie samearga in orice situatie). Incercati sa folositi functii predefinite din Python (sau NumPy) si collectioncomprehension.\n",
    "Exemplu: a.txt contine numerele 1, 2, 3, 4 (cate unul pe linie). b.txt contine 2, 3, 4, 10 (cate un numar pe linie).Functia va returna tuplul\n",
    "([2, 3, 4], 9). Numarul 9 este realizat de 10-1."
   ]
  },
  {
   "cell_type": "code",
   "execution_count": 84,
   "metadata": {},
   "outputs": [
    {
     "name": "stdout",
     "output_type": "stream",
     "text": [
      "[1, 2, 3, 4, 2, 3, 4, 10]\n",
      "(['2', '3', '4'], 9)\n"
     ]
    }
   ],
   "source": [
    "def numbers_from_file(path1:str,path2:str):\n",
    "    \"\"\"\n",
    "    This function returns a list of numbers that are in both files\n",
    "    and the maximum diference between the numbers from both files\n",
    "    \"\"\"\n",
    "    file1=open(path1)\n",
    "    file2=open(path2)\n",
    "    c1=file1.read().splitlines()\n",
    "    c2=file2.read().splitlines()\n",
    "    combined=list(map(int,c1+c2))\n",
    "    return ([x for x in c1  if x in c2 ],max(combined)-min(combined))\n",
    "    \n",
    "print(numbers_from_file(\"file1.txt\",\"file2.txt\"))"
   ]
  },
  {
   "cell_type": "code",
   "execution_count": null,
   "metadata": {},
   "outputs": [],
   "source": []
  },
  {
   "cell_type": "code",
   "execution_count": null,
   "metadata": {},
   "outputs": [],
   "source": []
  }
 ],
 "metadata": {
  "kernelspec": {
   "display_name": "Python 3",
   "language": "python",
   "name": "python3"
  },
  "language_info": {
   "codemirror_mode": {
    "name": "ipython",
    "version": 3
   },
   "file_extension": ".py",
   "mimetype": "text/x-python",
   "name": "python",
   "nbconvert_exporter": "python",
   "pygments_lexer": "ipython3",
   "version": "3.8.5"
  }
 },
 "nbformat": 4,
 "nbformat_minor": 4
}
