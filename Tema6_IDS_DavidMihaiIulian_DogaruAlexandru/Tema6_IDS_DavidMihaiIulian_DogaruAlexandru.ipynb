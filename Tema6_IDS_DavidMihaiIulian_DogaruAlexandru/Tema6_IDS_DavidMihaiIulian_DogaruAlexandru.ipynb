{
 "cells": [
  {
   "cell_type": "code",
   "execution_count": 52,
   "metadata": {},
   "outputs": [
    {
     "name": "stdout",
     "output_type": "stream",
     "text": [
      "NumPy version: 1.20.1\n",
      "Pandas version: 1.2.3\n",
      "Sklearn version: 0.24.1\n"
     ]
    }
   ],
   "source": [
    "import numpy as np\n",
    "print(f'NumPy version: {np.__version__}')\n",
    "\n",
    "import pandas as pd\n",
    "print(f'Pandas version: {pd.__version__}')\n",
    "\n",
    "import sklearn as sk\n",
    "from sklearn.model_selection import GridSearchCV\n",
    "from sklearn.model_selection import cross_validate\n",
    "from sklearn.preprocessing import OneHotEncoder\n",
    "from sklearn.feature_extraction.text import CountVectorizer\n",
    "from sklearn.model_selection import cross_val_score\n",
    "from sklearn.linear_model import SGDRegressor\n",
    "from sklearn.linear_model import Lasso\n",
    "from sklearn.ensemble import RandomForestRegressor\n",
    "from sklearn.neural_network import MLPRegressor\n",
    "print(f'Sklearn version: {sk.__version__}')\n",
    "\n",
    "#NumPy version: 1.20.1\n",
    "#Pandas version: 1.2.3\n",
    "#Sklearn version: 0.24.1"
   ]
  },
  {
   "cell_type": "code",
   "execution_count": 53,
   "metadata": {},
   "outputs": [],
   "source": [
    "smsdata = pd.read_csv('data/SMSSpamCollection', sep = '\\t', names=[\"label\", \"sms\"])"
   ]
  },
  {
   "cell_type": "code",
   "execution_count": 54,
   "metadata": {},
   "outputs": [],
   "source": [
    "text_x_sms = dataset[\"sms\"].values\n",
    "text_y_sms = dataset[\"label\"].values"
   ]
  },
  {
   "cell_type": "code",
   "execution_count": 55,
   "metadata": {},
   "outputs": [],
   "source": [
    "# enc = OneHotEncoder(handle_unknown='ignore')\n",
    "# enc.fit(text_Y.reshape(-1,1))\n",
    "# Y = enc.transform(text_Y.reshape(-1,1)).toarray()"
   ]
  },
  {
   "cell_type": "code",
   "execution_count": 56,
   "metadata": {},
   "outputs": [],
   "source": [
    "vect = CountVectorizer(max_features=1500, min_df=5, max_df=0.7)\n",
    "x_sms = vect.fit_transform(text_x_sms).toarray()\n",
    "y_sms = vect.fit_transform(text_y_sms).toarray()"
   ]
  },
  {
   "cell_type": "code",
   "execution_count": 57,
   "metadata": {},
   "outputs": [],
   "source": [
    "def show_metrics_regression(reg, parameters: dict, x: np.ndarray, y: np.ndarray) -> pd.core.frame.DataFrame:\n",
    "    \"\"\"\n",
    "    Shows the metrics('mean_absolute_error', 'mean_squared_error', 'median_absolute_error') of a regressor.\n",
    "    \n",
    "    Args:\n",
    "        reg: a regressor\n",
    "        parameters:a dictionary containning the hiperparameters\n",
    "        x: np.array containning the dataset information\n",
    "        y: np.array containning the classification of the data\n",
    "        \n",
    "    Returns:\n",
    "        a pandas dataframe with the metrics of a regressor\n",
    "    \"\"\"\n",
    "    gridsrc = GridSearchCV(estimator=reg, \n",
    "            param_grid=parameters, cv=3, n_jobs=-1, return_train_score=True)   \n",
    "    scoring = ['neg_mean_absolute_error', 'neg_mean_squared_error']\n",
    "    scores1 = cross_validate(gridsrc, x, y, cv=5, scoring=scoring, return_train_score=True)    \n",
    "    \n",
    "    df1 = pd.DataFrame(data={'train_neg_mean_absolute_error': scores1['train_neg_mean_absolute_error'],\n",
    "                            'train_neg_mean_squared_error': scores1['train_neg_mean_squared_error'],                            \n",
    "                            'test_neg_mean_absolute_error': scores1['test_neg_mean_absolute_error'],\n",
    "                            'test_neg_mean_squared_error': scores1['test_neg_mean_squared_error']                            \n",
    "                           })    \n",
    "    \n",
    "    result = pd.DataFrame([df1.mean()])\n",
    "    result.insert(0, 'Model_name', [reg])\n",
    "    result.insert(1, 'Search_strategy', ['GridSearchCV'])\n",
    "    return result"
   ]
  },
  {
   "cell_type": "code",
   "execution_count": 58,
   "metadata": {},
   "outputs": [],
   "source": [
    "parameters_SGDRegressor:dict = {\n",
    "    'max_iter':[10000],\n",
    "    'loss': ['squared_loss','epsilon_insensitive','squared_epsilon_insensitive'],\n",
    "    'penalty' : ['l1', 'l2'],\n",
    "    'alpha' : [0.001, 0.01, 0.1, 1]\n",
    "}\n",
    "parameters_RandomForestRegressor:dict = {\n",
    "    'max_depth': [None, 10, 20],\n",
    "    'min_samples_split': [8, 10, 12],\n",
    "    'n_estimators': [10, 50, 100]    \n",
    "}\n",
    "parameters_Lasso:dict = {\n",
    "    'alpha':[0.01,0.1,1],\n",
    "    'tol':[0.0001,0.001,0.01,0.1],\n",
    "    'selection':['cyclic','random']\n",
    "}\n",
    "parameters_MLPRegressor:dict = {\n",
    "    'max_iter':[10000],\n",
    "    'solver': ['sgd', 'adam'],\n",
    "    'alpha': [0.001, 0.01, 0.1, 1],\n",
    "    'tol':[0.0001, 0.001, 0.01]\n",
    "}"
   ]
  },
  {
   "cell_type": "code",
   "execution_count": 59,
   "metadata": {},
   "outputs": [],
   "source": [
    "def dataset_regression(name:str, x:np.ndarray, y:np.ndarray):\n",
    "    df1 = show_metrics_regression(SGDRegressor(), parameters_SGDRegressor, x, y)\n",
    "    df2 = show_metrics_regression(RandomForestRegressor(),parameters_RandomForestRegressor, x, y)\n",
    "    df3 = show_metrics_regression(Lasso(), parameters_Lasso, x, y)\n",
    "    df4 = show_metrics_regression(MLPRegressor(), parameters_MLPRegressor, x, y)    \n",
    "\n",
    "    df = pd.concat([df1, df2, df3, df4], axis=0, ignore_index=True)\n",
    "    df.columns.name = name\n",
    "\n",
    "    return df"
   ]
  },
  {
   "cell_type": "code",
   "execution_count": 60,
   "metadata": {},
   "outputs": [],
   "source": [
    "def highlight_max(s)->list:    \n",
    "    \"\"\"\n",
    "    Highlight the maximum in a dataframe red for maximum and green for minimum.\n",
    "    \"\"\"\n",
    "    \n",
    "    max_val:float = s.max()\n",
    "    min_val:float = s.min()\n",
    "    return ['background-color: #ff6666' if v==max_val and type(v)\n",
    "            else 'background-color: #bdfcc2'if v==min_val else '' for v in s]\n",
    "\n",
    "def finishing(df:pd.core.frame.DataFrame)->pd.core.frame.DataFrame:\n",
    "    \"\"\"\n",
    "    Args:\n",
    "        df:a dataframe\n",
    "    \n",
    "    Returns:\n",
    "        a dataframe with positive numbers and highlights the maximum and minimum.\n",
    "    \"\"\"\n",
    "    aux = df.columns.name\n",
    "    df.iloc[:, 2:] = df.iloc[:, 2:].abs()\n",
    "\n",
    "    df.columns = ['Model_name', 'Search_strategy',\n",
    "                  'train_mean_absolute_error', 'train_mean_squared_error',\n",
    "                   'test_mean_absolute_error','test_mean_squared_error']\n",
    "\n",
    "    df = df.style.apply(highlight_max, subset=df.columns[2:])\n",
    "    df.columns.name = aux\n",
    "    return df"
   ]
  },
  {
   "cell_type": "code",
   "execution_count": 61,
   "metadata": {},
   "outputs": [
    {
     "data": {
      "text/html": [
       "<style  type=\"text/css\" >\n",
       "#T_daad8_row1_col2,#T_daad8_row1_col3,#T_daad8_row1_col4,#T_daad8_row3_col5{\n",
       "            background-color:  #bdfcc2;\n",
       "        }#T_daad8_row2_col2,#T_daad8_row2_col3,#T_daad8_row2_col4,#T_daad8_row2_col5{\n",
       "            background-color:  #ff6666;\n",
       "        }</style><table id=\"T_daad8_\" ><thead>    <tr>        <th class=\"index_name level0\" >SMSSpamCollection_Dataset</th>        <th class=\"col_heading level0 col0\" >Model_name</th>        <th class=\"col_heading level0 col1\" >Search_strategy</th>        <th class=\"col_heading level0 col2\" >train_mean_absolute_error</th>        <th class=\"col_heading level0 col3\" >train_mean_squared_error</th>        <th class=\"col_heading level0 col4\" >test_mean_absolute_error</th>        <th class=\"col_heading level0 col5\" >test_mean_squared_error</th>    </tr></thead><tbody>\n",
       "                <tr>\n",
       "                        <th id=\"T_daad8_level0_row0\" class=\"row_heading level0 row0\" >0</th>\n",
       "                        <td id=\"T_daad8_row0_col0\" class=\"data row0 col0\" >SGDRegressor()</td>\n",
       "                        <td id=\"T_daad8_row0_col1\" class=\"data row0 col1\" >GridSearchCV</td>\n",
       "                        <td id=\"T_daad8_row0_col2\" class=\"data row0 col2\" >0.071283</td>\n",
       "                        <td id=\"T_daad8_row0_col3\" class=\"data row0 col3\" >0.017270</td>\n",
       "                        <td id=\"T_daad8_row0_col4\" class=\"data row0 col4\" >0.082515</td>\n",
       "                        <td id=\"T_daad8_row0_col5\" class=\"data row0 col5\" >0.022951</td>\n",
       "            </tr>\n",
       "            <tr>\n",
       "                        <th id=\"T_daad8_level0_row1\" class=\"row_heading level0 row1\" >1</th>\n",
       "                        <td id=\"T_daad8_row1_col0\" class=\"data row1 col0\" >RandomForestRegressor()</td>\n",
       "                        <td id=\"T_daad8_row1_col1\" class=\"data row1 col1\" >GridSearchCV</td>\n",
       "                        <td id=\"T_daad8_row1_col2\" class=\"data row1 col2\" >0.023676</td>\n",
       "                        <td id=\"T_daad8_row1_col3\" class=\"data row1 col3\" >0.007019</td>\n",
       "                        <td id=\"T_daad8_row1_col4\" class=\"data row1 col4\" >0.045939</td>\n",
       "                        <td id=\"T_daad8_row1_col5\" class=\"data row1 col5\" >0.023677</td>\n",
       "            </tr>\n",
       "            <tr>\n",
       "                        <th id=\"T_daad8_level0_row2\" class=\"row_heading level0 row2\" >2</th>\n",
       "                        <td id=\"T_daad8_row2_col0\" class=\"data row2 col0\" >Lasso()</td>\n",
       "                        <td id=\"T_daad8_row2_col1\" class=\"data row2 col1\" >GridSearchCV</td>\n",
       "                        <td id=\"T_daad8_row2_col2\" class=\"data row2 col2\" >0.152425</td>\n",
       "                        <td id=\"T_daad8_row2_col3\" class=\"data row2 col3\" >0.063174</td>\n",
       "                        <td id=\"T_daad8_row2_col4\" class=\"data row2 col4\" >0.153493</td>\n",
       "                        <td id=\"T_daad8_row2_col5\" class=\"data row2 col5\" >0.064383</td>\n",
       "            </tr>\n",
       "            <tr>\n",
       "                        <th id=\"T_daad8_level0_row3\" class=\"row_heading level0 row3\" >3</th>\n",
       "                        <td id=\"T_daad8_row3_col0\" class=\"data row3 col0\" >MLPRegressor()</td>\n",
       "                        <td id=\"T_daad8_row3_col1\" class=\"data row3 col1\" >GridSearchCV</td>\n",
       "                        <td id=\"T_daad8_row3_col2\" class=\"data row3 col2\" >0.051834</td>\n",
       "                        <td id=\"T_daad8_row3_col3\" class=\"data row3 col3\" >0.012641</td>\n",
       "                        <td id=\"T_daad8_row3_col4\" class=\"data row3 col4\" >0.063719</td>\n",
       "                        <td id=\"T_daad8_row3_col5\" class=\"data row3 col5\" >0.019776</td>\n",
       "            </tr>\n",
       "    </tbody></table>"
      ],
      "text/plain": [
       "<pandas.io.formats.style.Styler at 0x1d7bddb9910>"
      ]
     },
     "metadata": {},
     "output_type": "display_data"
    }
   ],
   "source": [
    "df_smsdata:pd.core.frame.DataFrame = dataset_regression('SMSSpamCollection_Dataset',x_sms,y_sms.reshape(-1))\n",
    "display(finishing(df_smsdata))"
   ]
  }
 ],
 "metadata": {
  "kernelspec": {
   "display_name": "Python 3",
   "language": "python",
   "name": "python3"
  },
  "language_info": {
   "codemirror_mode": {
    "name": "ipython",
    "version": 3
   },
   "file_extension": ".py",
   "mimetype": "text/x-python",
   "name": "python",
   "nbconvert_exporter": "python",
   "pygments_lexer": "ipython3",
   "version": "3.8.5"
  }
 },
 "nbformat": 4,
 "nbformat_minor": 4
}
