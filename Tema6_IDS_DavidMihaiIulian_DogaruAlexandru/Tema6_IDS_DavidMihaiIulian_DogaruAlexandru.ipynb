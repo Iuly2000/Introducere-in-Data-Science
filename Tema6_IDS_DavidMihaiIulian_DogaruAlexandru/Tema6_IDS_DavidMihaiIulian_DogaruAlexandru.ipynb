{
 "cells": [
  {
   "cell_type": "code",
   "execution_count": 22,
   "metadata": {},
   "outputs": [
    {
     "name": "stdout",
     "output_type": "stream",
     "text": [
      "NumPy version: 1.20.1\n",
      "Pandas version: 1.2.3\n",
      "Sklearn version: 0.24.1\n"
     ]
    }
   ],
   "source": [
    "import numpy as np\n",
    "print(f'NumPy version: {np.__version__}')\n",
    "\n",
    "import pandas as pd\n",
    "print(f'Pandas version: {pd.__version__}')\n",
    "\n",
    "import sklearn as sk\n",
    "from sklearn.model_selection import GridSearchCV\n",
    "from sklearn.model_selection import cross_validate\n",
    "from sklearn.preprocessing import OneHotEncoder\n",
    "from sklearn.feature_extraction.text import CountVectorizer\n",
    "from sklearn.model_selection import cross_val_score\n",
    "from sklearn.linear_model import SGDRegressor\n",
    "from sklearn.ensemble import RandomForestRegressor\n",
    "from sklearn.model_selection import RandomizedSearchCV\n",
    "from sklearn.neural_network import MLPRegressor\n",
    "print(f'Sklearn version: {sk.__version__}')\n",
    "\n",
    "#NumPy version: 1.20.1\n",
    "#Pandas version: 1.2.3\n",
    "#Sklearn version: 0.24.1"
   ]
  },
  {
   "cell_type": "code",
   "execution_count": 23,
   "metadata": {},
   "outputs": [],
   "source": [
    "smsdata = pd.read_csv('data/SMSSpamCollection', sep = '\\t', names=[\"label\", \"sms\"])"
   ]
  },
  {
   "cell_type": "code",
   "execution_count": 24,
   "metadata": {},
   "outputs": [],
   "source": [
    "text_x_sms = dataset[\"sms\"].values\n",
    "text_y_sms = dataset[\"label\"].values"
   ]
  },
  {
   "cell_type": "code",
   "execution_count": 25,
   "metadata": {},
   "outputs": [],
   "source": [
    "# enc = OneHotEncoder(handle_unknown='ignore')\n",
    "# enc.fit(text_Y.reshape(-1,1))\n",
    "# Y = enc.transform(text_Y.reshape(-1,1)).toarray()"
   ]
  },
  {
   "cell_type": "code",
   "execution_count": 26,
   "metadata": {},
   "outputs": [],
   "source": [
    "vect = CountVectorizer(max_features=1500, min_df=5, max_df=0.7)\n",
    "x_sms = vect.fit_transform(text_x_sms).toarray()\n",
    "y_sms = vect.fit_transform(text_y_sms).toarray()"
   ]
  },
  {
   "cell_type": "code",
   "execution_count": 27,
   "metadata": {},
   "outputs": [],
   "source": [
    "def show_metrics_regression(reg, parameters: dict, x: np.ndarray, y: np.ndarray) -> pd.core.frame.DataFrame:\n",
    "    \"\"\"\n",
    "    Shows the metrics('mean_absolute_error', 'mean_squared_error', 'median_absolute_error') of a regressor.\n",
    "    \n",
    "    Args:\n",
    "        reg: a regressor\n",
    "        parameters:a dictionary containning the hiperparameters\n",
    "        x: np.array containning the dataset information\n",
    "        y: np.array containning the classification of the data\n",
    "        \n",
    "    Returns:\n",
    "        a pandas dataframe with the metrics of a regressor\n",
    "    \"\"\"\n",
    "    gridsrc = GridSearchCV(estimator=reg, \n",
    "            param_grid=parameters, cv=3, n_jobs=-1, return_train_score=True)\n",
    "    randsrc = RandomizedSearchCV(estimator=reg,\n",
    "            param_distributions=parameters, n_iter=15, n_jobs=-1, return_train_score=True)\n",
    "    \n",
    "    scoring = ['neg_mean_absolute_error', 'neg_mean_squared_error']\n",
    "    \n",
    "    scores1 = cross_validate(gridsrc, x, y, cv=5, scoring=scoring, return_train_score=True)\n",
    "    scores2 = cross_validate(randsrc, x, y, cv=5, scoring=scoring, return_train_score=True)\n",
    "    \n",
    "    df1 = pd.DataFrame(data={'train_neg_mean_absolute_error': scores1['train_neg_mean_absolute_error'],\n",
    "                            'train_neg_mean_squared_error': scores1['train_neg_mean_squared_error'],                            \n",
    "                            'test_neg_mean_absolute_error': scores1['test_neg_mean_absolute_error'],\n",
    "                            'test_neg_mean_squared_error': scores1['test_neg_mean_squared_error']                            \n",
    "                           })\n",
    "    df2 = pd.DataFrame(data={'train_neg_mean_absolute_error': scores2['train_neg_mean_absolute_error'],\n",
    "                            'train_neg_mean_squared_error': scores2['train_neg_mean_squared_error'],                            \n",
    "                            'test_neg_mean_absolute_error':scores2['test_neg_mean_absolute_error'],\n",
    "                            'test_neg_mean_squared_error':scores2['test_neg_mean_squared_error']                            \n",
    "                           })\n",
    "    \n",
    "    result = pd.DataFrame([df1.mean(), df2.mean()])\n",
    "    result.insert(0, 'Model_name', [reg])\n",
    "    result.insert(1, 'Search_strategy', ['GridSearchCV'])\n",
    "    return result"
   ]
  },
  {
   "cell_type": "code",
   "execution_count": 28,
   "metadata": {},
   "outputs": [],
   "source": [
    "parameters_SGDRegressor:dict = {\n",
    "    'max_iter':[10000],\n",
    "    'loss': ['squared_loss','epsilon_insensitive','squared_epsilon_insensitive'],\n",
    "    'penalty' : ['l1', 'l2'],\n",
    "    'alpha' : [0.001, 0.01, 0.1, 1]\n",
    "}\n",
    "parameters_RandomForestRegressor:dict = {\n",
    "    'max_depth': [None, 10, 20],\n",
    "    'min_samples_split': [8, 10, 12],\n",
    "    'n_estimators': [10, 50, 100],\n",
    "    'n_jobs':[-1]\n",
    "}\n",
    "parameters_Lasso:dict = {\n",
    "    'alpha':[0.01,0.1,1],\n",
    "    'tol':[0.0001,0.001,0.01,0.1],\n",
    "    'selection':['cyclic','random']\n",
    "}\n",
    "parameters_MLPRegressor:dict = {\n",
    "    'max_iter':[10000],\n",
    "    'solver': ['sgd', 'adam'],\n",
    "    'alpha': [0.001, 0.01, 0.1, 1],\n",
    "    'tol':[0.0001, 0.001, 0.01]\n",
    "}"
   ]
  },
  {
   "cell_type": "code",
   "execution_count": 29,
   "metadata": {},
   "outputs": [],
   "source": [
    "def dataset_regression(name:str, x:np.ndarray, y:np.ndarray):\n",
    "    df1 = show_metrics_regression(SGDRegressor(), parameters_SGDRegressor, x, y)\n",
    "    df2 = show_metrics_regression(RandomForestRegressor(),parameters_RandomForestRegressor, x, y)\n",
    "    df3 = show_metrics_regression(Lasso(), parameters_Lasso, x, y)\n",
    "    df4 = show_metrics_regression(MLPRegressor(), parameters_MLPRegressor, x, y)    \n",
    "\n",
    "    df = pd.concat([df1, df2, df3, df4], axis=0, ignore_index=True)\n",
    "    df.columns.name = name\n",
    "\n",
    "    return df"
   ]
  },
  {
   "cell_type": "code",
   "execution_count": 30,
   "metadata": {},
   "outputs": [],
   "source": [
    "def highlight_max(s)->list:    \n",
    "    \"\"\"\n",
    "    Highlight the maximum in a dataframe red for maximum and green for minimum.\n",
    "    \"\"\"\n",
    "    \n",
    "    max_val:float = s.max()\n",
    "    min_val:float = s.min()\n",
    "    return ['background-color: #ff6666' if v==max_val and type(v)\n",
    "            else 'background-color: #bdfcc2'if v==min_val else '' for v in s]\n",
    "\n",
    "def finishing(df:pd.core.frame.DataFrame)->pd.core.frame.DataFrame:\n",
    "    \"\"\"\n",
    "    Args:\n",
    "        df:a dataframe\n",
    "    \n",
    "    Returns:\n",
    "        a dataframe with positive numbers and highlights the maximum and minimum.\n",
    "    \"\"\"\n",
    "    aux = df.columns.name\n",
    "    df.iloc[:, 2:] = df.iloc[:, 2:].abs()\n",
    "\n",
    "    df.columns = ['Model_name', 'Search_strategy',\n",
    "                  'train_mean_absolute_error', 'train_mean_squared_error',\n",
    "                   'test_mean_absolute_error','test_mean_squared_error']\n",
    "\n",
    "    df = df.style.apply(highlight_max, subset=df.columns[2:])\n",
    "    df.columns.name = aux\n",
    "    return df"
   ]
  },
  {
   "cell_type": "code",
   "execution_count": 31,
   "metadata": {},
   "outputs": [
    {
     "ename": "NameError",
     "evalue": "name 'SGDRegressor' is not defined",
     "output_type": "error",
     "traceback": [
      "\u001b[1;31m---------------------------------------------------------------------------\u001b[0m",
      "\u001b[1;31mNameError\u001b[0m                                 Traceback (most recent call last)",
      "\u001b[1;32m<ipython-input-31-7c0bb60a716c>\u001b[0m in \u001b[0;36m<module>\u001b[1;34m\u001b[0m\n\u001b[1;32m----> 1\u001b[1;33m \u001b[0mdf_smsdata\u001b[0m\u001b[1;33m:\u001b[0m\u001b[0mpd\u001b[0m\u001b[1;33m.\u001b[0m\u001b[0mcore\u001b[0m\u001b[1;33m.\u001b[0m\u001b[0mframe\u001b[0m\u001b[1;33m.\u001b[0m\u001b[0mDataFrame\u001b[0m \u001b[1;33m=\u001b[0m \u001b[0mdataset_regression\u001b[0m\u001b[1;33m(\u001b[0m\u001b[1;34m'SMSSpamCollection_Dataset'\u001b[0m\u001b[1;33m,\u001b[0m\u001b[0mx_sms\u001b[0m\u001b[1;33m,\u001b[0m\u001b[0my_sms\u001b[0m\u001b[1;33m)\u001b[0m\u001b[1;33m\u001b[0m\u001b[1;33m\u001b[0m\u001b[0m\n\u001b[0m\u001b[0;32m      2\u001b[0m \u001b[0mdisplay\u001b[0m\u001b[1;33m(\u001b[0m\u001b[0mfinishing\u001b[0m\u001b[1;33m(\u001b[0m\u001b[0mdf_smsdata\u001b[0m\u001b[1;33m)\u001b[0m\u001b[1;33m)\u001b[0m\u001b[1;33m\u001b[0m\u001b[1;33m\u001b[0m\u001b[0m\n",
      "\u001b[1;32m<ipython-input-29-97ecd6916c8d>\u001b[0m in \u001b[0;36mdataset_regression\u001b[1;34m(name, x, y)\u001b[0m\n\u001b[0;32m      1\u001b[0m \u001b[1;32mdef\u001b[0m \u001b[0mdataset_regression\u001b[0m\u001b[1;33m(\u001b[0m\u001b[0mname\u001b[0m\u001b[1;33m:\u001b[0m\u001b[0mstr\u001b[0m\u001b[1;33m,\u001b[0m \u001b[0mx\u001b[0m\u001b[1;33m:\u001b[0m\u001b[0mnp\u001b[0m\u001b[1;33m.\u001b[0m\u001b[0mndarray\u001b[0m\u001b[1;33m,\u001b[0m \u001b[0my\u001b[0m\u001b[1;33m:\u001b[0m\u001b[0mnp\u001b[0m\u001b[1;33m.\u001b[0m\u001b[0mndarray\u001b[0m\u001b[1;33m)\u001b[0m\u001b[1;33m:\u001b[0m\u001b[1;33m\u001b[0m\u001b[1;33m\u001b[0m\u001b[0m\n\u001b[1;32m----> 2\u001b[1;33m     \u001b[0mdf1\u001b[0m \u001b[1;33m=\u001b[0m \u001b[0mshow_metrics_regression\u001b[0m\u001b[1;33m(\u001b[0m\u001b[0mSGDRegressor\u001b[0m\u001b[1;33m(\u001b[0m\u001b[1;33m)\u001b[0m\u001b[1;33m,\u001b[0m \u001b[0mparameters_SGDRegressor\u001b[0m\u001b[1;33m,\u001b[0m \u001b[0mx\u001b[0m\u001b[1;33m,\u001b[0m \u001b[0my\u001b[0m\u001b[1;33m)\u001b[0m\u001b[1;33m\u001b[0m\u001b[1;33m\u001b[0m\u001b[0m\n\u001b[0m\u001b[0;32m      3\u001b[0m     \u001b[0mdf2\u001b[0m \u001b[1;33m=\u001b[0m \u001b[0mshow_metrics_regression\u001b[0m\u001b[1;33m(\u001b[0m\u001b[0mRandomForestRegressor\u001b[0m\u001b[1;33m(\u001b[0m\u001b[1;33m)\u001b[0m\u001b[1;33m,\u001b[0m\u001b[0mparameters_RandomForestRegressor\u001b[0m\u001b[1;33m,\u001b[0m \u001b[0mx\u001b[0m\u001b[1;33m,\u001b[0m \u001b[0my\u001b[0m\u001b[1;33m)\u001b[0m\u001b[1;33m\u001b[0m\u001b[1;33m\u001b[0m\u001b[0m\n\u001b[0;32m      4\u001b[0m     \u001b[0mdf3\u001b[0m \u001b[1;33m=\u001b[0m \u001b[0mshow_metrics_regression\u001b[0m\u001b[1;33m(\u001b[0m\u001b[0mLasso\u001b[0m\u001b[1;33m(\u001b[0m\u001b[1;33m)\u001b[0m\u001b[1;33m,\u001b[0m \u001b[0mparameters_Lasso\u001b[0m\u001b[1;33m,\u001b[0m \u001b[0mx\u001b[0m\u001b[1;33m,\u001b[0m \u001b[0my\u001b[0m\u001b[1;33m)\u001b[0m\u001b[1;33m\u001b[0m\u001b[1;33m\u001b[0m\u001b[0m\n\u001b[0;32m      5\u001b[0m     \u001b[0mdf4\u001b[0m \u001b[1;33m=\u001b[0m \u001b[0mshow_metrics_regression\u001b[0m\u001b[1;33m(\u001b[0m\u001b[0mMLPRegressor\u001b[0m\u001b[1;33m(\u001b[0m\u001b[1;33m)\u001b[0m\u001b[1;33m,\u001b[0m \u001b[0mparameters_MLPRegressor\u001b[0m\u001b[1;33m,\u001b[0m \u001b[0mx\u001b[0m\u001b[1;33m,\u001b[0m \u001b[0my\u001b[0m\u001b[1;33m)\u001b[0m\u001b[1;33m\u001b[0m\u001b[1;33m\u001b[0m\u001b[0m\n",
      "\u001b[1;31mNameError\u001b[0m: name 'SGDRegressor' is not defined"
     ]
    }
   ],
   "source": [
    "df_smsdata:pd.core.frame.DataFrame = dataset_regression('SMSSpamCollection_Dataset',x_sms,y_sms)\n",
    "display(finishing(df_smsdata))"
   ]
  },
  {
   "cell_type": "code",
   "execution_count": null,
   "metadata": {},
   "outputs": [],
   "source": []
  },
  {
   "cell_type": "code",
   "execution_count": null,
   "metadata": {},
   "outputs": [],
   "source": []
  },
  {
   "cell_type": "code",
   "execution_count": null,
   "metadata": {},
   "outputs": [],
   "source": []
  }
 ],
 "metadata": {
  "kernelspec": {
   "display_name": "Python 3",
   "language": "python",
   "name": "python3"
  },
  "language_info": {
   "codemirror_mode": {
    "name": "ipython",
    "version": 3
   },
   "file_extension": ".py",
   "mimetype": "text/x-python",
   "name": "python",
   "nbconvert_exporter": "python",
   "pygments_lexer": "ipython3",
   "version": "3.8.5"
  }
 },
 "nbformat": 4,
 "nbformat_minor": 4
}
